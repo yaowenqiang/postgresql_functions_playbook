{
    "metadata": {
        "kernelspec": {
            "name": "SQL",
            "display_name": "SQL",
            "language": "sql"
        },
        "language_info": {
            "name": "sql",
            "version": ""
        }
    },
    "nbformat_minor": 2,
    "nbformat": 4,
    "cells": [
        {
            "cell_type": "markdown",
            "source": [
                "# Character Types\n",
                "\n",
                "## Fixed length\n",
                "\n",
                "+ CHARACTER(n), CHAR(n)       ; fixed length, blank padded\n",
                "+ CHARACTER, CHAR             : 1 character\n",
                ""
            ],
            "metadata": {
                "azdata_cell_guid": "6189ec1f-6b76-4691-93a1-dd99df29585f"
            },
            "attachments": {}
        },
        {
            "cell_type": "code",
            "source": [
                "SELECT CAST('Arthur' as character(20)) as \"FirstName\",\n",
                "    'Dent'::char(20) as \"LastName\";\n",
                ""
            ],
            "metadata": {
                "azdata_cell_guid": "946efc9b-1789-4728-b1f2-244a2a0163a7",
                "language": "sql",
                "tags": [
                    "hide_input"
                ]
            },
            "outputs": [
                {
                    "output_type": "display_data",
                    "data": {
                        "text/html": "(1 row(s) affected)"
                    },
                    "metadata": {}
                },
                {
                    "output_type": "display_data",
                    "data": {
                        "text/html": "Total execution time: 00:00:00.001"
                    },
                    "metadata": {}
                },
                {
                    "output_type": "execute_result",
                    "metadata": {},
                    "execution_count": 8,
                    "data": {
                        "application/vnd.dataresource+json": {
                            "schema": {
                                "fields": [
                                    {
                                        "name": "FirstName"
                                    },
                                    {
                                        "name": "LastName"
                                    }
                                ]
                            },
                            "data": [
                                {
                                    "FirstName": "Arthur              ",
                                    "LastName": "Dent                "
                                }
                            ]
                        },
                        "text/html": [
                            "<table>",
                            "<tr><th>FirstName</th><th>LastName</th></tr>",
                            "<tr><td>Arthur              </td><td>Dent                </td></tr>",
                            "</table>"
                        ]
                    }
                }
            ],
            "execution_count": 8
        },
        {
            "cell_type": "markdown",
            "source": [
                "## Variable length, with a limit\n",
                "\n",
                "CHARACTER VARYING(n), VARCHAR(n)"
            ],
            "metadata": {
                "azdata_cell_guid": "4a8cbf15-2c8f-456b-980b-84756b6597e3"
            },
            "attachments": {}
        },
        {
            "cell_type": "code",
            "source": [
                "SELECT CAST('Trillian' as character varying(50)) as \"FirstName\",\n",
                "'Astra'::varchar(50) as \"lastName\";"
            ],
            "metadata": {
                "azdata_cell_guid": "2e9f882e-6bdc-4425-a505-79268f045345",
                "language": "sql"
            },
            "outputs": [
                {
                    "output_type": "display_data",
                    "data": {
                        "text/html": "(1 row(s) affected)"
                    },
                    "metadata": {}
                },
                {
                    "output_type": "display_data",
                    "data": {
                        "text/html": "Total execution time: 00:00:00.001"
                    },
                    "metadata": {}
                },
                {
                    "output_type": "execute_result",
                    "metadata": {},
                    "execution_count": 10,
                    "data": {
                        "application/vnd.dataresource+json": {
                            "schema": {
                                "fields": [
                                    {
                                        "name": "FirstName"
                                    },
                                    {
                                        "name": "lastName"
                                    }
                                ]
                            },
                            "data": [
                                {
                                    "FirstName": "Trillian",
                                    "lastName": "Astra"
                                }
                            ]
                        },
                        "text/html": [
                            "<table>",
                            "<tr><th>FirstName</th><th>lastName</th></tr>",
                            "<tr><td>Trillian</td><td>Astra</td></tr>",
                            "</table>"
                        ]
                    }
                }
            ],
            "execution_count": 10
        },
        {
            "cell_type": "markdown",
            "source": [
                "## Variable length, any size\n",
                "\n",
                "CHARACTER VARYING, CHAR VARYING, VARCHAR, TEXT"
            ],
            "metadata": {
                "azdata_cell_guid": "a1796ba3-6640-4991-8478-07d41dd86278"
            },
            "attachments": {}
        },
        {
            "cell_type": "code",
            "source": [
                "SELECT VARCHAR 'Lorem ipsum dolor sit amet, consectetur adipiscing elit.' AS \"LoremIpsum\",\n",
                "CHAR varying 'Donec fermentum eleifend vestibulum' AS \"DonecFermentum\",\n",
                "TEXT 'vivamus eros enim, iaculis ac purus ut, faucibus eleifend massa' AS \"vivamusEros\""
            ],
            "metadata": {
                "azdata_cell_guid": "deb8a514-3a8d-48bd-abdb-bb897035dfcc",
                "language": "sql"
            },
            "outputs": [
                {
                    "output_type": "display_data",
                    "data": {
                        "text/html": "(1 row(s) affected)"
                    },
                    "metadata": {}
                },
                {
                    "output_type": "display_data",
                    "data": {
                        "text/html": "Total execution time: 00:00:00.001"
                    },
                    "metadata": {}
                },
                {
                    "output_type": "execute_result",
                    "metadata": {},
                    "execution_count": 16,
                    "data": {
                        "application/vnd.dataresource+json": {
                            "schema": {
                                "fields": [
                                    {
                                        "name": "LoremIpsum"
                                    },
                                    {
                                        "name": "DonecFermentum"
                                    },
                                    {
                                        "name": "vivamusEros"
                                    }
                                ]
                            },
                            "data": [
                                {
                                    "LoremIpsum": "Lorem ipsum dolor sit amet, consectetur adipiscing elit.",
                                    "DonecFermentum": "Donec fermentum eleifend vestibulum",
                                    "vivamusEros": "vivamus eros enim, iaculis ac purus ut, faucibus eleifend massa"
                                }
                            ]
                        },
                        "text/html": [
                            "<table>",
                            "<tr><th>LoremIpsum</th><th>DonecFermentum</th><th>vivamusEros</th></tr>",
                            "<tr><td>Lorem ipsum dolor sit amet, consectetur adipiscing elit.</td><td>Donec fermentum eleifend vestibulum</td><td>vivamus eros enim, iaculis ac purus ut, faucibus eleifend massa</td></tr>",
                            "</table>"
                        ]
                    }
                }
            ],
            "execution_count": 16
        },
        {
            "cell_type": "markdown",
            "source": [
                "## Binary Type\n",
                "\n",
                "Variable length binary string\n",
                "\n",
                "BYTEA : 1 or 4 bytes plus the length of the binary string"
            ],
            "metadata": {
                "azdata_cell_guid": "0f3b9107-dbf8-4b26-b776-4be3c4cd4203"
            },
            "attachments": {}
        },
        {
            "cell_type": "code",
            "source": [
                "select '\\xDEADBEEF' as \"Hex Format\",\n",
                "'\\077'::BYTEA as \"Escape Format\";"
            ],
            "metadata": {
                "azdata_cell_guid": "80889a62-7d90-4480-b16a-13caaf503a35",
                "language": "sql"
            },
            "outputs": [
                {
                    "output_type": "display_data",
                    "data": {
                        "text/html": "(1 row(s) affected)"
                    },
                    "metadata": {}
                },
                {
                    "output_type": "display_data",
                    "data": {
                        "text/html": "Total execution time: 00:00:00.001"
                    },
                    "metadata": {}
                },
                {
                    "output_type": "execute_result",
                    "metadata": {},
                    "execution_count": 19,
                    "data": {
                        "application/vnd.dataresource+json": {
                            "schema": {
                                "fields": [
                                    {
                                        "name": "Hex Format"
                                    },
                                    {
                                        "name": "Escape Format"
                                    }
                                ]
                            },
                            "data": [
                                {
                                    "Hex Format": "\\xDEADBEEF",
                                    "Escape Format": "\\x3f"
                                }
                            ]
                        },
                        "text/html": [
                            "<table>",
                            "<tr><th>Hex Format</th><th>Escape Format</th></tr>",
                            "<tr><td>\\xDEADBEEF</td><td>\\x3f</td></tr>",
                            "</table>"
                        ]
                    }
                }
            ],
            "execution_count": 19
        },
        {
            "cell_type": "markdown",
            "source": [
                "## Numeric Types"
            ],
            "metadata": {
                "azdata_cell_guid": "df5aef69-676d-4250-b3ea-9a82ba771074"
            },
            "attachments": {}
        },
        {
            "cell_type": "markdown",
            "source": [
                "SMALLINT, INT2    : 2 bytes, -2^15 to +2^15 -1\n",
                "\n",
                "INTEGER, INT, INT4 : 4 ytes, -2^32 to +2^31 -1\n",
                "\n",
                "BIGINT, INT8       : 8 bytes, -2^64 to +2^63 -1\n",
                "\n",
                ""
            ],
            "metadata": {
                "azdata_cell_guid": "aa8cb456-e4c8-465f-9803-92d611f1bba8"
            },
            "attachments": {}
        },
        {
            "cell_type": "markdown",
            "source": [
                ""
            ],
            "metadata": {
                "azdata_cell_guid": "ff632fd4-3dca-4365-8576-44d5612314f1"
            }
        },
        {
            "cell_type": "code",
            "source": [
                "SELECT cast(2^15 -1 as smallint) as \"smallint or int2\",\n",
                "        cast(2^31 -1 as integer) as \"integer or int4\",\n",
                "        cast(-2^63 -1 as bigint) as \"bigint or int8\";"
            ],
            "metadata": {
                "azdata_cell_guid": "609611cd-39c4-4f5d-8604-ad8588157c9e",
                "language": "sql"
            },
            "outputs": [
                {
                    "output_type": "display_data",
                    "data": {
                        "text/html": "(1 row(s) affected)"
                    },
                    "metadata": {}
                },
                {
                    "output_type": "display_data",
                    "data": {
                        "text/html": "Total execution time: 00:00:00.001"
                    },
                    "metadata": {}
                },
                {
                    "output_type": "execute_result",
                    "metadata": {},
                    "execution_count": 25,
                    "data": {
                        "application/vnd.dataresource+json": {
                            "schema": {
                                "fields": [
                                    {
                                        "name": "smallint or int2"
                                    },
                                    {
                                        "name": "integer or int4"
                                    },
                                    {
                                        "name": "bigint or int8"
                                    }
                                ]
                            },
                            "data": [
                                {
                                    "smallint or int2": "32767",
                                    "integer or int4": "2147483647",
                                    "bigint or int8": "-9223372036854775808"
                                }
                            ]
                        },
                        "text/html": [
                            "<table>",
                            "<tr><th>smallint or int2</th><th>integer or int4</th><th>bigint or int8</th></tr>",
                            "<tr><td>32767</td><td>2147483647</td><td>-9223372036854775808</td></tr>",
                            "</table>"
                        ]
                    }
                }
            ],
            "execution_count": 25
        },
        {
            "cell_type": "markdown",
            "source": [
                "## Arbitray Precision Numbers(exact)\n",
                "\n",
                "numeric(precision, scale), decimal(precision, scale)\n",
                "\n",
                "numeric(precision), decimal(precision)\n",
                "\n",
                "numeric, decimal"
            ],
            "metadata": {
                "language": "sql",
                "azdata_cell_guid": "bae6f2ab-0f60-4848-adb1-80609f199027"
            },
            "attachments": {}
        },
        {
            "cell_type": "markdown",
            "source": [
                "> up to 131072 digits before the decimal point, up to 16383 digits after the decimal point\n",
                ""
            ],
            "metadata": {
                "language": "sql",
                "azdata_cell_guid": "743c3e9a-ccaf-4d97-ba94-bedba5d33c6e"
            },
            "attachments": {}
        },
        {
            "cell_type": "code",
            "source": [
                "SELECT cast(3.1415936 as numeric(8,7)) as pi;\n",
                "create table foo (bar numeric(1000));\n",
                "drop TABLE foo;\n",
                "select cast('NAN' as numeric) as 'NaN'"
            ],
            "metadata": {
                "language": "sql",
                "azdata_cell_guid": "18aed45b-acc4-4e2c-b617-10192a2463a9"
            },
            "outputs": [
                {
                    "output_type": "display_data",
                    "data": {
                        "text/html": "(1 row(s) affected)"
                    },
                    "metadata": {}
                },
                {
                    "output_type": "display_data",
                    "data": {
                        "text/html": "Total execution time: 00:00:00.002"
                    },
                    "metadata": {}
                },
                {
                    "output_type": "execute_result",
                    "metadata": {},
                    "execution_count": 26,
                    "data": {
                        "application/vnd.dataresource+json": {
                            "schema": {
                                "fields": [
                                    {
                                        "name": "pi"
                                    }
                                ]
                            },
                            "data": [
                                {
                                    "pi": "3.1415936"
                                }
                            ]
                        },
                        "text/html": [
                            "<table>",
                            "<tr><th>pi</th></tr>",
                            "<tr><td>3.1415936</td></tr>",
                            "</table>"
                        ]
                    }
                }
            ],
            "execution_count": 26
        },
        {
            "cell_type": "code",
            "source": [
                "\n",
                "select cast('NAN' as numeric) as \"NaN\""
            ],
            "metadata": {
                "language": "sql",
                "azdata_cell_guid": "10853fc9-b438-47ba-91f1-5b0d0959f014"
            },
            "outputs": [
                {
                    "output_type": "display_data",
                    "data": {
                        "text/html": "(1 row(s) affected)"
                    },
                    "metadata": {}
                },
                {
                    "output_type": "display_data",
                    "data": {
                        "text/html": "Total execution time: 00:00:00.002"
                    },
                    "metadata": {}
                },
                {
                    "output_type": "execute_result",
                    "metadata": {},
                    "execution_count": 28,
                    "data": {
                        "application/vnd.dataresource+json": {
                            "schema": {
                                "fields": [
                                    {
                                        "name": "NaN"
                                    }
                                ]
                            },
                            "data": [
                                {
                                    "NaN": "NaN"
                                }
                            ]
                        },
                        "text/html": [
                            "<table>",
                            "<tr><th>NaN</th></tr>",
                            "<tr><td>NaN</td></tr>",
                            "</table>"
                        ]
                    }
                }
            ],
            "execution_count": 28
        },
        {
            "cell_type": "markdown",
            "source": [
                "## Floating Point Types (approximate)\n",
                "\n",
                "REAL, FLOAT4      : 4 bytes, IEEE Standard 754 single precision, 1E-37 to 1E+37 with a6 digits of precision\n",
                "\n",
                "DOUBLE, PRECISION, FLOAT8;  8 bytes, IEEE Standard 754 double precision, 1E-307 to 1E+308 with 15 digits of precision\n",
                "\n",
                "FLOAT(n)         : explicit precision in bits, n in the range 1 to 53"
            ],
            "metadata": {
                "language": "sql",
                "azdata_cell_guid": "0d6aa7b9-66df-4c21-8693-59726d6f20fa"
            },
            "attachments": {}
        },
        {
            "cell_type": "code",
            "source": [
                "select 3.1415936::REAL as \"Real Pi\",\n",
                "3.1415936   ::double precision as \"Double Precision Pi\",\n",
                "'3.1415936'   ::float(53) = '3.1415936'::real as \"Are they equal?\"\n",
                ""
            ],
            "metadata": {
                "language": "sql",
                "azdata_cell_guid": "a0fdfc89-5987-43a3-a17b-1e4476b02079"
            },
            "outputs": [
                {
                    "output_type": "display_data",
                    "data": {
                        "text/html": "(1 row(s) affected)"
                    },
                    "metadata": {}
                },
                {
                    "output_type": "display_data",
                    "data": {
                        "text/html": "Total execution time: 00:00:00.001"
                    },
                    "metadata": {}
                },
                {
                    "output_type": "execute_result",
                    "metadata": {},
                    "execution_count": 38,
                    "data": {
                        "application/vnd.dataresource+json": {
                            "schema": {
                                "fields": [
                                    {
                                        "name": "Real Pi"
                                    },
                                    {
                                        "name": "Double Precision Pi"
                                    },
                                    {
                                        "name": "Are they equal?"
                                    }
                                ]
                            },
                            "data": [
                                {
                                    "Real Pi": "3.1415937",
                                    "Double Precision Pi": "3.1415936",
                                    "Are they equal?": "False"
                                }
                            ]
                        },
                        "text/html": [
                            "<table>",
                            "<tr><th>Real Pi</th><th>Double Precision Pi</th><th>Are they equal?</th></tr>",
                            "<tr><td>3.1415937</td><td>3.1415936</td><td>False</td></tr>",
                            "</table>"
                        ]
                    }
                }
            ],
            "execution_count": 38
        },
        {
            "cell_type": "markdown",
            "source": [
                "## Monetary Types(exct)\n",
                "\n",
                "\n",
                "money : 8bytes, currency amount\n",
                ""
            ],
            "metadata": {
                "language": "sql",
                "azdata_cell_guid": "5b9ba369-e9f9-497f-bc64-745ae336d6ef"
            },
            "attachments": {}
        },
        {
            "cell_type": "code",
            "source": [
                "select cast('$1000.00' as money) as \"Dollar Amount\""
            ],
            "metadata": {
                "language": "sql",
                "azdata_cell_guid": "c8486473-77a0-4f7d-bfc1-af510e74db45"
            },
            "outputs": [
                {
                    "output_type": "display_data",
                    "data": {
                        "text/html": "(1 row(s) affected)"
                    },
                    "metadata": {}
                },
                {
                    "output_type": "display_data",
                    "data": {
                        "text/html": "Total execution time: 00:00:00.003"
                    },
                    "metadata": {}
                },
                {
                    "output_type": "execute_result",
                    "metadata": {},
                    "execution_count": 42,
                    "data": {
                        "application/vnd.dataresource+json": {
                            "schema": {
                                "fields": [
                                    {
                                        "name": "Dollar Amount"
                                    }
                                ]
                            },
                            "data": [
                                {
                                    "Dollar Amount": "$1,000.00"
                                }
                            ]
                        },
                        "text/html": [
                            "<table>",
                            "<tr><th>Dollar Amount</th></tr>",
                            "<tr><td>$1,000.00</td></tr>",
                            "</table>"
                        ]
                    }
                }
            ],
            "execution_count": 42
        },
        {
            "cell_type": "markdown",
            "source": [
                "## Date and Time Types\n",
                "\n",
                "Date and Time\n",
                "\n",
                "TIMESTAMP(p) [without time zone] : 8 bytes, 4713 BC to 5874897 AD\n",
                "\n",
                "TIMESTAMP(p) WITH TIME ZONE : 8 bytes, 4713 BC to 5874897 AD\n",
                "\n",
                "TIMESTAMP [WITHOUT TIME ZONE] : 8 bytes, 4713 BC to 5874897 AD\n",
                "\n",
                "TIMESTAMP WITH TIME ZONE : 8 bytes, 4713 BC to 5874897 AD"
            ],
            "metadata": {
                "language": "sql",
                "azdata_cell_guid": "99c1aada-9ae3-4193-9d02-a97cdfb36b37"
            },
            "attachments": {}
        },
        {
            "cell_type": "code",
            "source": [
                "select '20190314'::timestamp(6) as \"TimeStamp, no time zone\",\n",
                "'July 10, 2010 EST'::timestamp WITH TIME ZONE as \"TimeStamp, with time zone\""
            ],
            "metadata": {
                "language": "sql",
                "azdata_cell_guid": "e14224e6-4461-4c3c-a340-0906f64e6fb2"
            },
            "outputs": [
                {
                    "output_type": "display_data",
                    "data": {
                        "text/html": "(1 row(s) affected)"
                    },
                    "metadata": {}
                },
                {
                    "output_type": "display_data",
                    "data": {
                        "text/html": "Total execution time: 00:00:00.001"
                    },
                    "metadata": {}
                },
                {
                    "output_type": "execute_result",
                    "metadata": {},
                    "execution_count": 44,
                    "data": {
                        "application/vnd.dataresource+json": {
                            "schema": {
                                "fields": [
                                    {
                                        "name": "TimeStamp, no time zone"
                                    },
                                    {
                                        "name": "TimeStamp, with time zone"
                                    }
                                ]
                            },
                            "data": [
                                {
                                    "TimeStamp, no time zone": "2019-03-14 00:00:00",
                                    "TimeStamp, with time zone": "2010-07-10 13:00:00+08"
                                }
                            ]
                        },
                        "text/html": [
                            "<table>",
                            "<tr><th>TimeStamp, no time zone</th><th>TimeStamp, with time zone</th></tr>",
                            "<tr><td>2019-03-14 00:00:00</td><td>2010-07-10 13:00:00+08</td></tr>",
                            "</table>"
                        ]
                    }
                }
            ],
            "execution_count": 44
        },
        {
            "cell_type": "markdown",
            "source": [
                "## Interval\n",
                "\n",
                "INTERVAL(p) : 16 bytes, -170000000 years to 170000000 years\n",
                "\n",
                "INTERVAL    : 16 bytes, -170000000 years to 170000000 years"
            ],
            "metadata": {
                "language": "sql",
                "azdata_cell_guid": "c0e45554-3761-4ce7-a765-514ff967d200"
            },
            "attachments": {}
        },
        {
            "cell_type": "code",
            "source": [
                "select CURRENT_TIMESTAMP - 'Jan 1 1900'::timestamp as \"Time since Jan 1 1900\",\n",
                "'18 hours, 30 minutes ago'::INTERVAL as \"10 and a half hour ago\";"
            ],
            "metadata": {
                "azdata_cell_guid": "3bb7f1f0-9c21-4eee-889f-b82100b7bb0f",
                "language": "sql"
            },
            "outputs": [
                {
                    "output_type": "display_data",
                    "data": {
                        "text/html": "(1 row(s) affected)"
                    },
                    "metadata": {}
                },
                {
                    "output_type": "display_data",
                    "data": {
                        "text/html": "Total execution time: 00:00:00.001"
                    },
                    "metadata": {}
                },
                {
                    "output_type": "execute_result",
                    "metadata": {},
                    "execution_count": 48,
                    "data": {
                        "application/vnd.dataresource+json": {
                            "schema": {
                                "fields": [
                                    {
                                        "name": "Time since Jan 1 1900"
                                    },
                                    {
                                        "name": "10 and a half hour ago"
                                    }
                                ]
                            },
                            "data": [
                                {
                                    "Time since Jan 1 1900": "45533 days 17:01:09.406911",
                                    "10 and a half hour ago": "-18:30:00"
                                }
                            ]
                        },
                        "text/html": [
                            "<table>",
                            "<tr><th>Time since Jan 1 1900</th><th>10 and a half hour ago</th></tr>",
                            "<tr><td>45533 days 17:01:09.406911</td><td>-18:30:00</td></tr>",
                            "</table>"
                        ]
                    }
                }
            ],
            "execution_count": 48
        },
        {
            "cell_type": "markdown",
            "source": [
                "## Date\n",
                "\n",
                "DATE : 4 bytes, 4713 BD to 5874897 AD\n",
                ""
            ],
            "metadata": {
                "language": "sql",
                "azdata_cell_guid": "f2d3b403-6823-454c-b460-2e8a9997f8fc"
            },
            "attachments": {}
        },
        {
            "cell_type": "code",
            "source": [
                "SELECT 'June 2, 1953'::DATE as \"Coronation of Elizabeth II\""
            ],
            "metadata": {
                "language": "sql",
                "azdata_cell_guid": "fb940fda-d523-4a27-ba7d-f508136b431e"
            },
            "outputs": [
                {
                    "output_type": "display_data",
                    "data": {
                        "text/html": "(1 row(s) affected)"
                    },
                    "metadata": {}
                },
                {
                    "output_type": "display_data",
                    "data": {
                        "text/html": "Total execution time: 00:00:00.001"
                    },
                    "metadata": {}
                },
                {
                    "output_type": "execute_result",
                    "metadata": {},
                    "execution_count": 51,
                    "data": {
                        "application/vnd.dataresource+json": {
                            "schema": {
                                "fields": [
                                    {
                                        "name": "Coronation of Elizabeth II"
                                    }
                                ]
                            },
                            "data": [
                                {
                                    "Coronation of Elizabeth II": "1953-06-02"
                                }
                            ]
                        },
                        "text/html": [
                            "<table>",
                            "<tr><th>Coronation of Elizabeth II</th></tr>",
                            "<tr><td>1953-06-02</td></tr>",
                            "</table>"
                        ]
                    }
                }
            ],
            "execution_count": 51
        },
        {
            "cell_type": "markdown",
            "source": [
                "## Time\n",
                "\n",
                "TIME(p) [WITHOUT TIME ZONE] : 8 bytes, 4713 BC to 5874897 AD\n",
                "\n",
                "TIME(p) WITH TIME ZONE : 12 bytes, 4713 BC to 5874897 AD\n",
                "\n",
                "TIME [WITHOUT TIME ZONE] : 8 bytes, 4713 BC to 5874897 AD\n",
                "\n",
                "TIME WITH TIME ZONE : 8 bytes, 4713 BC to 5874897 AD"
            ],
            "metadata": {
                "language": "sql",
                "azdata_cell_guid": "da8e9850-e044-40e0-8f1c-a0a9bac7f8ac"
            },
            "attachments": {}
        },
        {
            "cell_type": "code",
            "source": [
                "select '00:00:00'::time(6) as \"The Midnight Hour\",\n",
                "'12:00:00 CET'::TIME WITH TIME ZONE AS \"High Noon in Amsterdam\";"
            ],
            "metadata": {
                "language": "sql",
                "azdata_cell_guid": "7e056729-f320-4fd6-9907-91438f9b3516"
            },
            "outputs": [
                {
                    "output_type": "display_data",
                    "data": {
                        "text/html": "(1 row(s) affected)"
                    },
                    "metadata": {}
                },
                {
                    "output_type": "display_data",
                    "data": {
                        "text/html": "Total execution time: 00:00:00.001"
                    },
                    "metadata": {}
                },
                {
                    "output_type": "execute_result",
                    "metadata": {},
                    "execution_count": 53,
                    "data": {
                        "application/vnd.dataresource+json": {
                            "schema": {
                                "fields": [
                                    {
                                        "name": "The Midnight Hour"
                                    },
                                    {
                                        "name": "High Noon in Amsterdam"
                                    }
                                ]
                            },
                            "data": [
                                {
                                    "The Midnight Hour": "00:00:00",
                                    "High Noon in Amsterdam": "12:00:00+01"
                                }
                            ]
                        },
                        "text/html": [
                            "<table>",
                            "<tr><th>The Midnight Hour</th><th>High Noon in Amsterdam</th></tr>",
                            "<tr><td>00:00:00</td><td>12:00:00+01</td></tr>",
                            "</table>"
                        ]
                    }
                }
            ],
            "execution_count": 53
        },
        {
            "cell_type": "markdown",
            "source": [
                "## Boolean Type\n",
                "\n",
                "BOOLEAN, BOOL : 1 byte, TRUE, FALSE or NUll\n",
                ""
            ],
            "metadata": {
                "language": "sql",
                "azdata_cell_guid": "4dcd1c65-ecaa-442c-9eae-45ea6a5d3cd8"
            },
            "attachments": {}
        },
        {
            "cell_type": "code",
            "source": [
                "select 1 :: boolean as \"True\",\n",
                " 0 :: boolean as \"False\",\n",
                " 't' :: boolean as \"True\",\n",
                " 'f' :: boolean as \"False\",\n",
                " 'y' :: boolean as \"True\",\n",
                " 'Y' :: boolean as \"True\",\n",
                " 'n' :: boolean as \"False\",\n",
                " 'N' :: boolean as \"False\",\n",
                " NULL::BOOL  as \"Unknown\";\n",
                ""
            ],
            "metadata": {
                "language": "sql",
                "azdata_cell_guid": "4c38e3e5-c12b-461e-84b1-50536b64c721"
            },
            "outputs": [
                {
                    "output_type": "display_data",
                    "data": {
                        "text/html": "(1 row(s) affected)"
                    },
                    "metadata": {}
                },
                {
                    "output_type": "display_data",
                    "data": {
                        "text/html": "Total execution time: 00:00:00.001"
                    },
                    "metadata": {}
                },
                {
                    "output_type": "execute_result",
                    "metadata": {},
                    "execution_count": 56,
                    "data": {
                        "application/vnd.dataresource+json": {
                            "schema": {
                                "fields": [
                                    {
                                        "name": "True"
                                    },
                                    {
                                        "name": "False"
                                    },
                                    {
                                        "name": "True"
                                    },
                                    {
                                        "name": "False"
                                    },
                                    {
                                        "name": "True"
                                    },
                                    {
                                        "name": "True"
                                    },
                                    {
                                        "name": "False"
                                    },
                                    {
                                        "name": "False"
                                    },
                                    {
                                        "name": "Unknown"
                                    }
                                ]
                            },
                            "data": [
                                {
                                    "True": "True",
                                    "False": "False",
                                    "Unknown": "NULL"
                                }
                            ]
                        },
                        "text/html": [
                            "<table>",
                            "<tr><th>True</th><th>False</th><th>True</th><th>False</th><th>True</th><th>True</th><th>False</th><th>False</th><th>Unknown</th></tr>",
                            "<tr><td>True</td><td>False</td><td>True</td><td>False</td><td>True</td><td>True</td><td>False</td><td>False</td><td>NULL</td></tr>",
                            "</table>"
                        ]
                    }
                }
            ],
            "execution_count": 56
        },
        {
            "cell_type": "code",
            "source": [
                "select TRUE, FALSE;"
            ],
            "metadata": {
                "azdata_cell_guid": "95e593ac-3b3b-423b-b5fa-939fb7517f9a",
                "language": "sql"
            },
            "outputs": [
                {
                    "output_type": "display_data",
                    "data": {
                        "text/html": "(1 row(s) affected)"
                    },
                    "metadata": {}
                },
                {
                    "output_type": "display_data",
                    "data": {
                        "text/html": "Total execution time: 00:00:00.001"
                    },
                    "metadata": {}
                },
                {
                    "output_type": "execute_result",
                    "metadata": {},
                    "execution_count": 58,
                    "data": {
                        "application/vnd.dataresource+json": {
                            "schema": {
                                "fields": [
                                    {
                                        "name": "bool"
                                    },
                                    {
                                        "name": "bool"
                                    }
                                ]
                            },
                            "data": [
                                {
                                    "bool": "False"
                                }
                            ]
                        },
                        "text/html": [
                            "<table>",
                            "<tr><th>bool</th><th>bool</th></tr>",
                            "<tr><td>True</td><td>False</td></tr>",
                            "</table>"
                        ]
                    }
                }
            ],
            "execution_count": 58
        },
        {
            "cell_type": "markdown",
            "source": [
                "## Array Types\n",
                "\n",
                "\n",
                "### <type>[]\n",
                "\n",
                "> NOTE: postgresql array index start from 1\n",
                ""
            ],
            "metadata": {
                "language": "sql",
                "azdata_cell_guid": "421482d8-55b2-4d75-b73b-387bf1b8722f"
            },
            "attachments": {}
        },
        {
            "cell_type": "code",
            "source": [
                "select array[1,2,3]::integer[] as \"Array of integers\",\n",
                "cast('{4,5,6}' as float[]) as \"Another array of real numbers\",\n",
                "'{7,8.9}'::varchar[] as \"An array of text items\";"
            ],
            "metadata": {
                "language": "sql",
                "azdata_cell_guid": "291127bb-aef8-4ea7-8102-61bb8240b8c2"
            },
            "outputs": [
                {
                    "output_type": "display_data",
                    "data": {
                        "text/html": "(1 row(s) affected)"
                    },
                    "metadata": {}
                },
                {
                    "output_type": "display_data",
                    "data": {
                        "text/html": "Total execution time: 00:00:00.001"
                    },
                    "metadata": {}
                },
                {
                    "output_type": "execute_result",
                    "metadata": {},
                    "execution_count": 61,
                    "data": {
                        "application/vnd.dataresource+json": {
                            "schema": {
                                "fields": [
                                    {
                                        "name": "Array of integers"
                                    },
                                    {
                                        "name": "Another array of real numbers"
                                    },
                                    {
                                        "name": "An array of text items"
                                    }
                                ]
                            },
                            "data": [
                                {
                                    "Array of integers": "{1,2,3}",
                                    "Another array of real numbers": "{4,5,6}",
                                    "An array of text items": "{7,8.9}"
                                }
                            ]
                        },
                        "text/html": [
                            "<table>",
                            "<tr><th>Array of integers</th><th>Another array of real numbers</th><th>An array of text items</th></tr>",
                            "<tr><td>{1,2,3}</td><td>{4,5,6}</td><td>{7,8.9}</td></tr>",
                            "</table>"
                        ]
                    }
                }
            ],
            "execution_count": 61
        },
        {
            "cell_type": "code",
            "source": [
                "select (array['a', 'b','c']::char[])[1] as \"First entry in a character array\";"
            ],
            "metadata": {
                "language": "sql",
                "azdata_cell_guid": "8e2a8e88-153c-4471-9835-bd9a5b8dbc32"
            },
            "outputs": [
                {
                    "output_type": "display_data",
                    "data": {
                        "text/html": "(1 row(s) affected)"
                    },
                    "metadata": {}
                },
                {
                    "output_type": "display_data",
                    "data": {
                        "text/html": "Total execution time: 00:00:00.001"
                    },
                    "metadata": {}
                },
                {
                    "output_type": "execute_result",
                    "metadata": {},
                    "execution_count": 62,
                    "data": {
                        "application/vnd.dataresource+json": {
                            "schema": {
                                "fields": [
                                    {
                                        "name": "array"
                                    }
                                ]
                            },
                            "data": [
                                {
                                    "array": "a"
                                }
                            ]
                        },
                        "text/html": [
                            "<table>",
                            "<tr><th>array</th></tr>",
                            "<tr><td>a</td></tr>",
                            "</table>"
                        ]
                    }
                }
            ],
            "execution_count": 62
        },
        {
            "cell_type": "markdown",
            "source": [
                "## UUID Type\n",
                "\n",
                "uuid : 16 bytes(128 bits), written as 32 hexadecimal digits\n",
                ""
            ],
            "metadata": {
                "language": "sql",
                "azdata_cell_guid": "04fc40c0-7328-49cd-87de-eeb41c0adecb"
            },
            "attachments": {}
        },
        {
            "cell_type": "code",
            "source": [
                "select 'a0eebc99-9c0b-4ef8-bb6d-6bb9bd380a11'::UUID as \"lower case uuid\",\n",
                "'A0EEBC99-9C0B-4EF8-BB6D-6BB9BD380A11'::UUID as \"lower case uuid\",\n",
                "'a0eebc999c0b4ef8bb6d6bb9bd380a11'::UUID as \"ungrouped uuid\";"
            ],
            "metadata": {
                "language": "sql",
                "azdata_cell_guid": "01f813ae-6edc-4063-86db-9f70fee45615"
            },
            "outputs": [
                {
                    "output_type": "display_data",
                    "data": {
                        "text/html": "(1 row(s) affected)"
                    },
                    "metadata": {}
                },
                {
                    "output_type": "display_data",
                    "data": {
                        "text/html": "Total execution time: 00:00:00.001"
                    },
                    "metadata": {}
                },
                {
                    "output_type": "execute_result",
                    "metadata": {},
                    "execution_count": 66,
                    "data": {
                        "application/vnd.dataresource+json": {
                            "schema": {
                                "fields": [
                                    {
                                        "name": "lower case uuid"
                                    },
                                    {
                                        "name": "lower case uuid"
                                    },
                                    {
                                        "name": "ungrouped uuid"
                                    }
                                ]
                            },
                            "data": [
                                {
                                    "lower case uuid": "a0eebc99-9c0b-4ef8-bb6d-6bb9bd380a11",
                                    "ungrouped uuid": "a0eebc99-9c0b-4ef8-bb6d-6bb9bd380a11"
                                }
                            ]
                        },
                        "text/html": [
                            "<table>",
                            "<tr><th>lower case uuid</th><th>lower case uuid</th><th>ungrouped uuid</th></tr>",
                            "<tr><td>a0eebc99-9c0b-4ef8-bb6d-6bb9bd380a11</td><td>a0eebc99-9c0b-4ef8-bb6d-6bb9bd380a11</td><td>a0eebc99-9c0b-4ef8-bb6d-6bb9bd380a11</td></tr>",
                            "</table>"
                        ]
                    }
                }
            ],
            "execution_count": 66
        },
        {
            "cell_type": "markdown",
            "source": [
                "## XML Type\n",
                "\n",
                "XML :   unlimited length\n",
                "\n",
                ""
            ],
            "metadata": {
                "language": "sql",
                "azdata_cell_guid": "8a189204-276a-4079-9843-43d8505ed3a8"
            },
            "attachments": {}
        },
        {
            "cell_type": "code",
            "source": [
                "select '<a>42</a>'::XML as \"XML Content\""
            ],
            "metadata": {
                "language": "sql",
                "azdata_cell_guid": "43d6fe95-b442-4142-9a94-df1f18666fbc"
            },
            "outputs": [
                {
                    "output_type": "display_data",
                    "data": {
                        "text/html": "(1 row(s) affected)"
                    },
                    "metadata": {}
                },
                {
                    "output_type": "display_data",
                    "data": {
                        "text/html": "Total execution time: 00:00:00.001"
                    },
                    "metadata": {}
                },
                {
                    "output_type": "execute_result",
                    "metadata": {},
                    "execution_count": 67,
                    "data": {
                        "application/vnd.dataresource+json": {
                            "schema": {
                                "fields": [
                                    {
                                        "name": "XML Content"
                                    }
                                ]
                            },
                            "data": [
                                {
                                    "XML Content": "<a>42</a>"
                                }
                            ]
                        },
                        "text/html": [
                            "<table>",
                            "<tr><th>XML Content</th></tr>",
                            "<tr><td>&lt;a&gt;42&lt;/a&gt;</td></tr>",
                            "</table>"
                        ]
                    }
                }
            ],
            "execution_count": 67
        },
        {
            "cell_type": "code",
            "source": [
                "SELECT XML '<?xml version=\"1.0\"?>\n",
                "<book>\n",
                "    <title>Manual</title>\n",
                "    <chapter>...</chapter>\n",
                "</book>\n",
                "'\n",
                "as \"XML Document\""
            ],
            "metadata": {
                "language": "sql",
                "azdata_cell_guid": "d6b7fd48-dab6-4791-aff7-5fb96dcda078"
            },
            "outputs": [
                {
                    "output_type": "display_data",
                    "data": {
                        "text/html": "(1 row(s) affected)"
                    },
                    "metadata": {}
                },
                {
                    "output_type": "display_data",
                    "data": {
                        "text/html": "Total execution time: 00:00:00.001"
                    },
                    "metadata": {}
                },
                {
                    "output_type": "execute_result",
                    "metadata": {},
                    "execution_count": 68,
                    "data": {
                        "application/vnd.dataresource+json": {
                            "schema": {
                                "fields": [
                                    {
                                        "name": "XML Document"
                                    }
                                ]
                            },
                            "data": [
                                {
                                    "XML Document": "<book>\n    <title>Manual</title>\n    <chapter>...</chapter>\n</book>\n"
                                }
                            ]
                        },
                        "text/html": [
                            "<table>",
                            "<tr><th>XML Document</th></tr>",
                            "<tr><td>&lt;book&gt;\n    &lt;title&gt;Manual&lt;/title&gt;\n    &lt;chapter&gt;...&lt;/chapter&gt;\n&lt;/book&gt;\n</td></tr>",
                            "</table>"
                        ]
                    }
                }
            ],
            "execution_count": 68
        },
        {
            "cell_type": "code",
            "source": [
                "SELECT XMLPARSE (DOCUMENT '<?xml version=\"1.0\"?><book><title>Manual</title><chapter>...</chapter></book>')"
            ],
            "metadata": {
                "azdata_cell_guid": "040ed00a-dcd7-4e34-ae52-776efc4bd6da",
                "language": "sql"
            },
            "outputs": [
                {
                    "output_type": "display_data",
                    "data": {
                        "text/html": "(1 row(s) affected)"
                    },
                    "metadata": {}
                },
                {
                    "output_type": "display_data",
                    "data": {
                        "text/html": "Total execution time: 00:00:00.002"
                    },
                    "metadata": {}
                },
                {
                    "output_type": "execute_result",
                    "metadata": {},
                    "execution_count": 69,
                    "data": {
                        "application/vnd.dataresource+json": {
                            "schema": {
                                "fields": [
                                    {
                                        "name": "xmlparse"
                                    }
                                ]
                            },
                            "data": [
                                {
                                    "xmlparse": "<book><title>Manual</title><chapter>...</chapter></book>"
                                }
                            ]
                        },
                        "text/html": [
                            "<table>",
                            "<tr><th>xmlparse</th></tr>",
                            "<tr><td>&lt;book&gt;&lt;title&gt;Manual&lt;/title&gt;&lt;chapter&gt;...&lt;/chapter&gt;&lt;/book&gt;</td></tr>",
                            "</table>"
                        ]
                    }
                }
            ],
            "execution_count": 69
        },
        {
            "cell_type": "markdown",
            "source": [
                "## JSON Types\n",
                "\n",
                "\n",
                "JSON : unlimited length\n",
                "\n",
                "JSONB : unlimited length, binary format"
            ],
            "metadata": {
                "language": "sql",
                "azdata_cell_guid": "f23c2a85-8d80-4c49-8ae1-cd698580b14e"
            },
            "attachments": {}
        },
        {
            "cell_type": "code",
            "source": [
                "select '{\"name\":\"Arthur\"}'::JSON,\n",
                " '{\"name\":\"Arthur\"}'::JSONB,\n",
                " JSON  '{\"name\":\"Arthur\"}';"
            ],
            "metadata": {
                "language": "sql",
                "azdata_cell_guid": "e9395386-1c12-4808-b8f9-12676246208b"
            },
            "outputs": [
                {
                    "output_type": "display_data",
                    "data": {
                        "text/html": "(1 row(s) affected)"
                    },
                    "metadata": {}
                },
                {
                    "output_type": "display_data",
                    "data": {
                        "text/html": "Total execution time: 00:00:00.001"
                    },
                    "metadata": {}
                },
                {
                    "output_type": "execute_result",
                    "metadata": {},
                    "execution_count": 72,
                    "data": {
                        "application/vnd.dataresource+json": {
                            "schema": {
                                "fields": [
                                    {
                                        "name": "json"
                                    },
                                    {
                                        "name": "jsonb"
                                    },
                                    {
                                        "name": "json"
                                    }
                                ]
                            },
                            "data": [
                                {
                                    "json": "{\"name\":\"Arthur\"}",
                                    "jsonb": "{\"name\": \"Arthur\"}"
                                }
                            ]
                        },
                        "text/html": [
                            "<table>",
                            "<tr><th>json</th><th>jsonb</th><th>json</th></tr>",
                            "<tr><td>{&quot;name&quot;:&quot;Arthur&quot;}</td><td>{&quot;name&quot;: &quot;Arthur&quot;}</td><td>{&quot;name&quot;:&quot;Arthur&quot;}</td></tr>",
                            "</table>"
                        ]
                    }
                }
            ],
            "execution_count": 72
        },
        {
            "cell_type": "markdown",
            "source": [
                "## Range Types\n",
                "\n",
                "\n",
                "### Numbers\n",
                "\n",
                "INT4RANGE : 4 bytes integers\n",
                "\n",
                "INT8RANGE : 8 bytes integers\n",
                "\n",
                "NUMRANGE : range of numeric type"
            ],
            "metadata": {
                "language": "sql",
                "azdata_cell_guid": "8f10eeed-4a5e-4ed2-b7a1-03965bf09115"
            },
            "attachments": {}
        },
        {
            "cell_type": "code",
            "source": [
                "select int4range(10, 20) as \"Range of integers\",\n",
                "numrange(2.17, 3.14) as \"Range of numerics\";\n",
                ""
            ],
            "metadata": {
                "language": "sql",
                "azdata_cell_guid": "40f1060f-ffae-4de5-8d70-7ca828f451eb",
                "tags": []
            },
            "outputs": [
                {
                    "output_type": "display_data",
                    "data": {
                        "text/html": "(1 row(s) affected)"
                    },
                    "metadata": {}
                },
                {
                    "output_type": "display_data",
                    "data": {
                        "text/html": "Total execution time: 00:00:00.002"
                    },
                    "metadata": {}
                },
                {
                    "output_type": "execute_result",
                    "metadata": {},
                    "execution_count": 74,
                    "data": {
                        "application/vnd.dataresource+json": {
                            "schema": {
                                "fields": [
                                    {
                                        "name": "Range of integers"
                                    },
                                    {
                                        "name": "Range of numerics"
                                    }
                                ]
                            },
                            "data": [
                                {
                                    "Range of integers": "[10,20)",
                                    "Range of numerics": "[2.17,3.14)"
                                }
                            ]
                        },
                        "text/html": [
                            "<table>",
                            "<tr><th>Range of integers</th><th>Range of numerics</th></tr>",
                            "<tr><td>[10,20)</td><td>[2.17,3.14)</td></tr>",
                            "</table>"
                        ]
                    }
                }
            ],
            "execution_count": 74
        },
        {
            "cell_type": "markdown",
            "source": [
                "### Dates and Times\n",
                "\n",
                "TSRANGE :  timestamps without time zone\n",
                "\n",
                "TSTZRANGE : timestamps with time zone\n",
                "\n",
                "DATERAGE : dates\n",
                ""
            ],
            "metadata": {
                "language": "sql",
                "azdata_cell_guid": "515c25eb-de1b-4d8c-b855-daf4f9d5edc0"
            },
            "attachments": {}
        },
        {
            "cell_type": "code",
            "source": [
                "SELECT tsrange('20200228 00:00:00', '20200229 11:59:59') as \"Timestamp range covering the leap day in 2020\",\n",
                "daterange('20300101', '20401231') as \"Date range from 2030 to 2040\""
            ],
            "metadata": {
                "language": "sql",
                "azdata_cell_guid": "a367e332-89d3-4f00-89d5-1c87c00cb8bc"
            },
            "outputs": [
                {
                    "output_type": "display_data",
                    "data": {
                        "text/html": "(1 row(s) affected)"
                    },
                    "metadata": {}
                },
                {
                    "output_type": "display_data",
                    "data": {
                        "text/html": "Total execution time: 00:00:00.001"
                    },
                    "metadata": {}
                },
                {
                    "output_type": "execute_result",
                    "metadata": {},
                    "execution_count": 76,
                    "data": {
                        "application/vnd.dataresource+json": {
                            "schema": {
                                "fields": [
                                    {
                                        "name": "Timestamp range covering the leap day in 2020"
                                    },
                                    {
                                        "name": "Date range from 2030 to 2040"
                                    }
                                ]
                            },
                            "data": [
                                {
                                    "Timestamp range covering the leap day in 2020": "[\"2020-02-28 00:00:00\",\"2020-02-29 11:59:59\")",
                                    "Date range from 2030 to 2040": "[2030-01-01,2040-12-31)"
                                }
                            ]
                        },
                        "text/html": [
                            "<table>",
                            "<tr><th>Timestamp range covering the leap day in 2020</th><th>Date range from 2030 to 2040</th></tr>",
                            "<tr><td>[&quot;2020-02-28 00:00:00&quot;,&quot;2020-02-29 11:59:59&quot;)</td><td>[2030-01-01,2040-12-31)</td></tr>",
                            "</table>"
                        ]
                    }
                }
            ],
            "execution_count": 76
        }
    ]
}