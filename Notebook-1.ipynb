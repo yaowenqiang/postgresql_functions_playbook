{
    "metadata": {
        "kernelspec": {
            "name": "SQL",
            "display_name": "SQL",
            "language": "sql"
        },
        "language_info": {
            "name": "sql",
            "version": ""
        }
    },
    "nbformat_minor": 2,
    "nbformat": 4,
    "cells": [
        {
            "cell_type": "markdown",
            "source": [
                "# Character Types\n",
                "\n",
                "## Fixed length\n",
                "\n",
                "+ CHARACTER(n), CHAR(n)       ; fixed length, blank padded\n",
                "+ CHARACTER, CHAR             : 1 character\n",
                ""
            ],
            "metadata": {
                "azdata_cell_guid": "6189ec1f-6b76-4691-93a1-dd99df29585f"
            },
            "attachments": {}
        },
        {
            "cell_type": "code",
            "source": [
                "SELECT CAST('Arthur' as character(20)) as \"FirstName\",\n",
                "    'Dent'::char(20) as \"LastName\";\n",
                ""
            ],
            "metadata": {
                "azdata_cell_guid": "946efc9b-1789-4728-b1f2-244a2a0163a7",
                "language": "sql",
                "tags": [
                    "hide_input"
                ]
            },
            "outputs": [
                {
                    "output_type": "display_data",
                    "data": {
                        "text/html": "(1 row(s) affected)"
                    },
                    "metadata": {}
                },
                {
                    "output_type": "display_data",
                    "data": {
                        "text/html": "Total execution time: 00:00:00.001"
                    },
                    "metadata": {}
                },
                {
                    "output_type": "execute_result",
                    "metadata": {},
                    "execution_count": 8,
                    "data": {
                        "application/vnd.dataresource+json": {
                            "schema": {
                                "fields": [
                                    {
                                        "name": "FirstName"
                                    },
                                    {
                                        "name": "LastName"
                                    }
                                ]
                            },
                            "data": [
                                {
                                    "FirstName": "Arthur              ",
                                    "LastName": "Dent                "
                                }
                            ]
                        },
                        "text/html": [
                            "<table>",
                            "<tr><th>FirstName</th><th>LastName</th></tr>",
                            "<tr><td>Arthur              </td><td>Dent                </td></tr>",
                            "</table>"
                        ]
                    }
                }
            ],
            "execution_count": 8
        },
        {
            "cell_type": "markdown",
            "source": [
                "## Variable length, with a limit\n",
                "\n",
                "CHARACTER VARYING(n), VARCHAR(n)"
            ],
            "metadata": {
                "azdata_cell_guid": "4a8cbf15-2c8f-456b-980b-84756b6597e3"
            },
            "attachments": {}
        },
        {
            "cell_type": "code",
            "source": [
                "SELECT CAST('Trillian' as character varying(50)) as \"FirstName\",\n",
                "'Astra'::varchar(50) as \"lastName\";"
            ],
            "metadata": {
                "azdata_cell_guid": "2e9f882e-6bdc-4425-a505-79268f045345",
                "language": "sql"
            },
            "outputs": [
                {
                    "output_type": "display_data",
                    "data": {
                        "text/html": "(1 row(s) affected)"
                    },
                    "metadata": {}
                },
                {
                    "output_type": "display_data",
                    "data": {
                        "text/html": "Total execution time: 00:00:00.001"
                    },
                    "metadata": {}
                },
                {
                    "output_type": "execute_result",
                    "metadata": {},
                    "execution_count": 10,
                    "data": {
                        "application/vnd.dataresource+json": {
                            "schema": {
                                "fields": [
                                    {
                                        "name": "FirstName"
                                    },
                                    {
                                        "name": "lastName"
                                    }
                                ]
                            },
                            "data": [
                                {
                                    "FirstName": "Trillian",
                                    "lastName": "Astra"
                                }
                            ]
                        },
                        "text/html": [
                            "<table>",
                            "<tr><th>FirstName</th><th>lastName</th></tr>",
                            "<tr><td>Trillian</td><td>Astra</td></tr>",
                            "</table>"
                        ]
                    }
                }
            ],
            "execution_count": 10
        },
        {
            "cell_type": "markdown",
            "source": [
                "## Variable length, any size\n",
                "\n",
                "CHARACTER VARYING, CHAR VARYING, VARCHAR, TEXT"
            ],
            "metadata": {
                "azdata_cell_guid": "a1796ba3-6640-4991-8478-07d41dd86278"
            },
            "attachments": {}
        },
        {
            "cell_type": "code",
            "source": [
                "SELECT VARCHAR 'Lorem ipsum dolor sit amet, consectetur adipiscing elit.' AS \"LoremIpsum\",\n",
                "CHAR varying 'Donec fermentum eleifend vestibulum' AS \"DonecFermentum\",\n",
                "TEXT 'vivamus eros enim, iaculis ac purus ut, faucibus eleifend massa' AS \"vivamusEros\""
            ],
            "metadata": {
                "azdata_cell_guid": "deb8a514-3a8d-48bd-abdb-bb897035dfcc",
                "language": "sql"
            },
            "outputs": [
                {
                    "output_type": "display_data",
                    "data": {
                        "text/html": "(1 row(s) affected)"
                    },
                    "metadata": {}
                },
                {
                    "output_type": "display_data",
                    "data": {
                        "text/html": "Total execution time: 00:00:00.001"
                    },
                    "metadata": {}
                },
                {
                    "output_type": "execute_result",
                    "metadata": {},
                    "execution_count": 16,
                    "data": {
                        "application/vnd.dataresource+json": {
                            "schema": {
                                "fields": [
                                    {
                                        "name": "LoremIpsum"
                                    },
                                    {
                                        "name": "DonecFermentum"
                                    },
                                    {
                                        "name": "vivamusEros"
                                    }
                                ]
                            },
                            "data": [
                                {
                                    "LoremIpsum": "Lorem ipsum dolor sit amet, consectetur adipiscing elit.",
                                    "DonecFermentum": "Donec fermentum eleifend vestibulum",
                                    "vivamusEros": "vivamus eros enim, iaculis ac purus ut, faucibus eleifend massa"
                                }
                            ]
                        },
                        "text/html": [
                            "<table>",
                            "<tr><th>LoremIpsum</th><th>DonecFermentum</th><th>vivamusEros</th></tr>",
                            "<tr><td>Lorem ipsum dolor sit amet, consectetur adipiscing elit.</td><td>Donec fermentum eleifend vestibulum</td><td>vivamus eros enim, iaculis ac purus ut, faucibus eleifend massa</td></tr>",
                            "</table>"
                        ]
                    }
                }
            ],
            "execution_count": 16
        },
        {
            "cell_type": "markdown",
            "source": [
                "## Binary Type\n",
                "\n",
                "Variable length binary string\n",
                "\n",
                "BYTEA : 1 or 4 bytes plus the length of the binary string"
            ],
            "metadata": {
                "azdata_cell_guid": "0f3b9107-dbf8-4b26-b776-4be3c4cd4203"
            },
            "attachments": {}
        },
        {
            "cell_type": "code",
            "source": [
                "select '\\xDEADBEEF' as \"Hex Format\",\n",
                "'\\077'::BYTEA as \"Escape Format\";"
            ],
            "metadata": {
                "azdata_cell_guid": "80889a62-7d90-4480-b16a-13caaf503a35",
                "language": "sql"
            },
            "outputs": [
                {
                    "output_type": "display_data",
                    "data": {
                        "text/html": "(1 row(s) affected)"
                    },
                    "metadata": {}
                },
                {
                    "output_type": "display_data",
                    "data": {
                        "text/html": "Total execution time: 00:00:00.001"
                    },
                    "metadata": {}
                },
                {
                    "output_type": "execute_result",
                    "metadata": {},
                    "execution_count": 19,
                    "data": {
                        "application/vnd.dataresource+json": {
                            "schema": {
                                "fields": [
                                    {
                                        "name": "Hex Format"
                                    },
                                    {
                                        "name": "Escape Format"
                                    }
                                ]
                            },
                            "data": [
                                {
                                    "Hex Format": "\\xDEADBEEF",
                                    "Escape Format": "\\x3f"
                                }
                            ]
                        },
                        "text/html": [
                            "<table>",
                            "<tr><th>Hex Format</th><th>Escape Format</th></tr>",
                            "<tr><td>\\xDEADBEEF</td><td>\\x3f</td></tr>",
                            "</table>"
                        ]
                    }
                }
            ],
            "execution_count": 19
        },
        {
            "cell_type": "markdown",
            "source": [
                "## Numeric Types"
            ],
            "metadata": {
                "azdata_cell_guid": "df5aef69-676d-4250-b3ea-9a82ba771074"
            },
            "attachments": {}
        },
        {
            "cell_type": "markdown",
            "source": [
                "SMALLINT, INT2    : 2 bytes, -2^15 to +2^15 -1\n",
                "\n",
                "INTEGER, INT, INT4 : 4 ytes, -2^32 to +2^31 -1\n",
                "\n",
                "BIGINT, INT8       : 8 bytes, -2^64 to +2^63 -1\n",
                "\n",
                ""
            ],
            "metadata": {
                "azdata_cell_guid": "aa8cb456-e4c8-465f-9803-92d611f1bba8"
            },
            "attachments": {}
        },
        {
            "cell_type": "markdown",
            "source": [
                ""
            ],
            "metadata": {
                "azdata_cell_guid": "ff632fd4-3dca-4365-8576-44d5612314f1"
            }
        },
        {
            "cell_type": "code",
            "source": [
                "SELECT cast(2^15 -1 as smallint) as \"smallint or int2\",\n",
                "        cast(2^31 -1 as integer) as \"integer or int4\",\n",
                "        cast(-2^63 -1 as bigint) as \"bigint or int8\";"
            ],
            "metadata": {
                "azdata_cell_guid": "609611cd-39c4-4f5d-8604-ad8588157c9e",
                "language": "sql"
            },
            "outputs": [
                {
                    "output_type": "display_data",
                    "data": {
                        "text/html": "(1 row(s) affected)"
                    },
                    "metadata": {}
                },
                {
                    "output_type": "display_data",
                    "data": {
                        "text/html": "Total execution time: 00:00:00.001"
                    },
                    "metadata": {}
                },
                {
                    "output_type": "execute_result",
                    "metadata": {},
                    "execution_count": 25,
                    "data": {
                        "application/vnd.dataresource+json": {
                            "schema": {
                                "fields": [
                                    {
                                        "name": "smallint or int2"
                                    },
                                    {
                                        "name": "integer or int4"
                                    },
                                    {
                                        "name": "bigint or int8"
                                    }
                                ]
                            },
                            "data": [
                                {
                                    "smallint or int2": "32767",
                                    "integer or int4": "2147483647",
                                    "bigint or int8": "-9223372036854775808"
                                }
                            ]
                        },
                        "text/html": [
                            "<table>",
                            "<tr><th>smallint or int2</th><th>integer or int4</th><th>bigint or int8</th></tr>",
                            "<tr><td>32767</td><td>2147483647</td><td>-9223372036854775808</td></tr>",
                            "</table>"
                        ]
                    }
                }
            ],
            "execution_count": 25
        },
        {
            "cell_type": "markdown",
            "source": [
                "## Arbitray Precision Numbers(exact)\n",
                "\n",
                "numeric(precision, scale), decimal(precision, scale)\n",
                "\n",
                "numeric(precision), decimal(precision)\n",
                "\n",
                "numeric, decimal"
            ],
            "metadata": {
                "language": "sql",
                "azdata_cell_guid": "bae6f2ab-0f60-4848-adb1-80609f199027"
            },
            "attachments": {}
        },
        {
            "cell_type": "markdown",
            "source": [
                "> up to 131072 digits before the decimal point, up to 16383 digits after the decimal point\n",
                ""
            ],
            "metadata": {
                "language": "sql",
                "azdata_cell_guid": "743c3e9a-ccaf-4d97-ba94-bedba5d33c6e"
            },
            "attachments": {}
        },
        {
            "cell_type": "code",
            "source": [
                "SELECT cast(3.1415936 as numeric(8,7)) as pi;\n",
                "create table foo (bar numeric(1000));\n",
                "drop TABLE foo;\n",
                "select cast('NAN' as numeric) as 'NaN'"
            ],
            "metadata": {
                "language": "sql",
                "azdata_cell_guid": "18aed45b-acc4-4e2c-b617-10192a2463a9"
            },
            "outputs": [
                {
                    "output_type": "display_data",
                    "data": {
                        "text/html": "(1 row(s) affected)"
                    },
                    "metadata": {}
                },
                {
                    "output_type": "display_data",
                    "data": {
                        "text/html": "Total execution time: 00:00:00.002"
                    },
                    "metadata": {}
                },
                {
                    "output_type": "execute_result",
                    "metadata": {},
                    "execution_count": 26,
                    "data": {
                        "application/vnd.dataresource+json": {
                            "schema": {
                                "fields": [
                                    {
                                        "name": "pi"
                                    }
                                ]
                            },
                            "data": [
                                {
                                    "pi": "3.1415936"
                                }
                            ]
                        },
                        "text/html": [
                            "<table>",
                            "<tr><th>pi</th></tr>",
                            "<tr><td>3.1415936</td></tr>",
                            "</table>"
                        ]
                    }
                }
            ],
            "execution_count": 26
        },
        {
            "cell_type": "code",
            "source": [
                "\n",
                "select cast('NAN' as numeric) as \"NaN\""
            ],
            "metadata": {
                "language": "sql",
                "azdata_cell_guid": "10853fc9-b438-47ba-91f1-5b0d0959f014"
            },
            "outputs": [
                {
                    "output_type": "display_data",
                    "data": {
                        "text/html": "(1 row(s) affected)"
                    },
                    "metadata": {}
                },
                {
                    "output_type": "display_data",
                    "data": {
                        "text/html": "Total execution time: 00:00:00.002"
                    },
                    "metadata": {}
                },
                {
                    "output_type": "execute_result",
                    "metadata": {},
                    "execution_count": 28,
                    "data": {
                        "application/vnd.dataresource+json": {
                            "schema": {
                                "fields": [
                                    {
                                        "name": "NaN"
                                    }
                                ]
                            },
                            "data": [
                                {
                                    "NaN": "NaN"
                                }
                            ]
                        },
                        "text/html": [
                            "<table>",
                            "<tr><th>NaN</th></tr>",
                            "<tr><td>NaN</td></tr>",
                            "</table>"
                        ]
                    }
                }
            ],
            "execution_count": 28
        },
        {
            "cell_type": "markdown",
            "source": [
                "## Floating Point Types (approximate)\n",
                "\n",
                "REAL, FLOAT4      : 4 bytes, IEEE Standard 754 single precision, 1E-37 to 1E+37 with a6 digits of precision\n",
                "\n",
                "DOUBLE, PRECISION, FLOAT8;  8 bytes, IEEE Standard 754 double precision, 1E-307 to 1E+308 with 15 digits of precision\n",
                "\n",
                "FLOAT(n)         : explicit precision in bits, n in the range 1 to 53"
            ],
            "metadata": {
                "language": "sql",
                "azdata_cell_guid": "0d6aa7b9-66df-4c21-8693-59726d6f20fa"
            },
            "attachments": {}
        },
        {
            "cell_type": "code",
            "source": [
                "select 3.1415936::REAL as \"Real Pi\",\n",
                "3.1415936   ::double precision as \"Double Precision Pi\",\n",
                "'3.1415936'   ::float(53) = '3.1415936'::real as \"Are they equal?\"\n",
                ""
            ],
            "metadata": {
                "language": "sql",
                "azdata_cell_guid": "a0fdfc89-5987-43a3-a17b-1e4476b02079"
            },
            "outputs": [
                {
                    "output_type": "display_data",
                    "data": {
                        "text/html": "(1 row(s) affected)"
                    },
                    "metadata": {}
                },
                {
                    "output_type": "display_data",
                    "data": {
                        "text/html": "Total execution time: 00:00:00.001"
                    },
                    "metadata": {}
                },
                {
                    "output_type": "execute_result",
                    "metadata": {},
                    "execution_count": 38,
                    "data": {
                        "application/vnd.dataresource+json": {
                            "schema": {
                                "fields": [
                                    {
                                        "name": "Real Pi"
                                    },
                                    {
                                        "name": "Double Precision Pi"
                                    },
                                    {
                                        "name": "Are they equal?"
                                    }
                                ]
                            },
                            "data": [
                                {
                                    "Real Pi": "3.1415937",
                                    "Double Precision Pi": "3.1415936",
                                    "Are they equal?": "False"
                                }
                            ]
                        },
                        "text/html": [
                            "<table>",
                            "<tr><th>Real Pi</th><th>Double Precision Pi</th><th>Are they equal?</th></tr>",
                            "<tr><td>3.1415937</td><td>3.1415936</td><td>False</td></tr>",
                            "</table>"
                        ]
                    }
                }
            ],
            "execution_count": 38
        },
        {
            "cell_type": "markdown",
            "source": [
                "## Monetary Types(exct)\n",
                "\n",
                "\n",
                "money : 8bytes, currency amount\n",
                ""
            ],
            "metadata": {
                "language": "sql",
                "azdata_cell_guid": "5b9ba369-e9f9-497f-bc64-745ae336d6ef"
            },
            "attachments": {}
        },
        {
            "cell_type": "code",
            "source": [
                "select cast('$1000.00' as money) as \"Dollar Amount\""
            ],
            "metadata": {
                "language": "sql",
                "azdata_cell_guid": "c8486473-77a0-4f7d-bfc1-af510e74db45"
            },
            "outputs": [
                {
                    "output_type": "display_data",
                    "data": {
                        "text/html": "(1 row(s) affected)"
                    },
                    "metadata": {}
                },
                {
                    "output_type": "display_data",
                    "data": {
                        "text/html": "Total execution time: 00:00:00.003"
                    },
                    "metadata": {}
                },
                {
                    "output_type": "execute_result",
                    "metadata": {},
                    "execution_count": 42,
                    "data": {
                        "application/vnd.dataresource+json": {
                            "schema": {
                                "fields": [
                                    {
                                        "name": "Dollar Amount"
                                    }
                                ]
                            },
                            "data": [
                                {
                                    "Dollar Amount": "$1,000.00"
                                }
                            ]
                        },
                        "text/html": [
                            "<table>",
                            "<tr><th>Dollar Amount</th></tr>",
                            "<tr><td>$1,000.00</td></tr>",
                            "</table>"
                        ]
                    }
                }
            ],
            "execution_count": 42
        },
        {
            "cell_type": "markdown",
            "source": [
                "## Date and Time Types\n",
                "\n",
                "Date and Time\n",
                "\n",
                "TIMESTAMP(p) [without time zone] : 8 bytes, 4713 BC to 5874897 AD\n",
                "\n",
                "TIMESTAMP(p) WITH TIME ZONE : 8 bytes, 4713 BC to 5874897 AD\n",
                "\n",
                "TIMESTAMP [WITHOUT TIME ZONE] : 8 bytes, 4713 BC to 5874897 AD\n",
                "\n",
                "TIMESTAMP WITH TIME ZONE : 8 bytes, 4713 BC to 5874897 AD"
            ],
            "metadata": {
                "language": "sql",
                "azdata_cell_guid": "99c1aada-9ae3-4193-9d02-a97cdfb36b37"
            },
            "attachments": {}
        },
        {
            "cell_type": "code",
            "source": [
                "select '20190314'::timestamp(6) as \"TimeStamp, no time zone\",\n",
                "'July 10, 2010 EST'::timestamp WITH TIME ZONE as \"TimeStamp, with time zone\""
            ],
            "metadata": {
                "language": "sql",
                "azdata_cell_guid": "e14224e6-4461-4c3c-a340-0906f64e6fb2"
            },
            "outputs": [
                {
                    "output_type": "display_data",
                    "data": {
                        "text/html": "(1 row(s) affected)"
                    },
                    "metadata": {}
                },
                {
                    "output_type": "display_data",
                    "data": {
                        "text/html": "Total execution time: 00:00:00.001"
                    },
                    "metadata": {}
                },
                {
                    "output_type": "execute_result",
                    "metadata": {},
                    "execution_count": 44,
                    "data": {
                        "application/vnd.dataresource+json": {
                            "schema": {
                                "fields": [
                                    {
                                        "name": "TimeStamp, no time zone"
                                    },
                                    {
                                        "name": "TimeStamp, with time zone"
                                    }
                                ]
                            },
                            "data": [
                                {
                                    "TimeStamp, no time zone": "2019-03-14 00:00:00",
                                    "TimeStamp, with time zone": "2010-07-10 13:00:00+08"
                                }
                            ]
                        },
                        "text/html": [
                            "<table>",
                            "<tr><th>TimeStamp, no time zone</th><th>TimeStamp, with time zone</th></tr>",
                            "<tr><td>2019-03-14 00:00:00</td><td>2010-07-10 13:00:00+08</td></tr>",
                            "</table>"
                        ]
                    }
                }
            ],
            "execution_count": 44
        },
        {
            "cell_type": "markdown",
            "source": [
                "## Interval\n",
                "\n",
                "INTERVAL(p) : 16 bytes, -170000000 years to 170000000 years\n",
                "\n",
                "INTERVAL    : 16 bytes, -170000000 years to 170000000 years"
            ],
            "metadata": {
                "language": "sql",
                "azdata_cell_guid": "c0e45554-3761-4ce7-a765-514ff967d200"
            },
            "attachments": {}
        },
        {
            "cell_type": "code",
            "source": [
                "select CURRENT_TIMESTAMP - 'Jan 1 1900'::timestamp as \"Time since Jan 1 1900\",\n",
                "'18 hours, 30 minutes ago'::INTERVAL as \"10 and a half hour ago\";"
            ],
            "metadata": {
                "azdata_cell_guid": "3bb7f1f0-9c21-4eee-889f-b82100b7bb0f",
                "language": "sql"
            },
            "outputs": [
                {
                    "output_type": "display_data",
                    "data": {
                        "text/html": "(1 row(s) affected)"
                    },
                    "metadata": {}
                },
                {
                    "output_type": "display_data",
                    "data": {
                        "text/html": "Total execution time: 00:00:00.001"
                    },
                    "metadata": {}
                },
                {
                    "output_type": "execute_result",
                    "metadata": {},
                    "execution_count": 48,
                    "data": {
                        "application/vnd.dataresource+json": {
                            "schema": {
                                "fields": [
                                    {
                                        "name": "Time since Jan 1 1900"
                                    },
                                    {
                                        "name": "10 and a half hour ago"
                                    }
                                ]
                            },
                            "data": [
                                {
                                    "Time since Jan 1 1900": "45533 days 17:01:09.406911",
                                    "10 and a half hour ago": "-18:30:00"
                                }
                            ]
                        },
                        "text/html": [
                            "<table>",
                            "<tr><th>Time since Jan 1 1900</th><th>10 and a half hour ago</th></tr>",
                            "<tr><td>45533 days 17:01:09.406911</td><td>-18:30:00</td></tr>",
                            "</table>"
                        ]
                    }
                }
            ],
            "execution_count": 48
        },
        {
            "cell_type": "markdown",
            "source": [
                "## Date\n",
                "\n",
                "DATE : 4 bytes, 4713 BD to 5874897 AD\n",
                ""
            ],
            "metadata": {
                "language": "sql",
                "azdata_cell_guid": "f2d3b403-6823-454c-b460-2e8a9997f8fc"
            },
            "attachments": {}
        },
        {
            "cell_type": "code",
            "source": [
                "SELECT 'June 2, 1953'::DATE as \"Coronation of Elizabeth II\""
            ],
            "metadata": {
                "language": "sql",
                "azdata_cell_guid": "fb940fda-d523-4a27-ba7d-f508136b431e"
            },
            "outputs": [
                {
                    "output_type": "display_data",
                    "data": {
                        "text/html": "(1 row(s) affected)"
                    },
                    "metadata": {}
                },
                {
                    "output_type": "display_data",
                    "data": {
                        "text/html": "Total execution time: 00:00:00.001"
                    },
                    "metadata": {}
                },
                {
                    "output_type": "execute_result",
                    "metadata": {},
                    "execution_count": 51,
                    "data": {
                        "application/vnd.dataresource+json": {
                            "schema": {
                                "fields": [
                                    {
                                        "name": "Coronation of Elizabeth II"
                                    }
                                ]
                            },
                            "data": [
                                {
                                    "Coronation of Elizabeth II": "1953-06-02"
                                }
                            ]
                        },
                        "text/html": [
                            "<table>",
                            "<tr><th>Coronation of Elizabeth II</th></tr>",
                            "<tr><td>1953-06-02</td></tr>",
                            "</table>"
                        ]
                    }
                }
            ],
            "execution_count": 51
        },
        {
            "cell_type": "markdown",
            "source": [
                "## Time\n",
                "\n",
                "TIME(p) [WITHOUT TIME ZONE] : 8 bytes, 4713 BC to 5874897 AD\n",
                "\n",
                "TIME(p) WITH TIME ZONE : 12 bytes, 4713 BC to 5874897 AD\n",
                "\n",
                "TIME [WITHOUT TIME ZONE] : 8 bytes, 4713 BC to 5874897 AD\n",
                "\n",
                "TIME WITH TIME ZONE : 8 bytes, 4713 BC to 5874897 AD"
            ],
            "metadata": {
                "language": "sql",
                "azdata_cell_guid": "da8e9850-e044-40e0-8f1c-a0a9bac7f8ac"
            },
            "attachments": {}
        },
        {
            "cell_type": "code",
            "source": [
                "select '00:00:00'::time(6) as \"The Midnight Hour\",\n",
                "'12:00:00 CET'::TIME WITH TIME ZONE AS \"High Noon in Amsterdam\";"
            ],
            "metadata": {
                "language": "sql",
                "azdata_cell_guid": "7e056729-f320-4fd6-9907-91438f9b3516"
            },
            "outputs": [
                {
                    "output_type": "display_data",
                    "data": {
                        "text/html": "(1 row(s) affected)"
                    },
                    "metadata": {}
                },
                {
                    "output_type": "display_data",
                    "data": {
                        "text/html": "Total execution time: 00:00:00.001"
                    },
                    "metadata": {}
                },
                {
                    "output_type": "execute_result",
                    "metadata": {},
                    "execution_count": 53,
                    "data": {
                        "application/vnd.dataresource+json": {
                            "schema": {
                                "fields": [
                                    {
                                        "name": "The Midnight Hour"
                                    },
                                    {
                                        "name": "High Noon in Amsterdam"
                                    }
                                ]
                            },
                            "data": [
                                {
                                    "The Midnight Hour": "00:00:00",
                                    "High Noon in Amsterdam": "12:00:00+01"
                                }
                            ]
                        },
                        "text/html": [
                            "<table>",
                            "<tr><th>The Midnight Hour</th><th>High Noon in Amsterdam</th></tr>",
                            "<tr><td>00:00:00</td><td>12:00:00+01</td></tr>",
                            "</table>"
                        ]
                    }
                }
            ],
            "execution_count": 53
        },
        {
            "cell_type": "markdown",
            "source": [
                "## Boolean Type\n",
                "\n",
                "BOOLEAN, BOOL : 1 byte, TRUE, FALSE or NUll\n",
                ""
            ],
            "metadata": {
                "language": "sql",
                "azdata_cell_guid": "4dcd1c65-ecaa-442c-9eae-45ea6a5d3cd8"
            },
            "attachments": {}
        },
        {
            "cell_type": "code",
            "source": [
                "select 1 :: boolean as \"True\",\n",
                " 0 :: boolean as \"False\",\n",
                " 't' :: boolean as \"True\",\n",
                " 'f' :: boolean as \"False\",\n",
                " 'y' :: boolean as \"True\",\n",
                " 'Y' :: boolean as \"True\",\n",
                " 'n' :: boolean as \"False\",\n",
                " 'N' :: boolean as \"False\",\n",
                " NULL::BOOL  as \"Unknown\";\n",
                ""
            ],
            "metadata": {
                "language": "sql",
                "azdata_cell_guid": "4c38e3e5-c12b-461e-84b1-50536b64c721"
            },
            "outputs": [
                {
                    "output_type": "display_data",
                    "data": {
                        "text/html": "(1 row(s) affected)"
                    },
                    "metadata": {}
                },
                {
                    "output_type": "display_data",
                    "data": {
                        "text/html": "Total execution time: 00:00:00.001"
                    },
                    "metadata": {}
                },
                {
                    "output_type": "execute_result",
                    "metadata": {},
                    "execution_count": 56,
                    "data": {
                        "application/vnd.dataresource+json": {
                            "schema": {
                                "fields": [
                                    {
                                        "name": "True"
                                    },
                                    {
                                        "name": "False"
                                    },
                                    {
                                        "name": "True"
                                    },
                                    {
                                        "name": "False"
                                    },
                                    {
                                        "name": "True"
                                    },
                                    {
                                        "name": "True"
                                    },
                                    {
                                        "name": "False"
                                    },
                                    {
                                        "name": "False"
                                    },
                                    {
                                        "name": "Unknown"
                                    }
                                ]
                            },
                            "data": [
                                {
                                    "True": "True",
                                    "False": "False",
                                    "Unknown": "NULL"
                                }
                            ]
                        },
                        "text/html": [
                            "<table>",
                            "<tr><th>True</th><th>False</th><th>True</th><th>False</th><th>True</th><th>True</th><th>False</th><th>False</th><th>Unknown</th></tr>",
                            "<tr><td>True</td><td>False</td><td>True</td><td>False</td><td>True</td><td>True</td><td>False</td><td>False</td><td>NULL</td></tr>",
                            "</table>"
                        ]
                    }
                }
            ],
            "execution_count": 56
        },
        {
            "cell_type": "code",
            "source": [
                "select TRUE, FALSE;"
            ],
            "metadata": {
                "azdata_cell_guid": "95e593ac-3b3b-423b-b5fa-939fb7517f9a",
                "language": "sql"
            },
            "outputs": [
                {
                    "output_type": "display_data",
                    "data": {
                        "text/html": "(1 row(s) affected)"
                    },
                    "metadata": {}
                },
                {
                    "output_type": "display_data",
                    "data": {
                        "text/html": "Total execution time: 00:00:00.001"
                    },
                    "metadata": {}
                },
                {
                    "output_type": "execute_result",
                    "metadata": {},
                    "execution_count": 58,
                    "data": {
                        "application/vnd.dataresource+json": {
                            "schema": {
                                "fields": [
                                    {
                                        "name": "bool"
                                    },
                                    {
                                        "name": "bool"
                                    }
                                ]
                            },
                            "data": [
                                {
                                    "bool": "False"
                                }
                            ]
                        },
                        "text/html": [
                            "<table>",
                            "<tr><th>bool</th><th>bool</th></tr>",
                            "<tr><td>True</td><td>False</td></tr>",
                            "</table>"
                        ]
                    }
                }
            ],
            "execution_count": 58
        },
        {
            "cell_type": "markdown",
            "source": [
                "## Array Types\n",
                "\n",
                "\n",
                "### <type>[]\n",
                "\n",
                "> NOTE: postgresql array index start from 1\n",
                ""
            ],
            "metadata": {
                "language": "sql",
                "azdata_cell_guid": "421482d8-55b2-4d75-b73b-387bf1b8722f"
            },
            "attachments": {}
        },
        {
            "cell_type": "code",
            "source": [
                "select array[1,2,3]::integer[] as \"Array of integers\",\n",
                "cast('{4,5,6}' as float[]) as \"Another array of real numbers\",\n",
                "'{7,8.9}'::varchar[] as \"An array of text items\";"
            ],
            "metadata": {
                "language": "sql",
                "azdata_cell_guid": "291127bb-aef8-4ea7-8102-61bb8240b8c2"
            },
            "outputs": [
                {
                    "output_type": "display_data",
                    "data": {
                        "text/html": "(1 row(s) affected)"
                    },
                    "metadata": {}
                },
                {
                    "output_type": "display_data",
                    "data": {
                        "text/html": "Total execution time: 00:00:00.001"
                    },
                    "metadata": {}
                },
                {
                    "output_type": "execute_result",
                    "metadata": {},
                    "execution_count": 61,
                    "data": {
                        "application/vnd.dataresource+json": {
                            "schema": {
                                "fields": [
                                    {
                                        "name": "Array of integers"
                                    },
                                    {
                                        "name": "Another array of real numbers"
                                    },
                                    {
                                        "name": "An array of text items"
                                    }
                                ]
                            },
                            "data": [
                                {
                                    "Array of integers": "{1,2,3}",
                                    "Another array of real numbers": "{4,5,6}",
                                    "An array of text items": "{7,8.9}"
                                }
                            ]
                        },
                        "text/html": [
                            "<table>",
                            "<tr><th>Array of integers</th><th>Another array of real numbers</th><th>An array of text items</th></tr>",
                            "<tr><td>{1,2,3}</td><td>{4,5,6}</td><td>{7,8.9}</td></tr>",
                            "</table>"
                        ]
                    }
                }
            ],
            "execution_count": 61
        },
        {
            "cell_type": "code",
            "source": [
                "select (array['a', 'b','c']::char[])[1] as \"First entry in a character array\";"
            ],
            "metadata": {
                "language": "sql",
                "azdata_cell_guid": "8e2a8e88-153c-4471-9835-bd9a5b8dbc32"
            },
            "outputs": [
                {
                    "output_type": "display_data",
                    "data": {
                        "text/html": "(1 row(s) affected)"
                    },
                    "metadata": {}
                },
                {
                    "output_type": "display_data",
                    "data": {
                        "text/html": "Total execution time: 00:00:00.001"
                    },
                    "metadata": {}
                },
                {
                    "output_type": "execute_result",
                    "metadata": {},
                    "execution_count": 62,
                    "data": {
                        "application/vnd.dataresource+json": {
                            "schema": {
                                "fields": [
                                    {
                                        "name": "array"
                                    }
                                ]
                            },
                            "data": [
                                {
                                    "array": "a"
                                }
                            ]
                        },
                        "text/html": [
                            "<table>",
                            "<tr><th>array</th></tr>",
                            "<tr><td>a</td></tr>",
                            "</table>"
                        ]
                    }
                }
            ],
            "execution_count": 62
        },
        {
            "cell_type": "markdown",
            "source": [
                "## UUID Type\n",
                "\n",
                "uuid : 16 bytes(128 bits), written as 32 hexadecimal digits\n",
                ""
            ],
            "metadata": {
                "language": "sql",
                "azdata_cell_guid": "04fc40c0-7328-49cd-87de-eeb41c0adecb"
            },
            "attachments": {}
        },
        {
            "cell_type": "code",
            "source": [
                "select 'a0eebc99-9c0b-4ef8-bb6d-6bb9bd380a11'::UUID as \"lower case uuid\",\n",
                "'A0EEBC99-9C0B-4EF8-BB6D-6BB9BD380A11'::UUID as \"lower case uuid\",\n",
                "'a0eebc999c0b4ef8bb6d6bb9bd380a11'::UUID as \"ungrouped uuid\";"
            ],
            "metadata": {
                "language": "sql",
                "azdata_cell_guid": "01f813ae-6edc-4063-86db-9f70fee45615"
            },
            "outputs": [
                {
                    "output_type": "display_data",
                    "data": {
                        "text/html": "(1 row(s) affected)"
                    },
                    "metadata": {}
                },
                {
                    "output_type": "display_data",
                    "data": {
                        "text/html": "Total execution time: 00:00:00.001"
                    },
                    "metadata": {}
                },
                {
                    "output_type": "execute_result",
                    "metadata": {},
                    "execution_count": 66,
                    "data": {
                        "application/vnd.dataresource+json": {
                            "schema": {
                                "fields": [
                                    {
                                        "name": "lower case uuid"
                                    },
                                    {
                                        "name": "lower case uuid"
                                    },
                                    {
                                        "name": "ungrouped uuid"
                                    }
                                ]
                            },
                            "data": [
                                {
                                    "lower case uuid": "a0eebc99-9c0b-4ef8-bb6d-6bb9bd380a11",
                                    "ungrouped uuid": "a0eebc99-9c0b-4ef8-bb6d-6bb9bd380a11"
                                }
                            ]
                        },
                        "text/html": [
                            "<table>",
                            "<tr><th>lower case uuid</th><th>lower case uuid</th><th>ungrouped uuid</th></tr>",
                            "<tr><td>a0eebc99-9c0b-4ef8-bb6d-6bb9bd380a11</td><td>a0eebc99-9c0b-4ef8-bb6d-6bb9bd380a11</td><td>a0eebc99-9c0b-4ef8-bb6d-6bb9bd380a11</td></tr>",
                            "</table>"
                        ]
                    }
                }
            ],
            "execution_count": 66
        },
        {
            "cell_type": "markdown",
            "source": [
                "## XML Type\n",
                "\n",
                "XML :   unlimited length\n",
                "\n",
                ""
            ],
            "metadata": {
                "language": "sql",
                "azdata_cell_guid": "8a189204-276a-4079-9843-43d8505ed3a8"
            },
            "attachments": {}
        },
        {
            "cell_type": "code",
            "source": [
                "select '<a>42</a>'::XML as \"XML Content\""
            ],
            "metadata": {
                "language": "sql",
                "azdata_cell_guid": "43d6fe95-b442-4142-9a94-df1f18666fbc"
            },
            "outputs": [
                {
                    "output_type": "display_data",
                    "data": {
                        "text/html": "(1 row(s) affected)"
                    },
                    "metadata": {}
                },
                {
                    "output_type": "display_data",
                    "data": {
                        "text/html": "Total execution time: 00:00:00.001"
                    },
                    "metadata": {}
                },
                {
                    "output_type": "execute_result",
                    "metadata": {},
                    "execution_count": 67,
                    "data": {
                        "application/vnd.dataresource+json": {
                            "schema": {
                                "fields": [
                                    {
                                        "name": "XML Content"
                                    }
                                ]
                            },
                            "data": [
                                {
                                    "XML Content": "<a>42</a>"
                                }
                            ]
                        },
                        "text/html": [
                            "<table>",
                            "<tr><th>XML Content</th></tr>",
                            "<tr><td>&lt;a&gt;42&lt;/a&gt;</td></tr>",
                            "</table>"
                        ]
                    }
                }
            ],
            "execution_count": 67
        },
        {
            "cell_type": "code",
            "source": [
                "SELECT XML '<?xml version=\"1.0\"?>\n",
                "<book>\n",
                "    <title>Manual</title>\n",
                "    <chapter>...</chapter>\n",
                "</book>\n",
                "'\n",
                "as \"XML Document\""
            ],
            "metadata": {
                "language": "sql",
                "azdata_cell_guid": "d6b7fd48-dab6-4791-aff7-5fb96dcda078"
            },
            "outputs": [
                {
                    "output_type": "display_data",
                    "data": {
                        "text/html": "(1 row(s) affected)"
                    },
                    "metadata": {}
                },
                {
                    "output_type": "display_data",
                    "data": {
                        "text/html": "Total execution time: 00:00:00.001"
                    },
                    "metadata": {}
                },
                {
                    "output_type": "execute_result",
                    "metadata": {},
                    "execution_count": 68,
                    "data": {
                        "application/vnd.dataresource+json": {
                            "schema": {
                                "fields": [
                                    {
                                        "name": "XML Document"
                                    }
                                ]
                            },
                            "data": [
                                {
                                    "XML Document": "<book>\n    <title>Manual</title>\n    <chapter>...</chapter>\n</book>\n"
                                }
                            ]
                        },
                        "text/html": [
                            "<table>",
                            "<tr><th>XML Document</th></tr>",
                            "<tr><td>&lt;book&gt;\n    &lt;title&gt;Manual&lt;/title&gt;\n    &lt;chapter&gt;...&lt;/chapter&gt;\n&lt;/book&gt;\n</td></tr>",
                            "</table>"
                        ]
                    }
                }
            ],
            "execution_count": 68
        },
        {
            "cell_type": "code",
            "source": [
                "SELECT XMLPARSE (DOCUMENT '<?xml version=\"1.0\"?><book><title>Manual</title><chapter>...</chapter></book>')"
            ],
            "metadata": {
                "azdata_cell_guid": "040ed00a-dcd7-4e34-ae52-776efc4bd6da",
                "language": "sql"
            },
            "outputs": [
                {
                    "output_type": "display_data",
                    "data": {
                        "text/html": "(1 row(s) affected)"
                    },
                    "metadata": {}
                },
                {
                    "output_type": "display_data",
                    "data": {
                        "text/html": "Total execution time: 00:00:00.002"
                    },
                    "metadata": {}
                },
                {
                    "output_type": "execute_result",
                    "metadata": {},
                    "execution_count": 69,
                    "data": {
                        "application/vnd.dataresource+json": {
                            "schema": {
                                "fields": [
                                    {
                                        "name": "xmlparse"
                                    }
                                ]
                            },
                            "data": [
                                {
                                    "xmlparse": "<book><title>Manual</title><chapter>...</chapter></book>"
                                }
                            ]
                        },
                        "text/html": [
                            "<table>",
                            "<tr><th>xmlparse</th></tr>",
                            "<tr><td>&lt;book&gt;&lt;title&gt;Manual&lt;/title&gt;&lt;chapter&gt;...&lt;/chapter&gt;&lt;/book&gt;</td></tr>",
                            "</table>"
                        ]
                    }
                }
            ],
            "execution_count": 69
        },
        {
            "cell_type": "markdown",
            "source": [
                "## JSON Types\n",
                "\n",
                "\n",
                "JSON : unlimited length\n",
                "\n",
                "JSONB : unlimited length, binary format"
            ],
            "metadata": {
                "language": "sql",
                "azdata_cell_guid": "f23c2a85-8d80-4c49-8ae1-cd698580b14e"
            },
            "attachments": {}
        },
        {
            "cell_type": "code",
            "source": [
                "select '{\"name\":\"Arthur\"}'::JSON,\n",
                " '{\"name\":\"Arthur\"}'::JSONB,\n",
                " JSON  '{\"name\":\"Arthur\"}';"
            ],
            "metadata": {
                "language": "sql",
                "azdata_cell_guid": "e9395386-1c12-4808-b8f9-12676246208b"
            },
            "outputs": [
                {
                    "output_type": "display_data",
                    "data": {
                        "text/html": "(1 row(s) affected)"
                    },
                    "metadata": {}
                },
                {
                    "output_type": "display_data",
                    "data": {
                        "text/html": "Total execution time: 00:00:00.001"
                    },
                    "metadata": {}
                },
                {
                    "output_type": "execute_result",
                    "metadata": {},
                    "execution_count": 72,
                    "data": {
                        "application/vnd.dataresource+json": {
                            "schema": {
                                "fields": [
                                    {
                                        "name": "json"
                                    },
                                    {
                                        "name": "jsonb"
                                    },
                                    {
                                        "name": "json"
                                    }
                                ]
                            },
                            "data": [
                                {
                                    "json": "{\"name\":\"Arthur\"}",
                                    "jsonb": "{\"name\": \"Arthur\"}"
                                }
                            ]
                        },
                        "text/html": [
                            "<table>",
                            "<tr><th>json</th><th>jsonb</th><th>json</th></tr>",
                            "<tr><td>{&quot;name&quot;:&quot;Arthur&quot;}</td><td>{&quot;name&quot;: &quot;Arthur&quot;}</td><td>{&quot;name&quot;:&quot;Arthur&quot;}</td></tr>",
                            "</table>"
                        ]
                    }
                }
            ],
            "execution_count": 72
        },
        {
            "cell_type": "markdown",
            "source": [
                "## Range Types\n",
                "\n",
                "\n",
                "### Numbers\n",
                "\n",
                "INT4RANGE : 4 bytes integers\n",
                "\n",
                "INT8RANGE : 8 bytes integers\n",
                "\n",
                "NUMRANGE : range of numeric type"
            ],
            "metadata": {
                "language": "sql",
                "azdata_cell_guid": "8f10eeed-4a5e-4ed2-b7a1-03965bf09115"
            },
            "attachments": {}
        },
        {
            "cell_type": "code",
            "source": [
                "select int4range(10, 20) as \"Range of integers\",\n",
                "numrange(2.17, 3.14) as \"Range of numerics\";\n",
                ""
            ],
            "metadata": {
                "language": "sql",
                "azdata_cell_guid": "40f1060f-ffae-4de5-8d70-7ca828f451eb",
                "tags": []
            },
            "outputs": [
                {
                    "output_type": "display_data",
                    "data": {
                        "text/html": "(1 row(s) affected)"
                    },
                    "metadata": {}
                },
                {
                    "output_type": "display_data",
                    "data": {
                        "text/html": "Total execution time: 00:00:00.002"
                    },
                    "metadata": {}
                },
                {
                    "output_type": "execute_result",
                    "metadata": {},
                    "execution_count": 74,
                    "data": {
                        "application/vnd.dataresource+json": {
                            "schema": {
                                "fields": [
                                    {
                                        "name": "Range of integers"
                                    },
                                    {
                                        "name": "Range of numerics"
                                    }
                                ]
                            },
                            "data": [
                                {
                                    "Range of integers": "[10,20)",
                                    "Range of numerics": "[2.17,3.14)"
                                }
                            ]
                        },
                        "text/html": [
                            "<table>",
                            "<tr><th>Range of integers</th><th>Range of numerics</th></tr>",
                            "<tr><td>[10,20)</td><td>[2.17,3.14)</td></tr>",
                            "</table>"
                        ]
                    }
                }
            ],
            "execution_count": 74
        },
        {
            "cell_type": "markdown",
            "source": [
                "### Dates and Times\n",
                "\n",
                "TSRANGE :  timestamps without time zone\n",
                "\n",
                "TSTZRANGE : timestamps with time zone\n",
                "\n",
                "DATERAGE : dates\n",
                ""
            ],
            "metadata": {
                "language": "sql",
                "azdata_cell_guid": "515c25eb-de1b-4d8c-b855-daf4f9d5edc0"
            },
            "attachments": {}
        },
        {
            "cell_type": "code",
            "source": [
                "SELECT tsrange('20200228 00:00:00', '20200229 11:59:59') as \"Timestamp range covering the leap day in 2020\",\n",
                "daterange('20300101', '20401231') as \"Date range from 2030 to 2040\""
            ],
            "metadata": {
                "language": "sql",
                "azdata_cell_guid": "a367e332-89d3-4f00-89d5-1c87c00cb8bc"
            },
            "outputs": [
                {
                    "output_type": "display_data",
                    "data": {
                        "text/html": "(1 row(s) affected)"
                    },
                    "metadata": {}
                },
                {
                    "output_type": "display_data",
                    "data": {
                        "text/html": "Total execution time: 00:00:00.001"
                    },
                    "metadata": {}
                },
                {
                    "output_type": "execute_result",
                    "metadata": {},
                    "execution_count": 76,
                    "data": {
                        "application/vnd.dataresource+json": {
                            "schema": {
                                "fields": [
                                    {
                                        "name": "Timestamp range covering the leap day in 2020"
                                    },
                                    {
                                        "name": "Date range from 2030 to 2040"
                                    }
                                ]
                            },
                            "data": [
                                {
                                    "Timestamp range covering the leap day in 2020": "[\"2020-02-28 00:00:00\",\"2020-02-29 11:59:59\")",
                                    "Date range from 2030 to 2040": "[2030-01-01,2040-12-31)"
                                }
                            ]
                        },
                        "text/html": [
                            "<table>",
                            "<tr><th>Timestamp range covering the leap day in 2020</th><th>Date range from 2030 to 2040</th></tr>",
                            "<tr><td>[&quot;2020-02-28 00:00:00&quot;,&quot;2020-02-29 11:59:59&quot;)</td><td>[2030-01-01,2040-12-31)</td></tr>",
                            "</table>"
                        ]
                    }
                }
            ],
            "execution_count": 76
        },
        {
            "cell_type": "markdown",
            "source": [
                "# Doing Math\n",
                "\n",
                "## Mathematical operators\n",
                "\n",
                "+ Scalar math functions\n",
                "+ Random functions\n",
                "+ Trigonometric functions\n",
                "+ Aggregate functions\n",
                "+ Converting and formatting numbers\n",
                "\n",
                "\n",
                "\n",
                "\n",
                "\n",
                "\n",
                "\n",
                "\n",
                "\n",
                "\n",
                ""
            ],
            "metadata": {
                "azdata_cell_guid": "b49f9940-6db4-49e1-88b3-4dc309983ea1"
            },
            "attachments": {}
        },
        {
            "cell_type": "markdown",
            "source": [
                "## Math Operators\n",
                "\n",
                "### ANSI Standard\n",
                "\n",
                "\n",
                ""
            ],
            "metadata": {
                "azdata_cell_guid": "48310313-d480-4fb8-9a37-efc5909439d6"
            },
            "attachments": {}
        },
        {
            "cell_type": "code",
            "source": [
                "SELECT \n",
                "    2 + 3 as \"Addition\",\n",
                "    2 - 3 as \"Subtraction\",\n",
                "    2 * 3 as \"Multiplication\",\n",
                "    5 / 3 as \"division (Integer)\", DIV(5,2),\n",
                "    5.0 / 2 as \"Division ( Non-Integer)\";"
            ],
            "metadata": {
                "azdata_cell_guid": "a3a3e679-40e6-441e-a023-91b1bf959f07",
                "language": "sql"
            },
            "outputs": [
                {
                    "output_type": "display_data",
                    "data": {
                        "text/html": "(1 row(s) affected)"
                    },
                    "metadata": {}
                },
                {
                    "output_type": "display_data",
                    "data": {
                        "text/html": "Total execution time: 00:00:00.001"
                    },
                    "metadata": {}
                },
                {
                    "output_type": "execute_result",
                    "metadata": {},
                    "execution_count": 79,
                    "data": {
                        "application/vnd.dataresource+json": {
                            "schema": {
                                "fields": [
                                    {
                                        "name": "Addition"
                                    },
                                    {
                                        "name": "Subtraction"
                                    },
                                    {
                                        "name": "Multiplication"
                                    },
                                    {
                                        "name": "division (Integer)"
                                    },
                                    {
                                        "name": "div"
                                    },
                                    {
                                        "name": "Division ( Non-Integer)"
                                    }
                                ]
                            },
                            "data": [
                                {
                                    "Addition": "5",
                                    "Subtraction": "-1",
                                    "Multiplication": "6",
                                    "division (Integer)": "1",
                                    "div": "2",
                                    "Division ( Non-Integer)": "2.5000000000000000"
                                }
                            ]
                        },
                        "text/html": [
                            "<table>",
                            "<tr><th>Addition</th><th>Subtraction</th><th>Multiplication</th><th>division (Integer)</th><th>div</th><th>Division ( Non-Integer)</th></tr>",
                            "<tr><td>5</td><td>-1</td><td>6</td><td>1</td><td>2</td><td>2.5000000000000000</td></tr>",
                            "</table>"
                        ]
                    }
                }
            ],
            "execution_count": 79
        },
        {
            "cell_type": "markdown",
            "source": [
                "### Convenience Operators\n",
                ""
            ],
            "metadata": {
                "azdata_cell_guid": "a5b47844-e7a7-422a-8c9c-95cae235703a"
            },
            "attachments": {}
        },
        {
            "cell_type": "code",
            "source": [
                "SELECT \n",
                "    5 % 2 as \"Modulo(remainder)\", MOD(5,2),\n",
                "    5 ^ 2 as \"Exponentiation\",POWER(5,2),\n",
                "    |/ 25 as \"Square root\",SQRT(25),\n",
                "    @ -42 as \"Absolute value\", ABS(-42);"
            ],
            "metadata": {
                "azdata_cell_guid": "22c28057-96a8-43b0-9f48-c9773a7bc1fe",
                "language": "sql"
            },
            "outputs": [
                {
                    "output_type": "display_data",
                    "data": {
                        "text/html": "(1 row(s) affected)"
                    },
                    "metadata": {}
                },
                {
                    "output_type": "display_data",
                    "data": {
                        "text/html": "Total execution time: 00:00:00.001"
                    },
                    "metadata": {}
                },
                {
                    "output_type": "execute_result",
                    "metadata": {},
                    "execution_count": 81,
                    "data": {
                        "application/vnd.dataresource+json": {
                            "schema": {
                                "fields": [
                                    {
                                        "name": "Modulo(remainder)"
                                    },
                                    {
                                        "name": "mod"
                                    },
                                    {
                                        "name": "Exponentiation"
                                    },
                                    {
                                        "name": "power"
                                    },
                                    {
                                        "name": "Square root"
                                    },
                                    {
                                        "name": "sqrt"
                                    },
                                    {
                                        "name": "Absolute value"
                                    },
                                    {
                                        "name": "abs"
                                    }
                                ]
                            },
                            "data": [
                                {
                                    "Modulo(remainder)": "1",
                                    "mod": "1",
                                    "Exponentiation": "25",
                                    "power": "25",
                                    "Square root": "5",
                                    "sqrt": "5",
                                    "Absolute value": "42",
                                    "abs": "42"
                                }
                            ]
                        },
                        "text/html": [
                            "<table>",
                            "<tr><th>Modulo(remainder)</th><th>mod</th><th>Exponentiation</th><th>power</th><th>Square root</th><th>sqrt</th><th>Absolute value</th><th>abs</th></tr>",
                            "<tr><td>1</td><td>1</td><td>25</td><td>25</td><td>5</td><td>5</td><td>42</td><td>42</td></tr>",
                            "</table>"
                        ]
                    }
                }
            ],
            "execution_count": 81
        },
        {
            "cell_type": "markdown",
            "source": [
                "### PostgreSQL Extensions\n",
                ""
            ],
            "metadata": {
                "language": "sql",
                "azdata_cell_guid": "526f7892-e8e7-4403-a3b8-afb6e950a75d"
            },
            "attachments": {}
        },
        {
            "cell_type": "code",
            "source": [
                "SELECT\n",
                "||/ 27 AS \"Cube root\", CBRT(27),\n",
                "Factorial(5) as \"Factorial\";\n",
                "\n",
                "-- 5 ! AS \"Factorial\",\n",
                "-- !! 5 AS \"Factorial (prefix)\""
            ],
            "metadata": {
                "language": "sql",
                "azdata_cell_guid": "ce4e1ebb-a687-4d66-9496-59165868a68f"
            },
            "outputs": [
                {
                    "output_type": "display_data",
                    "data": {
                        "text/html": "(1 row(s) affected)"
                    },
                    "metadata": {}
                },
                {
                    "output_type": "display_data",
                    "data": {
                        "text/html": "Total execution time: 00:00:00.001"
                    },
                    "metadata": {}
                },
                {
                    "output_type": "execute_result",
                    "metadata": {},
                    "execution_count": 83,
                    "data": {
                        "application/vnd.dataresource+json": {
                            "schema": {
                                "fields": [
                                    {
                                        "name": "Cube root"
                                    },
                                    {
                                        "name": "cbrt"
                                    },
                                    {
                                        "name": "Factorial"
                                    }
                                ]
                            },
                            "data": [
                                {
                                    "Cube root": "3",
                                    "cbrt": "3",
                                    "Factorial": "120"
                                }
                            ]
                        },
                        "text/html": [
                            "<table>",
                            "<tr><th>Cube root</th><th>cbrt</th><th>Factorial</th></tr>",
                            "<tr><td>3</td><td>3</td><td>120</td></tr>",
                            "</table>"
                        ]
                    }
                }
            ],
            "execution_count": 83
        },
        {
            "cell_type": "markdown",
            "source": [
                "### Bitwise Operators"
            ],
            "metadata": {
                "azdata_cell_guid": "917d8868-e5db-441a-aad9-89a4b22dcb8f"
            },
            "attachments": {}
        },
        {
            "cell_type": "code",
            "source": [
                "SELECT\n",
                "    42 & 24 AS \"AND\",\n",
                "    42 | 24 AS \"OR\",\n",
                "    42 # 24 AS \"Xor\",\n",
                "    ~1 AS \"Negation\",\n",
                "    42 << 1 AS \"Left shift\",\n",
                "    42 >> 1 AS \"Right shift\";"
            ],
            "metadata": {
                "azdata_cell_guid": "82da9912-923d-4e7c-bf5c-48d3454f3b85",
                "language": "sql"
            },
            "outputs": [
                {
                    "output_type": "display_data",
                    "data": {
                        "text/html": "(1 row(s) affected)"
                    },
                    "metadata": {}
                },
                {
                    "output_type": "display_data",
                    "data": {
                        "text/html": "Total execution time: 00:00:00.001"
                    },
                    "metadata": {}
                },
                {
                    "output_type": "execute_result",
                    "metadata": {},
                    "execution_count": 84,
                    "data": {
                        "application/vnd.dataresource+json": {
                            "schema": {
                                "fields": [
                                    {
                                        "name": "AND"
                                    },
                                    {
                                        "name": "OR"
                                    },
                                    {
                                        "name": "Xor"
                                    },
                                    {
                                        "name": "Negation"
                                    },
                                    {
                                        "name": "Left shift"
                                    },
                                    {
                                        "name": "Right shift"
                                    }
                                ]
                            },
                            "data": [
                                {
                                    "AND": "8",
                                    "OR": "58",
                                    "Xor": "50",
                                    "Negation": "-2",
                                    "Left shift": "84",
                                    "Right shift": "21"
                                }
                            ]
                        },
                        "text/html": [
                            "<table>",
                            "<tr><th>AND</th><th>OR</th><th>Xor</th><th>Negation</th><th>Left shift</th><th>Right shift</th></tr>",
                            "<tr><td>8</td><td>58</td><td>50</td><td>-2</td><td>84</td><td>21</td></tr>",
                            "</table>"
                        ]
                    }
                }
            ],
            "execution_count": 84
        },
        {
            "cell_type": "markdown",
            "source": [
                "## Scalar Functions\n",
                "\n",
                "### ANSI Standard functions supported by PostgreSQL\n",
                "\n",
                ""
            ],
            "metadata": {
                "azdata_cell_guid": "cf7cdca2-e897-4f9f-aef1-6677738e1219"
            },
            "attachments": {}
        },
        {
            "cell_type": "code",
            "source": [
                "SELECT\n",
                "    ABS(-42) AS \"Absolute value\",\n",
                "    MOD(5,2) AS \"Modulus (remainder)\",\n",
                "    LOG(2,8) AS \"general Logarithm\",\n",
                "    LN(42) AS \"Natural Logarithm\";"
            ],
            "metadata": {
                "azdata_cell_guid": "89cef564-6546-44a8-b117-061df4b9485a",
                "language": "sql"
            },
            "outputs": [
                {
                    "output_type": "display_data",
                    "data": {
                        "text/html": "(1 row(s) affected)"
                    },
                    "metadata": {}
                },
                {
                    "output_type": "display_data",
                    "data": {
                        "text/html": "Total execution time: 00:00:00.003"
                    },
                    "metadata": {}
                },
                {
                    "output_type": "execute_result",
                    "metadata": {},
                    "execution_count": 85,
                    "data": {
                        "application/vnd.dataresource+json": {
                            "schema": {
                                "fields": [
                                    {
                                        "name": "Absolute value"
                                    },
                                    {
                                        "name": "Modulus (remainder)"
                                    },
                                    {
                                        "name": "general Logarithm"
                                    },
                                    {
                                        "name": "Natural Logarithm"
                                    }
                                ]
                            },
                            "data": [
                                {
                                    "Absolute value": "42",
                                    "Modulus (remainder)": "1",
                                    "general Logarithm": "3.0000000000000000",
                                    "Natural Logarithm": "3.7376696182833684"
                                }
                            ]
                        },
                        "text/html": [
                            "<table>",
                            "<tr><th>Absolute value</th><th>Modulus (remainder)</th><th>general Logarithm</th><th>Natural Logarithm</th></tr>",
                            "<tr><td>42</td><td>1</td><td>3.0000000000000000</td><td>3.7376696182833684</td></tr>",
                            "</table>"
                        ]
                    }
                }
            ],
            "execution_count": 85
        },
        {
            "cell_type": "code",
            "source": [
                "SELECT\n",
                "    EXP(1) AS \"Exponential of e\",\n",
                "    POWER(5,2) AS \"POWER\",\n",
                "    SQRT(2) as \"Square Root\",\n",
                "    FLOOR(3.14159) as \"Floor\",\n",
                "    CEIL(3.1415) as \"Ceiling\", CEILING(3.14159);"
            ],
            "metadata": {
                "azdata_cell_guid": "6faeb9d3-526a-44df-86c0-003699cd7b54",
                "language": "sql"
            },
            "outputs": [
                {
                    "output_type": "display_data",
                    "data": {
                        "text/html": "(1 row(s) affected)"
                    },
                    "metadata": {}
                },
                {
                    "output_type": "display_data",
                    "data": {
                        "text/html": "Total execution time: 00:00:00.001"
                    },
                    "metadata": {}
                },
                {
                    "output_type": "execute_result",
                    "metadata": {},
                    "execution_count": 87,
                    "data": {
                        "application/vnd.dataresource+json": {
                            "schema": {
                                "fields": [
                                    {
                                        "name": "Exponential of e"
                                    },
                                    {
                                        "name": "POWER"
                                    },
                                    {
                                        "name": "Square Root"
                                    },
                                    {
                                        "name": "Floor"
                                    },
                                    {
                                        "name": "Ceiling"
                                    },
                                    {
                                        "name": "ceiling"
                                    }
                                ]
                            },
                            "data": [
                                {
                                    "Exponential of e": "2.718281828459045",
                                    "POWER": "25",
                                    "Square Root": "1.4142135623730951",
                                    "Floor": "3",
                                    "Ceiling": "4",
                                    "ceiling": "4"
                                }
                            ]
                        },
                        "text/html": [
                            "<table>",
                            "<tr><th>Exponential of e</th><th>POWER</th><th>Square Root</th><th>Floor</th><th>Ceiling</th><th>ceiling</th></tr>",
                            "<tr><td>2.718281828459045</td><td>25</td><td>1.4142135623730951</td><td>3</td><td>4</td><td>4</td></tr>",
                            "</table>"
                        ]
                    }
                }
            ],
            "execution_count": 87
        },
        {
            "cell_type": "markdown",
            "source": [
                "### PostgreSQL Extensions\n",
                ""
            ],
            "metadata": {
                "language": "sql",
                "azdata_cell_guid": "9058aa48-920c-413c-8a49-c72904d2e051"
            },
            "attachments": {}
        },
        {
            "cell_type": "code",
            "source": [
                "SELECT\n",
                "    cbrt(42) AS \"Cube root\",\n",
                "    degrees(42) as \"radians to degrees\",\n",
                "    radians(42) as \"Degrees to Radians\",\n",
                "    log(42) AS \"Base 10 logarithm\",\n",
                "    PI() AS \"pi constant\";"
            ],
            "metadata": {
                "language": "sql",
                "azdata_cell_guid": "a1777210-0f85-4195-8c9a-671a58c8e054"
            },
            "outputs": [
                {
                    "output_type": "display_data",
                    "data": {
                        "text/html": "(1 row(s) affected)"
                    },
                    "metadata": {}
                },
                {
                    "output_type": "display_data",
                    "data": {
                        "text/html": "Total execution time: 00:00:00.001"
                    },
                    "metadata": {}
                },
                {
                    "output_type": "execute_result",
                    "metadata": {},
                    "execution_count": 88,
                    "data": {
                        "application/vnd.dataresource+json": {
                            "schema": {
                                "fields": [
                                    {
                                        "name": "Cube root"
                                    },
                                    {
                                        "name": "radians to degrees"
                                    },
                                    {
                                        "name": "Degrees to Radians"
                                    },
                                    {
                                        "name": "Base 10 logarithm"
                                    },
                                    {
                                        "name": "pi constant"
                                    }
                                ]
                            },
                            "data": [
                                {
                                    "Cube root": "3.4760266448864496",
                                    "radians to degrees": "2406.4227395494577",
                                    "Degrees to Radians": "0.7330382858376184",
                                    "Base 10 logarithm": "1.6232492903979006",
                                    "pi constant": "3.141592653589793"
                                }
                            ]
                        },
                        "text/html": [
                            "<table>",
                            "<tr><th>Cube root</th><th>radians to degrees</th><th>Degrees to Radians</th><th>Base 10 logarithm</th><th>pi constant</th></tr>",
                            "<tr><td>3.4760266448864496</td><td>2406.4227395494577</td><td>0.7330382858376184</td><td>1.6232492903979006</td><td>3.141592653589793</td></tr>",
                            "</table>"
                        ]
                    }
                }
            ],
            "execution_count": 88
        },
        {
            "cell_type": "code",
            "source": [
                "SELECT\n",
                "    round(42.4) as \"Round to nearest integer\",\n",
                "    round(42.1234, 2) as \"Round to a number of decimal places\",\n",
                "    scale(42.5324) as \"Number of digits after decimal point\";"
            ],
            "metadata": {
                "azdata_cell_guid": "0ba99643-df41-45c3-a659-95690a89a111",
                "language": "sql"
            },
            "outputs": [
                {
                    "output_type": "display_data",
                    "data": {
                        "text/html": "(1 row(s) affected)"
                    },
                    "metadata": {}
                },
                {
                    "output_type": "display_data",
                    "data": {
                        "text/html": "Total execution time: 00:00:00.001"
                    },
                    "metadata": {}
                },
                {
                    "output_type": "execute_result",
                    "metadata": {},
                    "execution_count": 90,
                    "data": {
                        "application/vnd.dataresource+json": {
                            "schema": {
                                "fields": [
                                    {
                                        "name": "Round to nearest integer"
                                    },
                                    {
                                        "name": "Round to a number of decimal places"
                                    },
                                    {
                                        "name": "Number of digits after decimal point"
                                    }
                                ]
                            },
                            "data": [
                                {
                                    "Round to nearest integer": "42",
                                    "Round to a number of decimal places": "42.12",
                                    "Number of digits after decimal point": "4"
                                }
                            ]
                        },
                        "text/html": [
                            "<table>",
                            "<tr><th>Round to nearest integer</th><th>Round to a number of decimal places</th><th>Number of digits after decimal point</th></tr>",
                            "<tr><td>42</td><td>42.12</td><td>4</td></tr>",
                            "</table>"
                        ]
                    }
                }
            ],
            "execution_count": 90
        },
        {
            "cell_type": "code",
            "source": [
                "SELECT\n",
                "    sign(-1) as \"sign\",\n",
                "    trunc(42.5) as \"Truncate toward zero\",\n",
                "    trunc(42.123, 2) as \"Truncate to a number of decimal places\";"
            ],
            "metadata": {
                "azdata_cell_guid": "f96604c9-dd0b-4909-ac4d-5b8f83165700",
                "language": "sql"
            },
            "outputs": [
                {
                    "output_type": "display_data",
                    "data": {
                        "text/html": "(1 row(s) affected)"
                    },
                    "metadata": {}
                },
                {
                    "output_type": "display_data",
                    "data": {
                        "text/html": "Total execution time: 00:00:00.001"
                    },
                    "metadata": {}
                },
                {
                    "output_type": "execute_result",
                    "metadata": {},
                    "execution_count": 91,
                    "data": {
                        "application/vnd.dataresource+json": {
                            "schema": {
                                "fields": [
                                    {
                                        "name": "sign"
                                    },
                                    {
                                        "name": "Truncate toward zero"
                                    },
                                    {
                                        "name": "Truncate to a number of decimal places"
                                    }
                                ]
                            },
                            "data": [
                                {
                                    "sign": "-1",
                                    "Truncate toward zero": "42",
                                    "Truncate to a number of decimal places": "42.12"
                                }
                            ]
                        },
                        "text/html": [
                            "<table>",
                            "<tr><th>sign</th><th>Truncate toward zero</th><th>Truncate to a number of decimal places</th></tr>",
                            "<tr><td>-1</td><td>42</td><td>42.12</td></tr>",
                            "</table>"
                        ]
                    }
                }
            ],
            "execution_count": 91
        },
        {
            "cell_type": "markdown",
            "source": [
                "## Random number functions"
            ],
            "metadata": {
                "language": "sql",
                "azdata_cell_guid": "3cddfa26-95f8-4388-9b3b-b7e93ff513b1"
            },
            "attachments": {}
        },
        {
            "cell_type": "code",
            "source": [
                "-- select setseed(.42);\n",
                "select random()"
            ],
            "metadata": {
                "language": "sql",
                "azdata_cell_guid": "d2bc65ba-3955-4fa5-90cf-eaee43820385"
            },
            "outputs": [
                {
                    "output_type": "display_data",
                    "data": {
                        "text/html": "(1 row(s) affected)"
                    },
                    "metadata": {}
                },
                {
                    "output_type": "display_data",
                    "data": {
                        "text/html": "Total execution time: 00:00:00"
                    },
                    "metadata": {}
                },
                {
                    "output_type": "execute_result",
                    "metadata": {},
                    "execution_count": 99,
                    "data": {
                        "application/vnd.dataresource+json": {
                            "schema": {
                                "fields": [
                                    {
                                        "name": "random"
                                    }
                                ]
                            },
                            "data": [
                                {
                                    "random": "0.9458112944865285"
                                }
                            ]
                        },
                        "text/html": [
                            "<table>",
                            "<tr><th>random</th></tr>",
                            "<tr><td>0.9458112944865285</td></tr>",
                            "</table>"
                        ]
                    }
                }
            ],
            "execution_count": 99
        },
        {
            "cell_type": "markdown",
            "source": [
                "## WIDTH_BUCKET (ANSI Standard, extended by PostgreSQL)"
            ],
            "metadata": {
                "azdata_cell_guid": "4b2b66f2-7343-4ab9-9db3-040760732a5a"
            },
            "attachments": {}
        },
        {
            "cell_type": "code",
            "source": [
                "SELECT\n",
                "    width_bucket(3.14159, 0, 5, 10) as \"10 buckets from 0 to 5 (ANSI)\",\n",
                "    width_bucket(42,array[30, 45 ,50]) as \"Array of buckets (PostgreSQL)\";"
            ],
            "metadata": {
                "azdata_cell_guid": "47b458ef-b36f-4189-9eb0-bf467e82ba4c",
                "language": "sql"
            },
            "outputs": [
                {
                    "output_type": "display_data",
                    "data": {
                        "text/html": "(1 row(s) affected)"
                    },
                    "metadata": {}
                },
                {
                    "output_type": "display_data",
                    "data": {
                        "text/html": "Total execution time: 00:00:00.001"
                    },
                    "metadata": {}
                },
                {
                    "output_type": "execute_result",
                    "metadata": {},
                    "execution_count": 102,
                    "data": {
                        "application/vnd.dataresource+json": {
                            "schema": {
                                "fields": [
                                    {
                                        "name": "10 buckets from 0 to 5 (ANSI)"
                                    },
                                    {
                                        "name": "Array of buckets (PostgreSQL)"
                                    }
                                ]
                            },
                            "data": [
                                {
                                    "10 buckets from 0 to 5 (ANSI)": "7",
                                    "Array of buckets (PostgreSQL)": "1"
                                }
                            ]
                        },
                        "text/html": [
                            "<table>",
                            "<tr><th>10 buckets from 0 to 5 (ANSI)</th><th>Array of buckets (PostgreSQL)</th></tr>",
                            "<tr><td>7</td><td>1</td></tr>",
                            "</table>"
                        ]
                    }
                }
            ],
            "execution_count": 102
        },
        {
            "cell_type": "markdown",
            "source": [
                "## Trgonometric Functions\n",
                "\n",
                "### ANSI Standard functions supported by PostgreSQL\n",
                "\n",
                "\n",
                "+ Hyperbolic functions SINH, COSH, TANS not supported before version 12\n",
                ""
            ],
            "metadata": {
                "language": "sql",
                "azdata_cell_guid": "17d87ce1-78de-4e2a-b746-7f24578bd038"
            },
            "attachments": {}
        },
        {
            "cell_type": "code",
            "source": [
                "SELECT \n",
                "sin(.42),\n",
                "cos(.42),\n",
                "tan(.42);"
            ],
            "metadata": {
                "language": "sql",
                "azdata_cell_guid": "49a15304-172a-4604-ab47-8a60c36c4199"
            },
            "outputs": [
                {
                    "output_type": "display_data",
                    "data": {
                        "text/html": "(1 row(s) affected)"
                    },
                    "metadata": {}
                },
                {
                    "output_type": "display_data",
                    "data": {
                        "text/html": "Total execution time: 00:00:00.001"
                    },
                    "metadata": {}
                },
                {
                    "output_type": "execute_result",
                    "metadata": {},
                    "execution_count": 103,
                    "data": {
                        "application/vnd.dataresource+json": {
                            "schema": {
                                "fields": [
                                    {
                                        "name": "sin"
                                    },
                                    {
                                        "name": "cos"
                                    },
                                    {
                                        "name": "tan"
                                    }
                                ]
                            },
                            "data": [
                                {
                                    "sin": "0.40776045305957015",
                                    "cos": "0.9130889403123083",
                                    "tan": "0.4465725462845951"
                                }
                            ]
                        },
                        "text/html": [
                            "<table>",
                            "<tr><th>sin</th><th>cos</th><th>tan</th></tr>",
                            "<tr><td>0.40776045305957015</td><td>0.9130889403123083</td><td>0.4465725462845951</td></tr>",
                            "</table>"
                        ]
                    }
                }
            ],
            "execution_count": 103
        },
        {
            "cell_type": "code",
            "source": [
                "SELECT\n",
                "    ASIN(.42),\n",
                "    ACOS(.42),\n",
                "    ATAN(.42);"
            ],
            "metadata": {
                "language": "sql",
                "azdata_cell_guid": "20ed9e32-8dd5-4644-bc3d-57d62f4afe75"
            },
            "outputs": [
                {
                    "output_type": "display_data",
                    "data": {
                        "text/html": "(1 row(s) affected)"
                    },
                    "metadata": {}
                },
                {
                    "output_type": "display_data",
                    "data": {
                        "text/html": "Total execution time: 00:00:00.002"
                    },
                    "metadata": {}
                },
                {
                    "output_type": "execute_result",
                    "metadata": {},
                    "execution_count": 104,
                    "data": {
                        "application/vnd.dataresource+json": {
                            "schema": {
                                "fields": [
                                    {
                                        "name": "asin"
                                    },
                                    {
                                        "name": "acos"
                                    },
                                    {
                                        "name": "atan"
                                    }
                                ]
                            },
                            "data": [
                                {
                                    "asin": "0.43344532006988595",
                                    "acos": "1.1373510067250108",
                                    "atan": "0.3976279915221293"
                                }
                            ]
                        },
                        "text/html": [
                            "<table>",
                            "<tr><th>asin</th><th>acos</th><th>atan</th></tr>",
                            "<tr><td>0.43344532006988595</td><td>1.1373510067250108</td><td>0.3976279915221293</td></tr>",
                            "</table>"
                        ]
                    }
                }
            ],
            "execution_count": 104
        },
        {
            "cell_type": "markdown",
            "source": [
                "### PostgreSQL Extensions\n",
                "\n",
                "+ COT, ATAN2\n",
                "+ Functions taking degrees instaed of radians (version 9.6 and up)"
            ],
            "metadata": {
                "azdata_cell_guid": "845dcd58-60c3-48f1-ab8d-c13bcb04e276"
            },
            "attachments": {}
        },
        {
            "cell_type": "code",
            "source": [
                "SELECT\n",
                "    cot(.42),\n",
                "    atan2(1,42);"
            ],
            "metadata": {
                "azdata_cell_guid": "a0bf6cc2-dcef-4e09-895b-60ffb6b7e835",
                "language": "sql"
            },
            "outputs": [
                {
                    "output_type": "display_data",
                    "data": {
                        "text/html": "(1 row(s) affected)"
                    },
                    "metadata": {}
                },
                {
                    "output_type": "display_data",
                    "data": {
                        "text/html": "Total execution time: 00:00:00.001"
                    },
                    "metadata": {}
                },
                {
                    "output_type": "execute_result",
                    "metadata": {},
                    "execution_count": 105,
                    "data": {
                        "application/vnd.dataresource+json": {
                            "schema": {
                                "fields": [
                                    {
                                        "name": "cot"
                                    },
                                    {
                                        "name": "atan2"
                                    }
                                ]
                            },
                            "data": [
                                {
                                    "cot": "2.2392778246666167",
                                    "atan2": "0.023805026185069942"
                                }
                            ]
                        },
                        "text/html": [
                            "<table>",
                            "<tr><th>cot</th><th>atan2</th></tr>",
                            "<tr><td>2.2392778246666167</td><td>0.023805026185069942</td></tr>",
                            "</table>"
                        ]
                    }
                }
            ],
            "execution_count": 105
        },
        {
            "cell_type": "code",
            "source": [
                "SELECT\n",
                "    sind(.42),\n",
                "    cosd(.42),\n",
                "    cotd(.42),\n",
                "    tand(.42);"
            ],
            "metadata": {
                "language": "sql",
                "azdata_cell_guid": "e2d1a5c9-f23a-4db0-986b-0a1228b1f1c2"
            },
            "outputs": [
                {
                    "output_type": "display_data",
                    "data": {
                        "text/html": "(1 row(s) affected)"
                    },
                    "metadata": {}
                },
                {
                    "output_type": "display_data",
                    "data": {
                        "text/html": "Total execution time: 00:00:00.001"
                    },
                    "metadata": {}
                },
                {
                    "output_type": "execute_result",
                    "metadata": {},
                    "execution_count": 106,
                    "data": {
                        "application/vnd.dataresource+json": {
                            "schema": {
                                "fields": [
                                    {
                                        "name": "sind"
                                    },
                                    {
                                        "name": "cosd"
                                    },
                                    {
                                        "name": "cotd"
                                    },
                                    {
                                        "name": "tand"
                                    }
                                ]
                            },
                            "data": [
                                {
                                    "sind": "0.007330317209460582",
                                    "cosd": "0.9999731328638829",
                                    "cotd": "136.41607918048996",
                                    "tand": "0.00733051415938231"
                                }
                            ]
                        },
                        "text/html": [
                            "<table>",
                            "<tr><th>sind</th><th>cosd</th><th>cotd</th><th>tand</th></tr>",
                            "<tr><td>0.007330317209460582</td><td>0.9999731328638829</td><td>136.41607918048996</td><td>0.00733051415938231</td></tr>",
                            "</table>"
                        ]
                    }
                }
            ],
            "execution_count": 106
        },
        {
            "cell_type": "code",
            "source": [
                "SELECT\n",
                "    asind(.42),\n",
                "    acosd(.42),\n",
                "    atand(.42),\n",
                "    atan2d(1,42);"
            ],
            "metadata": {
                "language": "sql",
                "azdata_cell_guid": "86b76511-d16c-4d8e-86fa-a955c5e53e68"
            },
            "outputs": [
                {
                    "output_type": "display_data",
                    "data": {
                        "text/html": "(1 row(s) affected)"
                    },
                    "metadata": {}
                },
                {
                    "output_type": "display_data",
                    "data": {
                        "text/html": "Total execution time: 00:00:00.001"
                    },
                    "metadata": {}
                },
                {
                    "output_type": "execute_result",
                    "metadata": {},
                    "execution_count": 107,
                    "data": {
                        "application/vnd.dataresource+json": {
                            "schema": {
                                "fields": [
                                    {
                                        "name": "asind"
                                    },
                                    {
                                        "name": "acosd"
                                    },
                                    {
                                        "name": "atand"
                                    },
                                    {
                                        "name": "atan2d"
                                    }
                                ]
                            },
                            "data": [
                                {
                                    "asind": "24.834587489701583",
                                    "acosd": "65.16541251029842",
                                    "atand": "22.782405730481685",
                                    "atan2d": "1.3639275316029187"
                                }
                            ]
                        },
                        "text/html": [
                            "<table>",
                            "<tr><th>asind</th><th>acosd</th><th>atand</th><th>atan2d</th></tr>",
                            "<tr><td>24.834587489701583</td><td>65.16541251029842</td><td>22.782405730481685</td><td>1.3639275316029187</td></tr>",
                            "</table>"
                        ]
                    }
                }
            ],
            "execution_count": 107
        },
        {
            "cell_type": "markdown",
            "source": [
                "## Aggregate Functions\n",
                "\n",
                "### ANSI Standard functions supported by PostgreSQL\n",
                "\n",
                ""
            ],
            "metadata": {
                "language": "sql",
                "azdata_cell_guid": "faabaf07-e4cb-4b7a-ab52-80599cb31cb0"
            },
            "attachments": {}
        },
        {
            "cell_type": "code",
            "source": [
                "SELECT\n",
                "count(*) as \"Number of customers\",\n",
                "count(DISTINCT \"state\") as \"Number of states\",\n",
                "min(age) as \"Minimum age\",\n",
                "avg(age) as \"Average age\",\n",
                "MAX(age) as \"Maximum age\",\n",
                "sum(income) as \"total income\",\n",
                "avg(age) filter (where 'state' in ('NY', 'CA'))\n",
                "from customers;"
            ],
            "metadata": {
                "language": "sql",
                "azdata_cell_guid": "93ffb903-f2f1-4de6-8a38-88bf0aa344b8",
                "tags": []
            },
            "outputs": [
                {
                    "output_type": "error",
                    "evalue": "relation \"customers\" does not exist",
                    "ename": "",
                    "traceback": []
                },
                {
                    "output_type": "display_data",
                    "data": {
                        "text/html": "Total execution time: 00:00:00"
                    },
                    "metadata": {}
                }
            ],
            "execution_count": 110
        },
        {
            "cell_type": "code",
            "source": [
                "SELECT\n",
                "    'state',\n",
                "    avg(income) as \"Average Income\",\n",
                "from customers\n",
                "GROUP by 'state'\n",
                "having max(age) > 50\n",
                "ORDER by 'state';"
            ],
            "metadata": {
                "language": "sql",
                "azdata_cell_guid": "a7b34860-50fe-4a1a-a82c-6ce9d6b91159"
            },
            "outputs": [],
            "execution_count": null
        },
        {
            "cell_type": "markdown",
            "source": [
                "### PostgreSQL extensitions\n",
                "\n",
                ""
            ],
            "metadata": {
                "language": "sql",
                "azdata_cell_guid": "45b9a8af-1e47-46c0-8d03-62bd172379c1"
            },
            "attachments": {}
        },
        {
            "cell_type": "code",
            "source": [
                "SELECT\n",
                "    bit_and(age) as \"The bitwise AND of all non-null age\",\n",
                "    big_or(age) as \"The bitwise OR of all non-null age\"\n",
                "from customers"
            ],
            "metadata": {
                "language": "sql",
                "azdata_cell_guid": "81dc3797-7b10-4e04-a974-d1ac358cd3f5"
            },
            "outputs": [],
            "execution_count": null
        },
        {
            "cell_type": "markdown",
            "source": [
                "## Statistical Functions\n",
                "\n",
                "### ANSI Standard Functions\n",
                "\n",
                ""
            ],
            "metadata": {
                "azdata_cell_guid": "e3161e48-98e9-4686-bcdc-f6188fefe993"
            },
            "attachments": {}
        },
        {
            "cell_type": "code",
            "source": [
                "select \n",
                "    stddev_pop(age),\n",
                "    stddev_samp(age) filter(where 'state' = 'NY'),\n",
                "    var_samp(income) filter (where age < 25),\n",
                "    var_pop(income),\n",
                "    variance(income) \n",
                "    from customers;"
            ],
            "metadata": {
                "azdata_cell_guid": "e2ff93f7-3057-4648-8c7b-b1723aadba1b",
                "language": "sql"
            },
            "outputs": [],
            "execution_count": null
        },
        {
            "cell_type": "code",
            "source": [
                "select \n",
                "    s.STATE,\n",
                "    corr(c.age, o.netamount),\n",
                "    covar_pop(c.age, o.netamount),\n",
                "    regr_intercept(c.age, o.netamount)\n",
                "from orders o\n",
                "join customers c\n",
                "on o.customerID = o.customerId\n",
                "where c.state in ('NY',\"CA\", \"FL\")"
            ],
            "metadata": {
                "language": "sql",
                "azdata_cell_guid": "cb702dc7-cc8c-48fb-8e49-d404e5a6fdcd"
            },
            "outputs": [],
            "execution_count": null
        },
        {
            "cell_type": "markdown",
            "source": [
                "### Ordered-set aggregate functions"
            ],
            "metadata": {
                "azdata_cell_guid": "0e61e5f4-d44f-41cc-9f63-a681c7e12f8d"
            },
            "attachments": {}
        },
        {
            "cell_type": "code",
            "source": [
                "SELECT\n",
                "    mode()\n",
                "        WITHIN group (order by age),\n",
                "    percentile_count(0.5),\n",
                "        WITHIN group (order by age),\n",
                "    percentile_disc(array[0, 0.25, 0.5, 0.75, 1])\n",
                "from customers"
            ],
            "metadata": {
                "azdata_cell_guid": "c61b32e0-dc78-49b2-9674-5c01842b129f",
                "language": "sql"
            },
            "outputs": [],
            "execution_count": null
        },
        {
            "cell_type": "markdown",
            "source": [
                "## Formatting Functions\n",
                "\n",
                "### input formatting using casting"
            ],
            "metadata": {
                "azdata_cell_guid": "732c0fe7-3919-4155-8886-f6088fd2640e"
            },
            "attachments": {}
        },
        {
            "cell_type": "code",
            "source": [
                "SELECT\n",
                "    '42'::int,\n",
                "    '42'::real,\n",
                "    '42'::numeric(5,2),\n",
                "    '42'::money;"
            ],
            "metadata": {
                "azdata_cell_guid": "18c15261-3d7d-4678-afe5-768ac9cf979e",
                "language": "sql"
            },
            "outputs": [
                {
                    "output_type": "display_data",
                    "data": {
                        "text/html": "(1 row(s) affected)"
                    },
                    "metadata": {}
                },
                {
                    "output_type": "display_data",
                    "data": {
                        "text/html": "Total execution time: 00:00:00.001"
                    },
                    "metadata": {}
                },
                {
                    "output_type": "execute_result",
                    "metadata": {},
                    "execution_count": 111,
                    "data": {
                        "application/vnd.dataresource+json": {
                            "schema": {
                                "fields": [
                                    {
                                        "name": "int4"
                                    },
                                    {
                                        "name": "float4"
                                    },
                                    {
                                        "name": "numeric"
                                    },
                                    {
                                        "name": "money"
                                    }
                                ]
                            },
                            "data": [
                                {
                                    "int4": "42",
                                    "float4": "42",
                                    "numeric": "42.00",
                                    "money": "$42.00"
                                }
                            ]
                        },
                        "text/html": [
                            "<table>",
                            "<tr><th>int4</th><th>float4</th><th>numeric</th><th>money</th></tr>",
                            "<tr><td>42</td><td>42</td><td>42.00</td><td>$42.00</td></tr>",
                            "</table>"
                        ]
                    }
                }
            ],
            "execution_count": 111
        },
        {
            "cell_type": "markdown",
            "source": [
                "### Input formatting using the TO_NUMBER function\n",
                ""
            ],
            "metadata": {
                "language": "sql",
                "azdata_cell_guid": "70c82c8c-0dcd-4a90-8ec7-2c22c0007bcd"
            },
            "attachments": {}
        },
        {
            "cell_type": "code",
            "source": [
                "select '1,000'::INT"
            ],
            "metadata": {
                "language": "sql",
                "azdata_cell_guid": "8890339e-29c9-4ec5-a244-64fdba67ab0a"
            },
            "outputs": [
                {
                    "output_type": "error",
                    "evalue": "invalid input syntax for type integer: \"1,000\"",
                    "ename": "",
                    "traceback": []
                },
                {
                    "output_type": "display_data",
                    "data": {
                        "text/html": "Total execution time: 00:00:00"
                    },
                    "metadata": {}
                }
            ],
            "execution_count": 116
        },
        {
            "cell_type": "code",
            "source": [
                "SELECT to_number('1,000', '9,999')::INT"
            ],
            "metadata": {
                "language": "sql",
                "azdata_cell_guid": "523c1257-c621-42bf-ae14-fa98162cd495"
            },
            "outputs": [
                {
                    "output_type": "display_data",
                    "data": {
                        "text/html": "(1 row(s) affected)"
                    },
                    "metadata": {}
                },
                {
                    "output_type": "display_data",
                    "data": {
                        "text/html": "Total execution time: 00:00:00"
                    },
                    "metadata": {}
                },
                {
                    "output_type": "execute_result",
                    "metadata": {},
                    "execution_count": 118,
                    "data": {
                        "application/vnd.dataresource+json": {
                            "schema": {
                                "fields": [
                                    {
                                        "name": "to_number"
                                    }
                                ]
                            },
                            "data": [
                                {
                                    "to_number": "1000"
                                }
                            ]
                        },
                        "text/html": [
                            "<table>",
                            "<tr><th>to_number</th></tr>",
                            "<tr><td>1000</td></tr>",
                            "</table>"
                        ]
                    }
                }
            ],
            "execution_count": 118
        },
        {
            "cell_type": "markdown",
            "source": [
                "[Table 9.29. Template Patterns for Numeric Formatting](https://www.postgresql.org/docs/current/functions-formatting.html)"
            ],
            "metadata": {
                "language": "sql",
                "azdata_cell_guid": "8eb3cb7c-456f-492d-8b8c-9d10c3cea22a"
            },
            "attachments": {}
        },
        {
            "cell_type": "code",
            "source": [
                "select \n",
                "to_number('-$42.00', 'SL99999D9999')::MONEY as \"Text to money\",\n",
                "to_number('42000', '99V999')::MONEY as \"Text to int with right shift\";\n",
                ""
            ],
            "metadata": {
                "language": "sql",
                "azdata_cell_guid": "5b2a8fef-980e-4917-939d-97398e4e9212"
            },
            "outputs": [
                {
                    "output_type": "display_data",
                    "data": {
                        "text/html": "(1 row(s) affected)"
                    },
                    "metadata": {}
                },
                {
                    "output_type": "display_data",
                    "data": {
                        "text/html": "Total execution time: 00:00:00.001"
                    },
                    "metadata": {}
                },
                {
                    "output_type": "execute_result",
                    "metadata": {},
                    "execution_count": 122,
                    "data": {
                        "application/vnd.dataresource+json": {
                            "schema": {
                                "fields": [
                                    {
                                        "name": "Text to money"
                                    },
                                    {
                                        "name": "Text to int with right shift"
                                    }
                                ]
                            },
                            "data": [
                                {
                                    "Text to money": "-$42.00",
                                    "Text to int with right shift": "$42.00"
                                }
                            ]
                        },
                        "text/html": [
                            "<table>",
                            "<tr><th>Text to money</th><th>Text to int with right shift</th></tr>",
                            "<tr><td>-$42.00</td><td>$42.00</td></tr>",
                            "</table>"
                        ]
                    }
                }
            ],
            "execution_count": 122
        },
        {
            "cell_type": "code",
            "source": [
                "select \n",
                "to_char(42, '000') AS \"Keep leading zeros\",\n",
                "to_char(42, '99.999') AS \"Keep trailing zeros\",\n",
                "to_char(42, 'FM99.999') AS \"Strip trailing zeros\""
            ],
            "metadata": {
                "language": "sql",
                "azdata_cell_guid": "f300d622-913e-42a9-a639-e2f5cf8c951b"
            },
            "outputs": [
                {
                    "output_type": "display_data",
                    "data": {
                        "text/html": "(1 row(s) affected)"
                    },
                    "metadata": {}
                },
                {
                    "output_type": "display_data",
                    "data": {
                        "text/html": "Total execution time: 00:00:00.001"
                    },
                    "metadata": {}
                },
                {
                    "output_type": "execute_result",
                    "metadata": {},
                    "execution_count": 120,
                    "data": {
                        "application/vnd.dataresource+json": {
                            "schema": {
                                "fields": [
                                    {
                                        "name": "Keep leading zeros"
                                    },
                                    {
                                        "name": "Keep trailing zeros"
                                    },
                                    {
                                        "name": "Strip trailing zeros"
                                    }
                                ]
                            },
                            "data": [
                                {
                                    "Keep leading zeros": " 042",
                                    "Keep trailing zeros": " 42.000",
                                    "Strip trailing zeros": "42."
                                }
                            ]
                        },
                        "text/html": [
                            "<table>",
                            "<tr><th>Keep leading zeros</th><th>Keep trailing zeros</th><th>Strip trailing zeros</th></tr>",
                            "<tr><td> 042</td><td> 42.000</td><td>42.</td></tr>",
                            "</table>"
                        ]
                    }
                }
            ],
            "execution_count": 120
        },
        {
            "cell_type": "code",
            "source": [
                "select \n",
                "to_char(42, '999th') AS \"Ordinal suffix\",\n",
                "to_char(42, 'FMRN') AS \"Roman numerals\",\n",
                "to_char(42, 'LFM99999D0099SG') AS \"Currency with trailing sign\";"
            ],
            "metadata": {
                "language": "sql",
                "azdata_cell_guid": "f5fd1ce7-ab76-449b-a54b-bb036d3c7062"
            },
            "outputs": [
                {
                    "output_type": "display_data",
                    "data": {
                        "text/html": "(1 row(s) affected)"
                    },
                    "metadata": {}
                },
                {
                    "output_type": "display_data",
                    "data": {
                        "text/html": "Total execution time: 00:00:00.001"
                    },
                    "metadata": {}
                },
                {
                    "output_type": "execute_result",
                    "metadata": {},
                    "execution_count": 123,
                    "data": {
                        "application/vnd.dataresource+json": {
                            "schema": {
                                "fields": [
                                    {
                                        "name": "Ordinal suffix"
                                    },
                                    {
                                        "name": "Roman numerals"
                                    },
                                    {
                                        "name": "Currency with trailing sign"
                                    }
                                ]
                            },
                            "data": [
                                {
                                    "Ordinal suffix": "  42nd",
                                    "Roman numerals": "XLII",
                                    "Currency with trailing sign": " 42.00+"
                                }
                            ]
                        },
                        "text/html": [
                            "<table>",
                            "<tr><th>Ordinal suffix</th><th>Roman numerals</th><th>Currency with trailing sign</th></tr>",
                            "<tr><td>  42nd</td><td>XLII</td><td> 42.00+</td></tr>",
                            "</table>"
                        ]
                    }
                }
            ],
            "execution_count": 123
        },
        {
            "cell_type": "markdown",
            "source": [
                "# Handling Character Data\n",
                "\n",
                "+ ANSI Standard functions and operators\n",
                "+ PostgreSQL extensions\n",
                "+ Vertical and horizontal aggregation\n",
                "+ Pattern matching\n",
                "+ Text searching\n",
                "+ Converting and formatting"
            ],
            "metadata": {
                "language": "sql",
                "azdata_cell_guid": "6f13078c-c0d7-4b69-ba85-e54871a5216b"
            },
            "attachments": {}
        },
        {
            "cell_type": "markdown",
            "source": [
                "## ANSI Functions and Operators\n",
                "\n",
                "### || Concatenation\n",
                "\n",
                ""
            ],
            "metadata": {
                "language": "sql",
                "azdata_cell_guid": "a55a6e91-6cde-496a-aa61-9ed15c8203a4"
            },
            "attachments": {}
        },
        {
            "cell_type": "code",
            "source": [
                "select 'foo' || 'bar' as \"concatenation\",\n",
                "    'The ' || 'answer ' || 'is ' || 42,\n",
                "    'pi = ' || 3.14159::float8,\n",
                "    'Today is: ' || CURRENT_DATE; "
            ],
            "metadata": {
                "language": "sql",
                "azdata_cell_guid": "30b4b1a7-490f-4167-9f9a-edd908f8831b"
            },
            "outputs": [
                {
                    "output_type": "display_data",
                    "data": {
                        "text/html": "(1 row(s) affected)"
                    },
                    "metadata": {}
                },
                {
                    "output_type": "display_data",
                    "data": {
                        "text/html": "Total execution time: 00:00:00.003"
                    },
                    "metadata": {}
                },
                {
                    "output_type": "execute_result",
                    "metadata": {},
                    "execution_count": 125,
                    "data": {
                        "application/vnd.dataresource+json": {
                            "schema": {
                                "fields": [
                                    {
                                        "name": "concatenation"
                                    },
                                    {
                                        "name": "Column2"
                                    },
                                    {
                                        "name": "Column3"
                                    },
                                    {
                                        "name": "Column4"
                                    }
                                ]
                            },
                            "data": [
                                {
                                    "concatenation": "foobar",
                                    "Column2": "The answer is 42",
                                    "Column3": "pi = 3.14159",
                                    "Column4": "Today is: 2024-09-01"
                                }
                            ]
                        },
                        "text/html": [
                            "<table>",
                            "<tr><th>concatenation</th><th>Column2</th><th>Column3</th><th>Column4</th></tr>",
                            "<tr><td>foobar</td><td>The answer is 42</td><td>pi = 3.14159</td><td>Today is: 2024-09-01</td></tr>",
                            "</table>"
                        ]
                    }
                }
            ],
            "execution_count": 125
        },
        {
            "cell_type": "markdown",
            "source": [
                "### Functions\n",
                "\n",
                ""
            ],
            "metadata": {
                "language": "sql",
                "azdata_cell_guid": "5d2c2d6c-db45-4fe5-9b48-7ef6b45d6985"
            },
            "attachments": {}
        },
        {
            "cell_type": "code",
            "source": [
                "select \n",
                "    UPPER('abc') as \"Fold to uppercase\",\n",
                "    lower('ABC') as \"Fold to Lowercase\",\n",
                "    char_length('ABC') as \"Length of characters\",\n",
                "    octet_length('h') as \"Length of octets\",\n",
                "    trim('    abc    ') as \"Trim the spaces\",\n",
                "    trim(leading '-' from '---ABC---') as \"Selective trim\";\n",
                "    --Also trailing and both"
            ],
            "metadata": {
                "language": "sql",
                "azdata_cell_guid": "d39ecb44-53de-4e66-92cb-5721d66511e0"
            },
            "outputs": [
                {
                    "output_type": "display_data",
                    "data": {
                        "text/html": "(1 row(s) affected)"
                    },
                    "metadata": {}
                },
                {
                    "output_type": "display_data",
                    "data": {
                        "text/html": "Total execution time: 00:00:00.001"
                    },
                    "metadata": {}
                },
                {
                    "output_type": "execute_result",
                    "metadata": {},
                    "execution_count": 127,
                    "data": {
                        "application/vnd.dataresource+json": {
                            "schema": {
                                "fields": [
                                    {
                                        "name": "Fold to uppercase"
                                    },
                                    {
                                        "name": "Fold to Lowercase"
                                    },
                                    {
                                        "name": "Length of characters"
                                    },
                                    {
                                        "name": "Length of octets"
                                    },
                                    {
                                        "name": "Trim the spaces"
                                    },
                                    {
                                        "name": "Selective trim"
                                    }
                                ]
                            },
                            "data": [
                                {
                                    "Fold to uppercase": "ABC",
                                    "Fold to Lowercase": "abc",
                                    "Length of characters": "3",
                                    "Length of octets": "1",
                                    "Trim the spaces": "abc",
                                    "Selective trim": "ABC---"
                                }
                            ]
                        },
                        "text/html": [
                            "<table>",
                            "<tr><th>Fold to uppercase</th><th>Fold to Lowercase</th><th>Length of characters</th><th>Length of octets</th><th>Trim the spaces</th><th>Selective trim</th></tr>",
                            "<tr><td>ABC</td><td>abc</td><td>3</td><td>1</td><td>abc</td><td>ABC---</td></tr>",
                            "</table>"
                        ]
                    }
                }
            ],
            "execution_count": 127
        },
        {
            "cell_type": "code",
            "source": [
                "SELECT\n",
                "    POSITION('Trillian' in 'Trthur and Trillian') AS \"Character position\",\n",
                "    substring('Arthur and Trillian' from 12 for 4) -- \"For n' can be ommit\"\n",
                "    as \"Extracted substring\",\n",
                "    overlay('Arthur and Trillian' placing 'Zaphod' from 1 for 6)\n",
                "    as \"Replaced substring\";"
            ],
            "metadata": {
                "azdata_cell_guid": "acfda0e1-731e-4825-91a3-a28af7fb9440",
                "language": "sql",
                "tags": []
            },
            "outputs": [
                {
                    "output_type": "display_data",
                    "data": {
                        "text/html": "(1 row(s) affected)"
                    },
                    "metadata": {}
                },
                {
                    "output_type": "display_data",
                    "data": {
                        "text/html": "Total execution time: 00:00:00.001"
                    },
                    "metadata": {}
                },
                {
                    "output_type": "execute_result",
                    "metadata": {},
                    "execution_count": 133,
                    "data": {
                        "application/vnd.dataresource+json": {
                            "schema": {
                                "fields": [
                                    {
                                        "name": "Character position"
                                    },
                                    {
                                        "name": "Extracted substring"
                                    },
                                    {
                                        "name": "Replaced substring"
                                    }
                                ]
                            },
                            "data": [
                                {
                                    "Character position": "12",
                                    "Extracted substring": "Tril",
                                    "Replaced substring": "Zaphod and Trillian"
                                }
                            ]
                        },
                        "text/html": [
                            "<table>",
                            "<tr><th>Character position</th><th>Extracted substring</th><th>Replaced substring</th></tr>",
                            "<tr><td>12</td><td>Tril</td><td>Zaphod and Trillian</td></tr>",
                            "</table>"
                        ]
                    }
                }
            ],
            "execution_count": 133
        },
        {
            "cell_type": "markdown",
            "source": [
                "## PostgreSQL String Functions"
            ],
            "metadata": {
                "azdata_cell_guid": "42f38b2e-a748-431c-92fe-7b85afb1ac74"
            },
            "attachments": {}
        },
        {
            "cell_type": "code",
            "source": [
                "SELECT\n",
                "    ascii('X'),\n",
                "    chr(88),\n",
                "    length('42'),\n",
                "    initcap('Lorem IPSUM'),\n",
                "    left('The Answer', 7),\n",
                "    right('The Answer', 3),\n",
                "    ltrim('        42'),\n",
                "    RTRIM('42-----','-x'),\n",
                "    lpad('42', 5),\n",
                "    rpad('42', 5, '-x'),\n",
                "    repeat('Rr', 5);"
            ],
            "metadata": {
                "azdata_cell_guid": "84f3429a-2d18-4786-a2a6-aacd98c37880",
                "language": "sql",
                "tags": []
            },
            "outputs": [
                {
                    "output_type": "display_data",
                    "data": {
                        "text/html": "(1 row(s) affected)"
                    },
                    "metadata": {}
                },
                {
                    "output_type": "display_data",
                    "data": {
                        "text/html": "Total execution time: 00:00:00.003"
                    },
                    "metadata": {}
                },
                {
                    "output_type": "execute_result",
                    "metadata": {},
                    "execution_count": 134,
                    "data": {
                        "application/vnd.dataresource+json": {
                            "schema": {
                                "fields": [
                                    {
                                        "name": "ascii"
                                    },
                                    {
                                        "name": "chr"
                                    },
                                    {
                                        "name": "length"
                                    },
                                    {
                                        "name": "initcap"
                                    },
                                    {
                                        "name": "left"
                                    },
                                    {
                                        "name": "right"
                                    },
                                    {
                                        "name": "ltrim"
                                    },
                                    {
                                        "name": "rtrim"
                                    },
                                    {
                                        "name": "lpad"
                                    },
                                    {
                                        "name": "rpad"
                                    },
                                    {
                                        "name": "repeat"
                                    }
                                ]
                            },
                            "data": [
                                {
                                    "ascii": "88",
                                    "chr": "X",
                                    "length": "2",
                                    "initcap": "Lorem Ipsum",
                                    "left": "The Ans",
                                    "right": "wer",
                                    "ltrim": "42",
                                    "rtrim": "42",
                                    "lpad": "   42",
                                    "rpad": "42-x-",
                                    "repeat": "RrRrRrRrRr"
                                }
                            ]
                        },
                        "text/html": [
                            "<table>",
                            "<tr><th>ascii</th><th>chr</th><th>length</th><th>initcap</th><th>left</th><th>right</th><th>ltrim</th><th>rtrim</th><th>lpad</th><th>rpad</th><th>repeat</th></tr>",
                            "<tr><td>88</td><td>X</td><td>2</td><td>Lorem Ipsum</td><td>The Ans</td><td>wer</td><td>42</td><td>42</td><td>   42</td><td>42-x-</td><td>RrRrRrRrRr</td></tr>",
                            "</table>"
                        ]
                    }
                }
            ],
            "execution_count": 134
        },
        {
            "cell_type": "code",
            "source": [
                "SELECT\n",
                "    replace('Arthur and Trillian', 'Arthur', 'ford'),\n",
                "    REVERSE('S1artibartfast'),\n",
                "    split_part('/tmp/my/dir', '/', 3),\n",
                "    strpos('Arthur and Trillian', 'Trillian'),\n",
                "    substr('Lorem', 2,3),\n",
                "    TRANSLATE('Lorem Ipsum', 'm', 'x'),\n",
                "    TRANSLATE('Lorem Ipsum', 'rum', 'abc')"
            ],
            "metadata": {
                "azdata_cell_guid": "25c00c75-f975-4071-90fc-257ded7f83dd",
                "language": "sql"
            },
            "outputs": [
                {
                    "output_type": "display_data",
                    "data": {
                        "text/html": "(1 row(s) affected)"
                    },
                    "metadata": {}
                },
                {
                    "output_type": "display_data",
                    "data": {
                        "text/html": "Total execution time: 00:00:00.002"
                    },
                    "metadata": {}
                },
                {
                    "output_type": "execute_result",
                    "metadata": {},
                    "execution_count": 140,
                    "data": {
                        "application/vnd.dataresource+json": {
                            "schema": {
                                "fields": [
                                    {
                                        "name": "replace"
                                    },
                                    {
                                        "name": "reverse"
                                    },
                                    {
                                        "name": "split_part"
                                    },
                                    {
                                        "name": "strpos"
                                    },
                                    {
                                        "name": "substr"
                                    },
                                    {
                                        "name": "translate"
                                    },
                                    {
                                        "name": "translate"
                                    }
                                ]
                            },
                            "data": [
                                {
                                    "replace": "ford and Trillian",
                                    "reverse": "tsaftrabitra1S",
                                    "split_part": "my",
                                    "strpos": "12",
                                    "substr": "ore",
                                    "translate": "Loaec Ipsbc"
                                }
                            ]
                        },
                        "text/html": [
                            "<table>",
                            "<tr><th>replace</th><th>reverse</th><th>split_part</th><th>strpos</th><th>substr</th><th>translate</th><th>translate</th></tr>",
                            "<tr><td>ford and Trillian</td><td>tsaftrabitra1S</td><td>my</td><td>12</td><td>ore</td><td>Lorex Ipsux</td><td>Loaec Ipsbc</td></tr>",
                            "</table>"
                        ]
                    }
                }
            ],
            "execution_count": 140
        },
        {
            "cell_type": "markdown",
            "source": [
                "## STRING_AGG\n",
                "\n",
                "### Vertical concatenation with a separator"
            ],
            "metadata": {
                "language": "sql",
                "azdata_cell_guid": "ae75439f-21c4-4aed-8f4d-3adf81278727"
            },
            "attachments": {}
        },
        {
            "cell_type": "code",
            "source": [
                "SELECT\n",
                "    STRING_AGG(categoryname, ',') as \"Unsorted\";\n",
                "    string_arg(categoryname, ',' order by categoryname desc) as \"Sorted\";\n",
                "    string_arg(categoryname, ',') filter(where categoryname like '%s') as \"Filtered and unsorted\"\n",
                "    from categories;"
            ],
            "metadata": {
                "language": "sql",
                "azdata_cell_guid": "f5db761f-97ad-476b-b75d-225a6e18498b"
            },
            "outputs": [],
            "execution_count": null
        },
        {
            "cell_type": "code",
            "source": [
                "select string_agg(title,',') from film LIMIT 10\n",
                "select string_agg(title,',' order by title desc ) from film LIMIT 10\n",
                "select string_agg(title,',') FILTER ( WHERE title like '%s' ) from film LIMIT 10\n",
                ""
            ],
            "metadata": {
                "language": "sql",
                "azdata_cell_guid": "45b31ea9-86b6-4885-9512-a33e883fce45"
            },
            "outputs": [],
            "execution_count": null
        },
        {
            "cell_type": "code",
            "source": [
                "select 'state',\n",
                "    STRING_AGG(DISTINCT age::TEXT, ',' order by age::TEXT ASC),\n",
                "    FILTER (where MOD(age, 2) = 0 and age < 30) AS \"Evens under thirty\",\n",
                "    STRING_AGG(DISTINCT age::TEXT, ',', order by age::TEXT DESC)\n",
                "    filter (where MOD(age, 2) = 1 and age > 80) over eightly\"\n",
                "from customers\n",
                "where 'state' like '%s'\n",
                "group by 'state'\n",
                "order by 'state'\n",
                "limit 3;"
            ],
            "metadata": {
                "language": "sql",
                "azdata_cell_guid": "af4124d8-ecc5-4a75-bce0-4b824c45b1b3"
            },
            "outputs": [],
            "execution_count": null
        },
        {
            "cell_type": "markdown",
            "source": [
                "### Concat and concat_ws\n",
                "\n",
                "#### Horizontalconcatenation with an optional separator"
            ],
            "metadata": {
                "language": "sql",
                "azdata_cell_guid": "bc38cb44-009d-46ac-8376-fdc04d3c9d97"
            },
            "attachments": {}
        },
        {
            "cell_type": "code",
            "source": [
                "select concat(age, income, 'state') --works like ||\n",
                "from customers\n",
                "where customerid < 5;"
            ],
            "metadata": {
                "language": "sql",
                "azdata_cell_guid": "77ca3796-e131-4b88-9e22-5e316446fa64"
            },
            "outputs": [],
            "execution_count": null
        },
        {
            "cell_type": "code",
            "source": [
                "select concat_ws('.', age, income, 'state')\n",
                "from customers\n",
                "where customerId <= 5;"
            ],
            "metadata": {
                "language": "sql",
                "azdata_cell_guid": "77303dbb-0443-43d0-92ff-e4a6c8097def"
            },
            "outputs": [],
            "execution_count": null
        },
        {
            "cell_type": "markdown",
            "source": [
                "### STRING_AGG VS CONCAT_WS\n",
                "\n",
                "#### STRING_AGG(expression, separator) vs. CONCAT_WS(separator, expr1, expr2...)"
            ],
            "metadata": {
                "language": "sql",
                "azdata_cell_guid": "6a2d04e2-6cbf-43e8-94f6-6aa3e0d3d5f5"
            },
            "attachments": {}
        },
        {
            "cell_type": "markdown",
            "source": [
                "## Pattern Matching\n",
                "\n",
                "### LIKE\n",
                ""
            ],
            "metadata": {
                "language": "sql",
                "azdata_cell_guid": "14a572c8-9fd0-4d8e-b0eb-81bb813530eb"
            },
            "attachments": {}
        },
        {
            "cell_type": "code",
            "source": [
                "select categoryname -- Case sensitive in the db2 database\n",
                "from categories\n",
                "where categoryname like 'S%',\n",
                "or categoryname like '%s',\n",
                "or categoryname like '%s%',\n",
                "or categoryname like '_r$',\n",
                "or categoryname like 'a%';"
            ],
            "metadata": {
                "language": "sql",
                "azdata_cell_guid": "39d526f4-22e7-43a3-a4c6-60e499719f2d"
            },
            "outputs": [],
            "execution_count": null
        },
        {
            "cell_type": "code",
            "source": [
                "select title -- Case sensitive in the db2 database\n",
                "from film\n",
                "where title like 'S%'\n",
                "or title like '%s'\n",
                "or title like '%s%'\n",
                "or title like '_r$'\n",
                "or title like 'a%';\n",
                "\n",
                ""
            ],
            "metadata": {
                "language": "sql",
                "azdata_cell_guid": "74821704-1661-455f-a431-fc1ab49b5fdd"
            },
            "outputs": [
                {
                    "output_type": "error",
                    "evalue": "relation \"film\" does not exist",
                    "ename": "",
                    "traceback": []
                },
                {
                    "output_type": "display_data",
                    "data": {
                        "text/html": "Total execution time: 00:00:00"
                    },
                    "metadata": {}
                }
            ],
            "execution_count": 141
        },
        {
            "cell_type": "code",
            "source": [
                "SELECT\n",
                "    categoryname -- Case sensitive in the DB2 database\n",
                "from category\n",
                "    where categoryname ~~ 's%' --- LIKE\n",
                "    or categoryname ~~* 'a%' ---- ilike\n",
                "    or categoryname !~~ 'M%' ---- Not Like\n",
                "    or categoryname !`~~* '%z' --- not ilike\n",
                "limit 1;"
            ],
            "metadata": {
                "language": "sql",
                "azdata_cell_guid": "027ff670-4547-469e-9c66-31f87b030b37"
            },
            "outputs": [],
            "execution_count": null
        },
        {
            "cell_type": "code",
            "source": [
                "SELECT\n",
                "    title -- Case sensitive in the DB2 database\n",
                "from film\n",
                "    where title ~~ 'S%' --- LIKE\n",
                "    OR title ~~* 'a%' ---- ilike\n",
                "    OR title !~~ 'M%' ---- Not Like\n",
                "    OR title !~~* '%z' --- not ilike\n",
                "limit 5;\n",
                ""
            ],
            "metadata": {
                "language": "sql",
                "azdata_cell_guid": "995319a9-5e5e-44ec-ae9c-de14251d5373"
            },
            "outputs": [],
            "execution_count": null
        },
        {
            "cell_type": "code",
            "source": [
                "select '%_' as \"Must be escapted\"\n",
                "where '%_' like '#%#_' escape '#'\n",
                "limit 1\n",
                ""
            ],
            "metadata": {
                "language": "sql",
                "azdata_cell_guid": "4f7d52cc-f7ef-4116-95e5-857ec8aa40ca"
            },
            "outputs": [
                {
                    "output_type": "display_data",
                    "data": {
                        "text/html": "(1 row(s) affected)"
                    },
                    "metadata": {}
                },
                {
                    "output_type": "display_data",
                    "data": {
                        "text/html": "Total execution time: 00:00:00.001"
                    },
                    "metadata": {}
                },
                {
                    "output_type": "execute_result",
                    "metadata": {},
                    "execution_count": 143,
                    "data": {
                        "application/vnd.dataresource+json": {
                            "schema": {
                                "fields": [
                                    {
                                        "name": "Must be escapted"
                                    }
                                ]
                            },
                            "data": [
                                {
                                    "Must be escapted": "%_"
                                }
                            ]
                        },
                        "text/html": [
                            "<table>",
                            "<tr><th>Must be escapted</th></tr>",
                            "<tr><td>%_</td></tr>",
                            "</table>"
                        ]
                    }
                }
            ],
            "execution_count": 143
        },
        {
            "cell_type": "markdown",
            "source": [
                "### Similar to\n",
                "\n",
                "[pattern-matching metacharacters](https://www.postgresql.org/docs/current/functions-matching.html)"
            ],
            "metadata": {
                "language": "sql",
                "azdata_cell_guid": "23025b69-e7a9-443a-8525-d2529ec02cc2"
            },
            "attachments": {}
        },
        {
            "cell_type": "code",
            "source": [
                "select \n",
                "    '42' similar to '42' AS \"Exact\",\n",
                "    '42' similar to '4%' as \"Wildcard\",\n",
                "    '42' similar to '4_' as \"single character\",\n",
                "    '42' similar to '%(4|2)%' as \"Alternation\",\n",
                "    '42' similar to '[4567][012]' as \"Character class\";"
            ],
            "metadata": {
                "language": "sql",
                "azdata_cell_guid": "b541d742-f49d-4a5f-8b78-7f005c3589b1"
            },
            "outputs": [
                {
                    "output_type": "display_data",
                    "data": {
                        "text/html": "(1 row(s) affected)"
                    },
                    "metadata": {}
                },
                {
                    "output_type": "display_data",
                    "data": {
                        "text/html": "Total execution time: 00:00:00.001"
                    },
                    "metadata": {}
                },
                {
                    "output_type": "execute_result",
                    "metadata": {},
                    "execution_count": 144,
                    "data": {
                        "application/vnd.dataresource+json": {
                            "schema": {
                                "fields": [
                                    {
                                        "name": "Exact"
                                    },
                                    {
                                        "name": "Wildcard"
                                    },
                                    {
                                        "name": "single character"
                                    },
                                    {
                                        "name": "Alternation"
                                    },
                                    {
                                        "name": "Character class"
                                    }
                                ]
                            },
                            "data": [
                                {
                                    "Exact": "True",
                                    "Wildcard": "True",
                                    "single character": "True",
                                    "Alternation": "True",
                                    "Character class": "True"
                                }
                            ]
                        },
                        "text/html": [
                            "<table>",
                            "<tr><th>Exact</th><th>Wildcard</th><th>single character</th><th>Alternation</th><th>Character class</th></tr>",
                            "<tr><td>True</td><td>True</td><td>True</td><td>True</td><td>True</td></tr>",
                            "</table>"
                        ]
                    }
                }
            ],
            "execution_count": 144
        },
        {
            "cell_type": "markdown",
            "source": [
                "### Escape and NOT\n",
                ""
            ],
            "metadata": {
                "azdata_cell_guid": "722b7a57-5593-45b6-9970-e42180238e24"
            },
            "attachments": {}
        },
        {
            "cell_type": "markdown",
            "source": [
                "+ string similar to string ESCAPE escape CHARACTER\n",
                "+ string not similar to string\n",
                "+ string not similar to string ESCAPE escape CHARACTER"
            ],
            "metadata": {
                "azdata_cell_guid": "dba8ca12-2cbf-46d9-9946-37fbfd85a9aa"
            },
            "attachments": {}
        },
        {
            "cell_type": "markdown",
            "source": [
                "## Regular expressions\n",
                ""
            ],
            "metadata": {
                "azdata_cell_guid": "86561760-cb68-4f85-833c-6d1533bc978c"
            },
            "attachments": {}
        },
        {
            "cell_type": "markdown",
            "source": [
                "+ More Powerful\n",
                "+ Stephen Cole Kleene\n",
                "  + Regular languages\n",
                "\n",
                "## Different Syntaxes\n",
                "\n",
                "+ POSIX , PERL\n",
                "+ POSIX basic and extended\n",
                "+ PostgreSQL advanced\n",
                "\n",
                ""
            ],
            "metadata": {
                "azdata_cell_guid": "54ed725e-12fa-4a6c-bf0c-e72f75eb8f7f"
            },
            "attachments": {}
        },
        {
            "cell_type": "markdown",
            "source": [
                "## Operators\n",
                "| operator | Description | Example |\n",
                "| ---- | ------ |  ----- |\n",
                "~  | Matches regular expression ,case sensitive | 'Arthur' ~ '.*Arthur.*'\n",
                "~* | Matches regular expression, case insenstive | 'Arthur' ~* '.*Arthur.*'\n",
                "!~ | Does not Match regular expression, case insenstive | 'Arthur' !~* '.*Arthur.*'\n",
                "!~* | Does not Match regular expression, case insenstive | 'Arthur' !~* '.*Arthur.*'\n",
                ""
            ],
            "metadata": {
                "azdata_cell_guid": "0cf7c8d5-80fb-40af-bfda-958ee29702a5"
            },
            "attachments": {}
        },
        {
            "cell_type": "code",
            "source": [
                "select \n",
                "'Arthur' ~ '.*Arthur.*',\n",
                "'Arthur' ~* '.*Arthur.*',\n",
                "'Arthur' !~ '.*Arthur.*',\n",
                "'Arthur' !~* '.*Arthur.*';"
            ],
            "metadata": {
                "azdata_cell_guid": "8e30c66d-46ca-4618-8eaa-3a8c975d2586",
                "language": "sql"
            },
            "outputs": [
                {
                    "output_type": "display_data",
                    "data": {
                        "text/html": "(1 row(s) affected)"
                    },
                    "metadata": {}
                },
                {
                    "output_type": "display_data",
                    "data": {
                        "text/html": "Total execution time: 00:00:00.002"
                    },
                    "metadata": {}
                },
                {
                    "output_type": "execute_result",
                    "metadata": {},
                    "execution_count": 146,
                    "data": {
                        "application/vnd.dataresource+json": {
                            "schema": {
                                "fields": [
                                    {
                                        "name": "Column1"
                                    },
                                    {
                                        "name": "Column2"
                                    },
                                    {
                                        "name": "Column3"
                                    },
                                    {
                                        "name": "Column4"
                                    }
                                ]
                            },
                            "data": [
                                {
                                    "Column1": "True",
                                    "Column2": "True",
                                    "Column3": "False",
                                    "Column4": "False"
                                }
                            ]
                        },
                        "text/html": [
                            "<table>",
                            "<tr><th>Column1</th><th>Column2</th><th>Column3</th><th>Column4</th></tr>",
                            "<tr><td>True</td><td>True</td><td>False</td><td>False</td></tr>",
                            "</table>"
                        ]
                    }
                }
            ],
            "execution_count": 146
        },
        {
            "cell_type": "markdown",
            "source": [
                "### SUBSTRING\n",
                "\n",
                "> SUBSTRING(string FROM pattern)\n",
                ""
            ],
            "metadata": {
                "language": "sql",
                "azdata_cell_guid": "0da2345e-2dea-4260-bde3-58c3d1d2b290"
            },
            "attachments": {}
        },
        {
            "cell_type": "code",
            "source": [
                "SELECT\n",
                "    SUBSTRING('Arthur & Trillan' from 'r . T')"
            ],
            "metadata": {
                "language": "sql",
                "azdata_cell_guid": "33b00994-1676-4ae2-b6c7-5951d81ad922"
            },
            "outputs": [
                {
                    "output_type": "display_data",
                    "data": {
                        "text/html": "(1 row(s) affected)"
                    },
                    "metadata": {}
                },
                {
                    "output_type": "display_data",
                    "data": {
                        "text/html": "Total execution time: 00:00:00.001"
                    },
                    "metadata": {}
                },
                {
                    "output_type": "execute_result",
                    "metadata": {},
                    "execution_count": 147,
                    "data": {
                        "application/vnd.dataresource+json": {
                            "schema": {
                                "fields": [
                                    {
                                        "name": "substring"
                                    }
                                ]
                            },
                            "data": [
                                {
                                    "substring": "r & T"
                                }
                            ]
                        },
                        "text/html": [
                            "<table>",
                            "<tr><th>substring</th></tr>",
                            "<tr><td>r &amp; T</td></tr>",
                            "</table>"
                        ]
                    }
                }
            ],
            "execution_count": 147
        },
        {
            "cell_type": "markdown",
            "source": [
                "### REGEX functions"
            ],
            "metadata": {
                "language": "sql",
                "azdata_cell_guid": "e2601a47-8d83-486c-bc96-df42216516e7"
            },
            "attachments": {}
        },
        {
            "cell_type": "code",
            "source": [
                "select \n",
                "    REGEXP_MATCH('Arthur & Trillian', 'r . T'),\n",
                "    (REGEXP_MATCH('Arthur & Trillian', 'r . T'))[1],\n",
                "    REGEXP_MATCH('Arthur & Trillian', '(.*ur) & (.*an)');"
            ],
            "metadata": {
                "language": "sql",
                "azdata_cell_guid": "b7a88e52-dec5-45aa-b5d6-cc7e205a3c4e"
            },
            "outputs": [
                {
                    "output_type": "display_data",
                    "data": {
                        "text/html": "(1 row(s) affected)"
                    },
                    "metadata": {}
                },
                {
                    "output_type": "display_data",
                    "data": {
                        "text/html": "Total execution time: 00:00:00.001"
                    },
                    "metadata": {}
                },
                {
                    "output_type": "execute_result",
                    "metadata": {},
                    "execution_count": 149,
                    "data": {
                        "application/vnd.dataresource+json": {
                            "schema": {
                                "fields": [
                                    {
                                        "name": "regexp_match"
                                    },
                                    {
                                        "name": "regexp_match"
                                    },
                                    {
                                        "name": "regexp_match"
                                    }
                                ]
                            },
                            "data": [
                                {
                                    "regexp_match": "[\"Arthur\", \"Trillian\"]"
                                }
                            ]
                        },
                        "text/html": [
                            "<table>",
                            "<tr><th>regexp_match</th><th>regexp_match</th><th>regexp_match</th></tr>",
                            "<tr><td>[&quot;r &amp; T&quot;]</td><td>r &amp; T</td><td>[&quot;Arthur&quot;, &quot;Trillian&quot;]</td></tr>",
                            "</table>"
                        ]
                    }
                }
            ],
            "execution_count": 149
        },
        {
            "cell_type": "code",
            "source": [
                "SELECT\n",
                "    REGEXP_MATCHES('Ford hitchikerhopehere happy', '(h[^h]+)(h[^h]+)', 'g')"
            ],
            "metadata": {
                "language": "sql",
                "azdata_cell_guid": "3b6b703a-69be-4207-a5b7-526ecb7472aa"
            },
            "outputs": [
                {
                    "output_type": "display_data",
                    "data": {
                        "text/html": "(2 row(s) affected)"
                    },
                    "metadata": {}
                },
                {
                    "output_type": "display_data",
                    "data": {
                        "text/html": "Total execution time: 00:00:00.001"
                    },
                    "metadata": {}
                },
                {
                    "output_type": "execute_result",
                    "metadata": {},
                    "execution_count": 152,
                    "data": {
                        "application/vnd.dataresource+json": {
                            "schema": {
                                "fields": [
                                    {
                                        "name": "regexp_matches"
                                    }
                                ]
                            },
                            "data": [
                                {
                                    "regexp_matches": "[\"hitc\", \"hiker\"]"
                                },
                                {
                                    "regexp_matches": "[\"hope\", \"here \"]"
                                }
                            ]
                        },
                        "text/html": [
                            "<table>",
                            "<tr><th>regexp_matches</th></tr>",
                            "<tr><td>[&quot;hitc&quot;, &quot;hiker&quot;]</td></tr>",
                            "<tr><td>[&quot;hope&quot;, &quot;here &quot;]</td></tr>",
                            "</table>"
                        ]
                    }
                }
            ],
            "execution_count": 152
        },
        {
            "cell_type": "code",
            "source": [
                "select REGEXP_REPLACE('Heart of Darkness', 'D.*', 'Gold')"
            ],
            "metadata": {
                "language": "sql",
                "azdata_cell_guid": "275cab79-bceb-44e1-a9ec-627642c82b86"
            },
            "outputs": [
                {
                    "output_type": "display_data",
                    "data": {
                        "text/html": "(1 row(s) affected)"
                    },
                    "metadata": {}
                },
                {
                    "output_type": "display_data",
                    "data": {
                        "text/html": "Total execution time: 00:00:00.001"
                    },
                    "metadata": {}
                },
                {
                    "output_type": "execute_result",
                    "metadata": {},
                    "execution_count": 153,
                    "data": {
                        "application/vnd.dataresource+json": {
                            "schema": {
                                "fields": [
                                    {
                                        "name": "regexp_replace"
                                    }
                                ]
                            },
                            "data": [
                                {
                                    "regexp_replace": "Heart of Gold"
                                }
                            ]
                        },
                        "text/html": [
                            "<table>",
                            "<tr><th>regexp_replace</th></tr>",
                            "<tr><td>Heart of Gold</td></tr>",
                            "</table>"
                        ]
                    }
                }
            ],
            "execution_count": 153
        },
        {
            "cell_type": "code",
            "source": [
                "SELECT\n",
                "    REGEXP_SPLIT_TO_ARRAY('hitchiker towel hope guid here', '(towel|guid)')"
            ],
            "metadata": {
                "language": "sql",
                "azdata_cell_guid": "d451c11d-bc2b-4ba6-ba02-e9bbdc3f8bf5"
            },
            "outputs": [
                {
                    "output_type": "display_data",
                    "data": {
                        "text/html": "(1 row(s) affected)"
                    },
                    "metadata": {}
                },
                {
                    "output_type": "display_data",
                    "data": {
                        "text/html": "Total execution time: 00:00:00.001"
                    },
                    "metadata": {}
                },
                {
                    "output_type": "execute_result",
                    "metadata": {},
                    "execution_count": 154,
                    "data": {
                        "application/vnd.dataresource+json": {
                            "schema": {
                                "fields": [
                                    {
                                        "name": "regexp_split_to_array"
                                    }
                                ]
                            },
                            "data": [
                                {
                                    "regexp_split_to_array": "[\"hitchiker \", \" hope \", \" here\"]"
                                }
                            ]
                        },
                        "text/html": [
                            "<table>",
                            "<tr><th>regexp_split_to_array</th></tr>",
                            "<tr><td>[&quot;hitchiker &quot;, &quot; hope &quot;, &quot; here&quot;]</td></tr>",
                            "</table>"
                        ]
                    }
                }
            ],
            "execution_count": 154
        },
        {
            "cell_type": "code",
            "source": [
                "SELECT\n",
                "    REGEXP_SPLIT_TO_TABLE('hitchiker towel hope guid here', '(towel|guid)')"
            ],
            "metadata": {
                "language": "sql",
                "azdata_cell_guid": "6a01f38d-882e-4c7b-bf04-7269a7834e24",
                "tags": []
            },
            "outputs": [
                {
                    "output_type": "display_data",
                    "data": {
                        "text/html": "(3 row(s) affected)"
                    },
                    "metadata": {}
                },
                {
                    "output_type": "display_data",
                    "data": {
                        "text/html": "Total execution time: 00:00:00.001"
                    },
                    "metadata": {}
                },
                {
                    "output_type": "execute_result",
                    "metadata": {},
                    "execution_count": 155,
                    "data": {
                        "application/vnd.dataresource+json": {
                            "schema": {
                                "fields": [
                                    {
                                        "name": "regexp_split_to_table"
                                    }
                                ]
                            },
                            "data": [
                                {
                                    "regexp_split_to_table": "hitchiker "
                                },
                                {
                                    "regexp_split_to_table": " hope "
                                },
                                {
                                    "regexp_split_to_table": " here"
                                }
                            ]
                        },
                        "text/html": [
                            "<table>",
                            "<tr><th>regexp_split_to_table</th></tr>",
                            "<tr><td>hitchiker </td></tr>",
                            "<tr><td> hope </td></tr>",
                            "<tr><td> here</td></tr>",
                            "</table>"
                        ]
                    }
                }
            ],
            "execution_count": 155
        },
        {
            "cell_type": "markdown",
            "source": [
                "## Text Search\n",
                "\n",
                "+ Natural-language documents\n",
                "+ Queries and similarities\n",
                "+ Like and similar to?\n",
                "  + No natural language support\n",
                "  + No ordering or ranking of results\n",
                "  + Slow without indexing\n",
                "+ Regular expression?\n",
                ""
            ],
            "metadata": {
                "language": "sql",
                "azdata_cell_guid": "9b858175-8a85-45b4-8f00-9a30e9e297b7"
            },
            "attachments": {}
        },
        {
            "cell_type": "markdown",
            "source": [
                "### Text search types\n",
                "\n",
                "TSVECTOR    : A normalized (into lexemes) document string\n",
                "\n",
                "TSQUERY       : Search terms, using normallized lexemes and AND, OR, NOT and FOLLOWED BY operators"
            ],
            "metadata": {
                "language": "sql",
                "azdata_cell_guid": "788d3bac-6a3e-4d7e-89e1-e40735a2728c"
            },
            "attachments": {}
        },
        {
            "cell_type": "code",
            "source": [
                "select 'Arthur and Trillian travelled with Ford and Zaphod'::TSVECTOR @@ 'Arthur & Ford'::TSQUERY;"
            ],
            "metadata": {
                "language": "sql",
                "azdata_cell_guid": "5256716b-6939-436f-99aa-6762bf846f14"
            },
            "outputs": [
                {
                    "output_type": "display_data",
                    "data": {
                        "text/html": "(1 row(s) affected)"
                    },
                    "metadata": {}
                },
                {
                    "output_type": "display_data",
                    "data": {
                        "text/html": "Total execution time: 00:00:00.001"
                    },
                    "metadata": {}
                },
                {
                    "output_type": "execute_result",
                    "metadata": {},
                    "execution_count": 157,
                    "data": {
                        "application/vnd.dataresource+json": {
                            "schema": {
                                "fields": [
                                    {
                                        "name": "Column1"
                                    }
                                ]
                            },
                            "data": [
                                {
                                    "Column1": "True"
                                }
                            ]
                        },
                        "text/html": [
                            "<table>",
                            "<tr><th>Column1</th></tr>",
                            "<tr><td>True</td></tr>",
                            "</table>"
                        ]
                    }
                }
            ],
            "execution_count": 157
        },
        {
            "cell_type": "markdown",
            "source": [
                "### Using TO_TSVECTOR and TO_TSQUERY to normallized strings into lexemes"
            ],
            "metadata": {
                "language": "sql",
                "azdata_cell_guid": "a3fb3a03-575b-45e6-9d77-1db773ab5aec"
            },
            "attachments": {}
        },
        {
            "cell_type": "code",
            "source": [
                "select to_tsvector('Arthurs and Trillians travelled with Fords and Zaphods') @@ to_tsquery('Arthur & Ford')"
            ],
            "metadata": {
                "language": "sql",
                "azdata_cell_guid": "9b3b3caa-20ea-4589-9a74-572c27aa222a"
            },
            "outputs": [
                {
                    "output_type": "display_data",
                    "data": {
                        "text/html": "(1 row(s) affected)"
                    },
                    "metadata": {}
                },
                {
                    "output_type": "display_data",
                    "data": {
                        "text/html": "Total execution time: 00:00:00.054"
                    },
                    "metadata": {}
                },
                {
                    "output_type": "execute_result",
                    "metadata": {},
                    "execution_count": 159,
                    "data": {
                        "application/vnd.dataresource+json": {
                            "schema": {
                                "fields": [
                                    {
                                        "name": "Column1"
                                    }
                                ]
                            },
                            "data": [
                                {
                                    "Column1": "True"
                                }
                            ]
                        },
                        "text/html": [
                            "<table>",
                            "<tr><th>Column1</th></tr>",
                            "<tr><td>True</td></tr>",
                            "</table>"
                        ]
                    }
                }
            ],
            "execution_count": 159
        },
        {
            "cell_type": "markdown",
            "source": [
                "### @@ with textual input\n",
                "\n",
                "\n",
                "+ TSVECTOR @@ TSQUERY\n",
                "+ TSQUERY @@ TSVECTOR\n",
                "+ TEXT @@ TSQUERY\n",
                "+ TEXT @@ TEXT"
            ],
            "metadata": {
                "language": "sql",
                "azdata_cell_guid": "efb46894-7688-4ac4-9c35-4c24b61c7b97"
            },
            "attachments": {}
        },
        {
            "cell_type": "code",
            "source": [
                "SELECT 'Arthurs and Trillian travelled with fords and Zaphods' @@ 'Arthur & Ford';"
            ],
            "metadata": {
                "language": "sql",
                "azdata_cell_guid": "0bff566e-f951-4587-971a-29b1e5f4a390"
            },
            "outputs": [
                {
                    "output_type": "display_data",
                    "data": {
                        "text/html": "(1 row(s) affected)"
                    },
                    "metadata": {}
                },
                {
                    "output_type": "display_data",
                    "data": {
                        "text/html": "Total execution time: 00:00:00.002"
                    },
                    "metadata": {}
                },
                {
                    "output_type": "execute_result",
                    "metadata": {},
                    "execution_count": 160,
                    "data": {
                        "application/vnd.dataresource+json": {
                            "schema": {
                                "fields": [
                                    {
                                        "name": "Column1"
                                    }
                                ]
                            },
                            "data": [
                                {
                                    "Column1": "True"
                                }
                            ]
                        },
                        "text/html": [
                            "<table>",
                            "<tr><th>Column1</th></tr>",
                            "<tr><td>True</td></tr>",
                            "</table>"
                        ]
                    }
                }
            ],
            "execution_count": 160
        },
        {
            "cell_type": "markdown",
            "source": [
                "### Text search operators\n",
                "\n",
                "\n",
                "[Text Search Functions and Operators](https://www.postgresql.org/docs/current/functions-textsearch.html)"
            ],
            "metadata": {
                "language": "sql",
                "azdata_cell_guid": "c7bf0b6e-fa21-4ea7-a437-fadd3133104f"
            },
            "attachments": {}
        },
        {
            "cell_type": "markdown",
            "source": [
                "## Converting and Formatting Functions\n",
                "\n",
                "### Converting between encodings"
            ],
            "metadata": {
                "language": "sql",
                "azdata_cell_guid": "3903995b-1d74-49de-a44b-bf6c62c2427c"
            },
            "attachments": {}
        },
        {
            "cell_type": "code",
            "source": [
                "select convert('lorem ipsum dolor', 'utf8', 'win1252'),\n",
                "convert_from('I am already in utf8', 'utf8'),\n",
                "convert_to('n', 'win1252');"
            ],
            "metadata": {
                "language": "sql",
                "azdata_cell_guid": "63bded9d-92a3-4a52-954a-c464f2696c9d"
            },
            "outputs": [
                {
                    "output_type": "display_data",
                    "data": {
                        "text/html": "(1 row(s) affected)"
                    },
                    "metadata": {}
                },
                {
                    "output_type": "display_data",
                    "data": {
                        "text/html": "Total execution time: 00:00:01.166"
                    },
                    "metadata": {}
                },
                {
                    "output_type": "execute_result",
                    "metadata": {},
                    "execution_count": 162,
                    "data": {
                        "application/vnd.dataresource+json": {
                            "schema": {
                                "fields": [
                                    {
                                        "name": "convert"
                                    },
                                    {
                                        "name": "convert_from"
                                    },
                                    {
                                        "name": "convert_to"
                                    }
                                ]
                            },
                            "data": [
                                {
                                    "convert": "\\x6c6f72656d20697073756d20646f6c6f72",
                                    "convert_from": "I am already in utf8",
                                    "convert_to": "\\x6e"
                                }
                            ]
                        },
                        "text/html": [
                            "<table>",
                            "<tr><th>convert</th><th>convert_from</th><th>convert_to</th></tr>",
                            "<tr><td>\\x6c6f72656d20697073756d20646f6c6f72</td><td>I am already in utf8</td><td>\\x6e</td></tr>",
                            "</table>"
                        ]
                    }
                }
            ],
            "execution_count": 162
        },
        {
            "cell_type": "markdown",
            "source": [
                "### Encoding and Decoding\n",
                "\n",
                "supported types: base64, hex, escape"
            ],
            "metadata": {
                "language": "sql",
                "azdata_cell_guid": "47193695-5840-46fd-b55d-4212dfdfc7ab"
            },
            "attachments": {}
        },
        {
            "cell_type": "code",
            "source": [
                "select \n",
                "    encode('Lorem ipsum'::bytea, 'base64'),\n",
                "    decode('01000010', 'hex');"
            ],
            "metadata": {
                "language": "sql",
                "azdata_cell_guid": "115076a9-c7f2-44e0-a9f6-2bee0f3730e5"
            },
            "outputs": [
                {
                    "output_type": "display_data",
                    "data": {
                        "text/html": "(1 row(s) affected)"
                    },
                    "metadata": {}
                },
                {
                    "output_type": "display_data",
                    "data": {
                        "text/html": "Total execution time: 00:00:00.001"
                    },
                    "metadata": {}
                },
                {
                    "output_type": "execute_result",
                    "metadata": {},
                    "execution_count": 164,
                    "data": {
                        "application/vnd.dataresource+json": {
                            "schema": {
                                "fields": [
                                    {
                                        "name": "encode"
                                    },
                                    {
                                        "name": "decode"
                                    }
                                ]
                            },
                            "data": [
                                {
                                    "encode": "TG9yZW0gaXBzdW0=",
                                    "decode": "\\x01000010"
                                }
                            ]
                        },
                        "text/html": [
                            "<table>",
                            "<tr><th>encode</th><th>decode</th></tr>",
                            "<tr><td>TG9yZW0gaXBzdW0=</td><td>\\x01000010</td></tr>",
                            "</table>"
                        ]
                    }
                }
            ],
            "execution_count": 164
        },
        {
            "cell_type": "markdown",
            "source": [
                "### Formatting\n",
                ""
            ],
            "metadata": {
                "language": "sql",
                "azdata_cell_guid": "f3b80daa-b913-43ae-8381-6d999709dee9"
            },
            "attachments": {}
        },
        {
            "cell_type": "code",
            "source": [
                "SELECT\n",
                "    format('Hello %s', 'World') as \"Hello World\",\n",
                "    format('The answer is %s', 6*7) as \"The answer\";"
            ],
            "metadata": {
                "language": "sql",
                "azdata_cell_guid": "6976ce01-ae13-4c81-842a-87edd0642df6"
            },
            "outputs": [
                {
                    "output_type": "display_data",
                    "data": {
                        "text/html": "(1 row(s) affected)"
                    },
                    "metadata": {}
                },
                {
                    "output_type": "display_data",
                    "data": {
                        "text/html": "Total execution time: 00:00:00.001"
                    },
                    "metadata": {}
                },
                {
                    "output_type": "execute_result",
                    "metadata": {},
                    "execution_count": 165,
                    "data": {
                        "application/vnd.dataresource+json": {
                            "schema": {
                                "fields": [
                                    {
                                        "name": "Hello World"
                                    },
                                    {
                                        "name": "The answer"
                                    }
                                ]
                            },
                            "data": [
                                {
                                    "Hello World": "Hello World",
                                    "The answer": "The answer is 42"
                                }
                            ]
                        },
                        "text/html": [
                            "<table>",
                            "<tr><th>Hello World</th><th>The answer</th></tr>",
                            "<tr><td>Hello World</td><td>The answer is 42</td></tr>",
                            "</table>"
                        ]
                    }
                }
            ],
            "execution_count": 165
        },
        {
            "cell_type": "markdown",
            "source": [
                "### Format Specifiers\n",
                "\n",
                "> %[position][flags][width]type\n",
                "\n",
                "e.g, %12$-10s\n",
                "\n",
                "\n",
                "[String Functions and Operators](https://www.postgresql.org/docs/current/functions-string.html#FUNCTIONS-STRING-FORMAT)"
            ],
            "metadata": {
                "language": "sql",
                "azdata_cell_guid": "b1dab7d2-bd94-473a-8c1a-4f398c421d1c"
            },
            "attachments": {}
        },
        {
            "cell_type": "markdown",
            "source": [
                "### Special SQL identifiers\n",
                "\n",
                "\n",
                "+ I:  treat the format argument as an SQL identifier, Quote if necessary\n",
                "+ L:  quotes the argument value as an SQL literal"
            ],
            "metadata": {
                "azdata_cell_guid": "61022fc3-da01-405f-8561-bd39da63421e"
            },
            "attachments": {}
        },
        {
            "cell_type": "code",
            "source": [
                "SELECT\n",
                "    format('%2$-4s is 2nd, %1$s is 1st', -1, 42),\n",
                "    format('%s again %1$s', 42);"
            ],
            "metadata": {
                "language": "sql",
                "azdata_cell_guid": "77eb242a-7267-4222-a73a-adb9524559e3"
            },
            "outputs": [
                {
                    "output_type": "display_data",
                    "data": {
                        "text/html": "(1 row(s) affected)"
                    },
                    "metadata": {}
                },
                {
                    "output_type": "display_data",
                    "data": {
                        "text/html": "Total execution time: 00:00:00.001"
                    },
                    "metadata": {}
                },
                {
                    "output_type": "execute_result",
                    "metadata": {},
                    "execution_count": 166,
                    "data": {
                        "application/vnd.dataresource+json": {
                            "schema": {
                                "fields": [
                                    {
                                        "name": "format"
                                    },
                                    {
                                        "name": "format"
                                    }
                                ]
                            },
                            "data": [
                                {
                                    "format": "42 again 42"
                                }
                            ]
                        },
                        "text/html": [
                            "<table>",
                            "<tr><th>format</th><th>format</th></tr>",
                            "<tr><td>42   is 2nd, -1 is 1st</td><td>42 again 42</td></tr>",
                            "</table>"
                        ]
                    }
                }
            ],
            "execution_count": 166
        },
        {
            "cell_type": "code",
            "source": [
                "SELECT FORMAT('insert into %I values(%L, %L ,%L)', 'Value Table', 1,2,3);"
            ],
            "metadata": {
                "language": "sql",
                "azdata_cell_guid": "19bcec7b-3c35-40d9-a2e5-42a9263fe0c2"
            },
            "outputs": [
                {
                    "output_type": "display_data",
                    "data": {
                        "text/html": "(1 row(s) affected)"
                    },
                    "metadata": {}
                },
                {
                    "output_type": "display_data",
                    "data": {
                        "text/html": "Total execution time: 00:00:00.001"
                    },
                    "metadata": {}
                },
                {
                    "output_type": "execute_result",
                    "metadata": {},
                    "execution_count": 167,
                    "data": {
                        "application/vnd.dataresource+json": {
                            "schema": {
                                "fields": [
                                    {
                                        "name": "format"
                                    }
                                ]
                            },
                            "data": [
                                {
                                    "format": "insert into \"Value Table\" values('1', '2' ,'3')"
                                }
                            ]
                        },
                        "text/html": [
                            "<table>",
                            "<tr><th>format</th></tr>",
                            "<tr><td>insert into &quot;Value Table&quot; values(&#39;1&#39;, &#39;2&#39; ,&#39;3&#39;)</td></tr>",
                            "</table>"
                        ]
                    }
                }
            ],
            "execution_count": 167
        }
    ]
}