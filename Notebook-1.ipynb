{
    "metadata": {
        "kernelspec": {
            "name": "SQL",
            "display_name": "SQL",
            "language": "sql"
        },
        "language_info": {
            "name": "sql",
            "version": ""
        }
    },
    "nbformat_minor": 2,
    "nbformat": 4,
    "cells": [
        {
            "cell_type": "markdown",
            "source": [
                "# Character Types\n",
                "\n",
                "## Fixed length\n",
                "\n",
                "+ CHARACTER(n), CHAR(n)       ; fixed length, blank padded\n",
                "+ CHARACTER, CHAR             : 1 character\n",
                ""
            ],
            "metadata": {
                "azdata_cell_guid": "6189ec1f-6b76-4691-93a1-dd99df29585f"
            },
            "attachments": {}
        },
        {
            "cell_type": "code",
            "source": [
                "SELECT CAST('Arthur' as character(20)) as \"FirstName\",\n",
                "    'Dent'::char(20) as \"LastName\";\n",
                ""
            ],
            "metadata": {
                "azdata_cell_guid": "946efc9b-1789-4728-b1f2-244a2a0163a7",
                "language": "sql",
                "tags": [
                    "hide_input"
                ]
            },
            "outputs": [
                {
                    "output_type": "display_data",
                    "data": {
                        "text/html": "(1 row(s) affected)"
                    },
                    "metadata": {}
                },
                {
                    "output_type": "display_data",
                    "data": {
                        "text/html": "Total execution time: 00:00:00.001"
                    },
                    "metadata": {}
                },
                {
                    "output_type": "execute_result",
                    "metadata": {},
                    "execution_count": 8,
                    "data": {
                        "application/vnd.dataresource+json": {
                            "schema": {
                                "fields": [
                                    {
                                        "name": "FirstName"
                                    },
                                    {
                                        "name": "LastName"
                                    }
                                ]
                            },
                            "data": [
                                {
                                    "FirstName": "Arthur              ",
                                    "LastName": "Dent                "
                                }
                            ]
                        },
                        "text/html": [
                            "<table>",
                            "<tr><th>FirstName</th><th>LastName</th></tr>",
                            "<tr><td>Arthur              </td><td>Dent                </td></tr>",
                            "</table>"
                        ]
                    }
                }
            ],
            "execution_count": 8
        },
        {
            "cell_type": "markdown",
            "source": [
                "## Variable length, with a limit\n",
                "\n",
                "CHARACTER VARYING(n), VARCHAR(n)"
            ],
            "metadata": {
                "azdata_cell_guid": "4a8cbf15-2c8f-456b-980b-84756b6597e3"
            },
            "attachments": {}
        },
        {
            "cell_type": "code",
            "source": [
                "SELECT CAST('Trillian' as character varying(50)) as \"FirstName\",\n",
                "'Astra'::varchar(50) as \"lastName\";"
            ],
            "metadata": {
                "azdata_cell_guid": "2e9f882e-6bdc-4425-a505-79268f045345",
                "language": "sql"
            },
            "outputs": [
                {
                    "output_type": "display_data",
                    "data": {
                        "text/html": "(1 row(s) affected)"
                    },
                    "metadata": {}
                },
                {
                    "output_type": "display_data",
                    "data": {
                        "text/html": "Total execution time: 00:00:00.001"
                    },
                    "metadata": {}
                },
                {
                    "output_type": "execute_result",
                    "metadata": {},
                    "execution_count": 10,
                    "data": {
                        "application/vnd.dataresource+json": {
                            "schema": {
                                "fields": [
                                    {
                                        "name": "FirstName"
                                    },
                                    {
                                        "name": "lastName"
                                    }
                                ]
                            },
                            "data": [
                                {
                                    "FirstName": "Trillian",
                                    "lastName": "Astra"
                                }
                            ]
                        },
                        "text/html": [
                            "<table>",
                            "<tr><th>FirstName</th><th>lastName</th></tr>",
                            "<tr><td>Trillian</td><td>Astra</td></tr>",
                            "</table>"
                        ]
                    }
                }
            ],
            "execution_count": 10
        },
        {
            "cell_type": "markdown",
            "source": [
                "## Variable length, any size\n",
                "\n",
                "CHARACTER VARYING, CHAR VARYING, VARCHAR, TEXT"
            ],
            "metadata": {
                "azdata_cell_guid": "a1796ba3-6640-4991-8478-07d41dd86278"
            },
            "attachments": {}
        },
        {
            "cell_type": "code",
            "source": [
                "SELECT VARCHAR 'Lorem ipsum dolor sit amet, consectetur adipiscing elit.' AS \"LoremIpsum\",\n",
                "CHAR varying 'Donec fermentum eleifend vestibulum' AS \"DonecFermentum\",\n",
                "TEXT 'vivamus eros enim, iaculis ac purus ut, faucibus eleifend massa' AS \"vivamusEros\""
            ],
            "metadata": {
                "azdata_cell_guid": "deb8a514-3a8d-48bd-abdb-bb897035dfcc",
                "language": "sql"
            },
            "outputs": [
                {
                    "output_type": "display_data",
                    "data": {
                        "text/html": "(1 row(s) affected)"
                    },
                    "metadata": {}
                },
                {
                    "output_type": "display_data",
                    "data": {
                        "text/html": "Total execution time: 00:00:00.001"
                    },
                    "metadata": {}
                },
                {
                    "output_type": "execute_result",
                    "metadata": {},
                    "execution_count": 16,
                    "data": {
                        "application/vnd.dataresource+json": {
                            "schema": {
                                "fields": [
                                    {
                                        "name": "LoremIpsum"
                                    },
                                    {
                                        "name": "DonecFermentum"
                                    },
                                    {
                                        "name": "vivamusEros"
                                    }
                                ]
                            },
                            "data": [
                                {
                                    "LoremIpsum": "Lorem ipsum dolor sit amet, consectetur adipiscing elit.",
                                    "DonecFermentum": "Donec fermentum eleifend vestibulum",
                                    "vivamusEros": "vivamus eros enim, iaculis ac purus ut, faucibus eleifend massa"
                                }
                            ]
                        },
                        "text/html": [
                            "<table>",
                            "<tr><th>LoremIpsum</th><th>DonecFermentum</th><th>vivamusEros</th></tr>",
                            "<tr><td>Lorem ipsum dolor sit amet, consectetur adipiscing elit.</td><td>Donec fermentum eleifend vestibulum</td><td>vivamus eros enim, iaculis ac purus ut, faucibus eleifend massa</td></tr>",
                            "</table>"
                        ]
                    }
                }
            ],
            "execution_count": 16
        },
        {
            "cell_type": "markdown",
            "source": [
                "## Binary Type\n",
                "\n",
                "Variable length binary string\n",
                "\n",
                "BYTEA : 1 or 4 bytes plus the length of the binary string"
            ],
            "metadata": {
                "azdata_cell_guid": "0f3b9107-dbf8-4b26-b776-4be3c4cd4203"
            },
            "attachments": {}
        },
        {
            "cell_type": "code",
            "source": [
                "select '\\xDEADBEEF' as \"Hex Format\",\n",
                "'\\077'::BYTEA as \"Escape Format\";"
            ],
            "metadata": {
                "azdata_cell_guid": "80889a62-7d90-4480-b16a-13caaf503a35",
                "language": "sql"
            },
            "outputs": [
                {
                    "output_type": "display_data",
                    "data": {
                        "text/html": "(1 row(s) affected)"
                    },
                    "metadata": {}
                },
                {
                    "output_type": "display_data",
                    "data": {
                        "text/html": "Total execution time: 00:00:00.001"
                    },
                    "metadata": {}
                },
                {
                    "output_type": "execute_result",
                    "metadata": {},
                    "execution_count": 19,
                    "data": {
                        "application/vnd.dataresource+json": {
                            "schema": {
                                "fields": [
                                    {
                                        "name": "Hex Format"
                                    },
                                    {
                                        "name": "Escape Format"
                                    }
                                ]
                            },
                            "data": [
                                {
                                    "Hex Format": "\\xDEADBEEF",
                                    "Escape Format": "\\x3f"
                                }
                            ]
                        },
                        "text/html": [
                            "<table>",
                            "<tr><th>Hex Format</th><th>Escape Format</th></tr>",
                            "<tr><td>\\xDEADBEEF</td><td>\\x3f</td></tr>",
                            "</table>"
                        ]
                    }
                }
            ],
            "execution_count": 19
        },
        {
            "cell_type": "markdown",
            "source": [
                "## Numeric Types"
            ],
            "metadata": {
                "azdata_cell_guid": "df5aef69-676d-4250-b3ea-9a82ba771074"
            },
            "attachments": {}
        },
        {
            "cell_type": "markdown",
            "source": [
                "SMALLINT, INT2    : 2 bytes, -2^15 to +2^15 -1\n",
                "\n",
                "INTEGER, INT, INT4 : 4 ytes, -2^32 to +2^31 -1\n",
                "\n",
                "BIGINT, INT8       : 8 bytes, -2^64 to +2^63 -1\n",
                "\n",
                ""
            ],
            "metadata": {
                "azdata_cell_guid": "aa8cb456-e4c8-465f-9803-92d611f1bba8"
            },
            "attachments": {}
        },
        {
            "cell_type": "markdown",
            "source": [
                ""
            ],
            "metadata": {
                "azdata_cell_guid": "ff632fd4-3dca-4365-8576-44d5612314f1"
            }
        },
        {
            "cell_type": "code",
            "source": [
                "SELECT cast(2^15 -1 as smallint) as \"smallint or int2\",\n",
                "        cast(2^31 -1 as integer) as \"integer or int4\",\n",
                "        cast(-2^63 -1 as bigint) as \"bigint or int8\";"
            ],
            "metadata": {
                "azdata_cell_guid": "609611cd-39c4-4f5d-8604-ad8588157c9e",
                "language": "sql"
            },
            "outputs": [
                {
                    "output_type": "display_data",
                    "data": {
                        "text/html": "(1 row(s) affected)"
                    },
                    "metadata": {}
                },
                {
                    "output_type": "display_data",
                    "data": {
                        "text/html": "Total execution time: 00:00:00.001"
                    },
                    "metadata": {}
                },
                {
                    "output_type": "execute_result",
                    "metadata": {},
                    "execution_count": 25,
                    "data": {
                        "application/vnd.dataresource+json": {
                            "schema": {
                                "fields": [
                                    {
                                        "name": "smallint or int2"
                                    },
                                    {
                                        "name": "integer or int4"
                                    },
                                    {
                                        "name": "bigint or int8"
                                    }
                                ]
                            },
                            "data": [
                                {
                                    "smallint or int2": "32767",
                                    "integer or int4": "2147483647",
                                    "bigint or int8": "-9223372036854775808"
                                }
                            ]
                        },
                        "text/html": [
                            "<table>",
                            "<tr><th>smallint or int2</th><th>integer or int4</th><th>bigint or int8</th></tr>",
                            "<tr><td>32767</td><td>2147483647</td><td>-9223372036854775808</td></tr>",
                            "</table>"
                        ]
                    }
                }
            ],
            "execution_count": 25
        },
        {
            "cell_type": "markdown",
            "source": [
                "## Arbitray Precision Numbers(exact)\n",
                "\n",
                "numeric(precision, scale), decimal(precision, scale)\n",
                "\n",
                "numeric(precision), decimal(precision)\n",
                "\n",
                "numeric, decimal"
            ],
            "metadata": {
                "language": "sql",
                "azdata_cell_guid": "bae6f2ab-0f60-4848-adb1-80609f199027"
            },
            "attachments": {}
        },
        {
            "cell_type": "markdown",
            "source": [
                "> up to 131072 digits before the decimal point, up to 16383 digits after the decimal point\n",
                ""
            ],
            "metadata": {
                "language": "sql",
                "azdata_cell_guid": "743c3e9a-ccaf-4d97-ba94-bedba5d33c6e"
            },
            "attachments": {}
        },
        {
            "cell_type": "code",
            "source": [
                "SELECT cast(3.1415936 as numeric(8,7)) as pi;\n",
                "create table foo (bar numeric(1000));\n",
                "drop TABLE foo;\n",
                "select cast('NAN' as numeric) as 'NaN'"
            ],
            "metadata": {
                "language": "sql",
                "azdata_cell_guid": "18aed45b-acc4-4e2c-b617-10192a2463a9"
            },
            "outputs": [
                {
                    "output_type": "display_data",
                    "data": {
                        "text/html": "(1 row(s) affected)"
                    },
                    "metadata": {}
                },
                {
                    "output_type": "display_data",
                    "data": {
                        "text/html": "Total execution time: 00:00:00.002"
                    },
                    "metadata": {}
                },
                {
                    "output_type": "execute_result",
                    "metadata": {},
                    "execution_count": 26,
                    "data": {
                        "application/vnd.dataresource+json": {
                            "schema": {
                                "fields": [
                                    {
                                        "name": "pi"
                                    }
                                ]
                            },
                            "data": [
                                {
                                    "pi": "3.1415936"
                                }
                            ]
                        },
                        "text/html": [
                            "<table>",
                            "<tr><th>pi</th></tr>",
                            "<tr><td>3.1415936</td></tr>",
                            "</table>"
                        ]
                    }
                }
            ],
            "execution_count": 26
        },
        {
            "cell_type": "code",
            "source": [
                "\n",
                "select cast('NAN' as numeric) as \"NaN\""
            ],
            "metadata": {
                "language": "sql",
                "azdata_cell_guid": "10853fc9-b438-47ba-91f1-5b0d0959f014"
            },
            "outputs": [
                {
                    "output_type": "display_data",
                    "data": {
                        "text/html": "(1 row(s) affected)"
                    },
                    "metadata": {}
                },
                {
                    "output_type": "display_data",
                    "data": {
                        "text/html": "Total execution time: 00:00:00.002"
                    },
                    "metadata": {}
                },
                {
                    "output_type": "execute_result",
                    "metadata": {},
                    "execution_count": 28,
                    "data": {
                        "application/vnd.dataresource+json": {
                            "schema": {
                                "fields": [
                                    {
                                        "name": "NaN"
                                    }
                                ]
                            },
                            "data": [
                                {
                                    "NaN": "NaN"
                                }
                            ]
                        },
                        "text/html": [
                            "<table>",
                            "<tr><th>NaN</th></tr>",
                            "<tr><td>NaN</td></tr>",
                            "</table>"
                        ]
                    }
                }
            ],
            "execution_count": 28
        },
        {
            "cell_type": "markdown",
            "source": [
                "## Floating Point Types (approximate)\n",
                "\n",
                "REAL, FLOAT4      : 4 bytes, IEEE Standard 754 single precision, 1E-37 to 1E+37 with a6 digits of precision\n",
                "\n",
                "DOUBLE, PRECISION, FLOAT8;  8 bytes, IEEE Standard 754 double precision, 1E-307 to 1E+308 with 15 digits of precision\n",
                "\n",
                "FLOAT(n)         : explicit precision in bits, n in the range 1 to 53"
            ],
            "metadata": {
                "language": "sql",
                "azdata_cell_guid": "0d6aa7b9-66df-4c21-8693-59726d6f20fa"
            },
            "attachments": {}
        },
        {
            "cell_type": "code",
            "source": [
                "select 3.1415936::REAL as \"Real Pi\",\n",
                "3.1415936   ::double precision as \"Double Precision Pi\",\n",
                "'3.1415936'   ::float(53) = '3.1415936'::real as \"Are they equal?\"\n",
                ""
            ],
            "metadata": {
                "language": "sql",
                "azdata_cell_guid": "a0fdfc89-5987-43a3-a17b-1e4476b02079"
            },
            "outputs": [
                {
                    "output_type": "display_data",
                    "data": {
                        "text/html": "(1 row(s) affected)"
                    },
                    "metadata": {}
                },
                {
                    "output_type": "display_data",
                    "data": {
                        "text/html": "Total execution time: 00:00:00.001"
                    },
                    "metadata": {}
                },
                {
                    "output_type": "execute_result",
                    "metadata": {},
                    "execution_count": 38,
                    "data": {
                        "application/vnd.dataresource+json": {
                            "schema": {
                                "fields": [
                                    {
                                        "name": "Real Pi"
                                    },
                                    {
                                        "name": "Double Precision Pi"
                                    },
                                    {
                                        "name": "Are they equal?"
                                    }
                                ]
                            },
                            "data": [
                                {
                                    "Real Pi": "3.1415937",
                                    "Double Precision Pi": "3.1415936",
                                    "Are they equal?": "False"
                                }
                            ]
                        },
                        "text/html": [
                            "<table>",
                            "<tr><th>Real Pi</th><th>Double Precision Pi</th><th>Are they equal?</th></tr>",
                            "<tr><td>3.1415937</td><td>3.1415936</td><td>False</td></tr>",
                            "</table>"
                        ]
                    }
                }
            ],
            "execution_count": 38
        },
        {
            "cell_type": "markdown",
            "source": [
                "## Monetary Types(exct)\n",
                "\n",
                "\n",
                "money : 8bytes, currency amount\n",
                ""
            ],
            "metadata": {
                "language": "sql",
                "azdata_cell_guid": "5b9ba369-e9f9-497f-bc64-745ae336d6ef"
            },
            "attachments": {}
        },
        {
            "cell_type": "code",
            "source": [
                "select cast('$1000.00' as money) as \"Dollar Amount\""
            ],
            "metadata": {
                "language": "sql",
                "azdata_cell_guid": "c8486473-77a0-4f7d-bfc1-af510e74db45"
            },
            "outputs": [
                {
                    "output_type": "display_data",
                    "data": {
                        "text/html": "(1 row(s) affected)"
                    },
                    "metadata": {}
                },
                {
                    "output_type": "display_data",
                    "data": {
                        "text/html": "Total execution time: 00:00:00.003"
                    },
                    "metadata": {}
                },
                {
                    "output_type": "execute_result",
                    "metadata": {},
                    "execution_count": 42,
                    "data": {
                        "application/vnd.dataresource+json": {
                            "schema": {
                                "fields": [
                                    {
                                        "name": "Dollar Amount"
                                    }
                                ]
                            },
                            "data": [
                                {
                                    "Dollar Amount": "$1,000.00"
                                }
                            ]
                        },
                        "text/html": [
                            "<table>",
                            "<tr><th>Dollar Amount</th></tr>",
                            "<tr><td>$1,000.00</td></tr>",
                            "</table>"
                        ]
                    }
                }
            ],
            "execution_count": 42
        },
        {
            "cell_type": "markdown",
            "source": [
                "## Date and Time Types\n",
                "\n",
                "Date and Time\n",
                "\n",
                "TIMESTAMP(p) [without time zone] : 8 bytes, 4713 BC to 5874897 AD\n",
                "\n",
                "TIMESTAMP(p) WITH TIME ZONE : 8 bytes, 4713 BC to 5874897 AD\n",
                "\n",
                "TIMESTAMP [WITHOUT TIME ZONE] : 8 bytes, 4713 BC to 5874897 AD\n",
                "\n",
                "TIMESTAMP WITH TIME ZONE : 8 bytes, 4713 BC to 5874897 AD"
            ],
            "metadata": {
                "language": "sql",
                "azdata_cell_guid": "99c1aada-9ae3-4193-9d02-a97cdfb36b37"
            },
            "attachments": {}
        },
        {
            "cell_type": "code",
            "source": [
                "select '20190314'::timestamp(6) as \"TimeStamp, no time zone\",\n",
                "'July 10, 2010 EST'::timestamp WITH TIME ZONE as \"TimeStamp, with time zone\""
            ],
            "metadata": {
                "language": "sql",
                "azdata_cell_guid": "e14224e6-4461-4c3c-a340-0906f64e6fb2"
            },
            "outputs": [
                {
                    "output_type": "display_data",
                    "data": {
                        "text/html": "(1 row(s) affected)"
                    },
                    "metadata": {}
                },
                {
                    "output_type": "display_data",
                    "data": {
                        "text/html": "Total execution time: 00:00:00.001"
                    },
                    "metadata": {}
                },
                {
                    "output_type": "execute_result",
                    "metadata": {},
                    "execution_count": 44,
                    "data": {
                        "application/vnd.dataresource+json": {
                            "schema": {
                                "fields": [
                                    {
                                        "name": "TimeStamp, no time zone"
                                    },
                                    {
                                        "name": "TimeStamp, with time zone"
                                    }
                                ]
                            },
                            "data": [
                                {
                                    "TimeStamp, no time zone": "2019-03-14 00:00:00",
                                    "TimeStamp, with time zone": "2010-07-10 13:00:00+08"
                                }
                            ]
                        },
                        "text/html": [
                            "<table>",
                            "<tr><th>TimeStamp, no time zone</th><th>TimeStamp, with time zone</th></tr>",
                            "<tr><td>2019-03-14 00:00:00</td><td>2010-07-10 13:00:00+08</td></tr>",
                            "</table>"
                        ]
                    }
                }
            ],
            "execution_count": 44
        },
        {
            "cell_type": "markdown",
            "source": [
                "## Interval\n",
                "\n",
                "INTERVAL(p) : 16 bytes, -170000000 years to 170000000 years\n",
                "\n",
                "INTERVAL    : 16 bytes, -170000000 years to 170000000 years"
            ],
            "metadata": {
                "language": "sql",
                "azdata_cell_guid": "c0e45554-3761-4ce7-a765-514ff967d200"
            },
            "attachments": {}
        },
        {
            "cell_type": "code",
            "source": [
                "select CURRENT_TIMESTAMP - 'Jan 1 1900'::timestamp as \"Time since Jan 1 1900\",\n",
                "'18 hours, 30 minutes ago'::INTERVAL as \"10 and a half hour ago\";"
            ],
            "metadata": {
                "azdata_cell_guid": "3bb7f1f0-9c21-4eee-889f-b82100b7bb0f",
                "language": "sql"
            },
            "outputs": [
                {
                    "output_type": "display_data",
                    "data": {
                        "text/html": "(1 row(s) affected)"
                    },
                    "metadata": {}
                },
                {
                    "output_type": "display_data",
                    "data": {
                        "text/html": "Total execution time: 00:00:00.001"
                    },
                    "metadata": {}
                },
                {
                    "output_type": "execute_result",
                    "metadata": {},
                    "execution_count": 48,
                    "data": {
                        "application/vnd.dataresource+json": {
                            "schema": {
                                "fields": [
                                    {
                                        "name": "Time since Jan 1 1900"
                                    },
                                    {
                                        "name": "10 and a half hour ago"
                                    }
                                ]
                            },
                            "data": [
                                {
                                    "Time since Jan 1 1900": "45533 days 17:01:09.406911",
                                    "10 and a half hour ago": "-18:30:00"
                                }
                            ]
                        },
                        "text/html": [
                            "<table>",
                            "<tr><th>Time since Jan 1 1900</th><th>10 and a half hour ago</th></tr>",
                            "<tr><td>45533 days 17:01:09.406911</td><td>-18:30:00</td></tr>",
                            "</table>"
                        ]
                    }
                }
            ],
            "execution_count": 48
        },
        {
            "cell_type": "markdown",
            "source": [
                "## Date\n",
                "\n",
                "DATE : 4 bytes, 4713 BD to 5874897 AD\n",
                ""
            ],
            "metadata": {
                "language": "sql",
                "azdata_cell_guid": "f2d3b403-6823-454c-b460-2e8a9997f8fc"
            },
            "attachments": {}
        },
        {
            "cell_type": "code",
            "source": [
                "SELECT 'June 2, 1953'::DATE as \"Coronation of Elizabeth II\""
            ],
            "metadata": {
                "language": "sql",
                "azdata_cell_guid": "fb940fda-d523-4a27-ba7d-f508136b431e"
            },
            "outputs": [
                {
                    "output_type": "display_data",
                    "data": {
                        "text/html": "(1 row(s) affected)"
                    },
                    "metadata": {}
                },
                {
                    "output_type": "display_data",
                    "data": {
                        "text/html": "Total execution time: 00:00:00.001"
                    },
                    "metadata": {}
                },
                {
                    "output_type": "execute_result",
                    "metadata": {},
                    "execution_count": 51,
                    "data": {
                        "application/vnd.dataresource+json": {
                            "schema": {
                                "fields": [
                                    {
                                        "name": "Coronation of Elizabeth II"
                                    }
                                ]
                            },
                            "data": [
                                {
                                    "Coronation of Elizabeth II": "1953-06-02"
                                }
                            ]
                        },
                        "text/html": [
                            "<table>",
                            "<tr><th>Coronation of Elizabeth II</th></tr>",
                            "<tr><td>1953-06-02</td></tr>",
                            "</table>"
                        ]
                    }
                }
            ],
            "execution_count": 51
        },
        {
            "cell_type": "markdown",
            "source": [
                "## Time\n",
                "\n",
                "TIME(p) [WITHOUT TIME ZONE] : 8 bytes, 4713 BC to 5874897 AD\n",
                "\n",
                "TIME(p) WITH TIME ZONE : 12 bytes, 4713 BC to 5874897 AD\n",
                "\n",
                "TIME [WITHOUT TIME ZONE] : 8 bytes, 4713 BC to 5874897 AD\n",
                "\n",
                "TIME WITH TIME ZONE : 8 bytes, 4713 BC to 5874897 AD"
            ],
            "metadata": {
                "language": "sql",
                "azdata_cell_guid": "da8e9850-e044-40e0-8f1c-a0a9bac7f8ac"
            },
            "attachments": {}
        },
        {
            "cell_type": "code",
            "source": [
                "select '00:00:00'::time(6) as \"The Midnight Hour\",\n",
                "'12:00:00 CET'::TIME WITH TIME ZONE AS \"High Noon in Amsterdam\";"
            ],
            "metadata": {
                "language": "sql",
                "azdata_cell_guid": "7e056729-f320-4fd6-9907-91438f9b3516"
            },
            "outputs": [
                {
                    "output_type": "display_data",
                    "data": {
                        "text/html": "(1 row(s) affected)"
                    },
                    "metadata": {}
                },
                {
                    "output_type": "display_data",
                    "data": {
                        "text/html": "Total execution time: 00:00:00.001"
                    },
                    "metadata": {}
                },
                {
                    "output_type": "execute_result",
                    "metadata": {},
                    "execution_count": 53,
                    "data": {
                        "application/vnd.dataresource+json": {
                            "schema": {
                                "fields": [
                                    {
                                        "name": "The Midnight Hour"
                                    },
                                    {
                                        "name": "High Noon in Amsterdam"
                                    }
                                ]
                            },
                            "data": [
                                {
                                    "The Midnight Hour": "00:00:00",
                                    "High Noon in Amsterdam": "12:00:00+01"
                                }
                            ]
                        },
                        "text/html": [
                            "<table>",
                            "<tr><th>The Midnight Hour</th><th>High Noon in Amsterdam</th></tr>",
                            "<tr><td>00:00:00</td><td>12:00:00+01</td></tr>",
                            "</table>"
                        ]
                    }
                }
            ],
            "execution_count": 53
        },
        {
            "cell_type": "markdown",
            "source": [
                "## Boolean Type\n",
                "\n",
                "BOOLEAN, BOOL : 1 byte, TRUE, FALSE or NUll\n",
                ""
            ],
            "metadata": {
                "language": "sql",
                "azdata_cell_guid": "4dcd1c65-ecaa-442c-9eae-45ea6a5d3cd8"
            },
            "attachments": {}
        },
        {
            "cell_type": "code",
            "source": [
                "select 1 :: boolean as \"True\",\n",
                " 0 :: boolean as \"False\",\n",
                " 't' :: boolean as \"True\",\n",
                " 'f' :: boolean as \"False\",\n",
                " 'y' :: boolean as \"True\",\n",
                " 'Y' :: boolean as \"True\",\n",
                " 'n' :: boolean as \"False\",\n",
                " 'N' :: boolean as \"False\",\n",
                " NULL::BOOL  as \"Unknown\";\n",
                ""
            ],
            "metadata": {
                "language": "sql",
                "azdata_cell_guid": "4c38e3e5-c12b-461e-84b1-50536b64c721"
            },
            "outputs": [
                {
                    "output_type": "display_data",
                    "data": {
                        "text/html": "(1 row(s) affected)"
                    },
                    "metadata": {}
                },
                {
                    "output_type": "display_data",
                    "data": {
                        "text/html": "Total execution time: 00:00:00.001"
                    },
                    "metadata": {}
                },
                {
                    "output_type": "execute_result",
                    "metadata": {},
                    "execution_count": 56,
                    "data": {
                        "application/vnd.dataresource+json": {
                            "schema": {
                                "fields": [
                                    {
                                        "name": "True"
                                    },
                                    {
                                        "name": "False"
                                    },
                                    {
                                        "name": "True"
                                    },
                                    {
                                        "name": "False"
                                    },
                                    {
                                        "name": "True"
                                    },
                                    {
                                        "name": "True"
                                    },
                                    {
                                        "name": "False"
                                    },
                                    {
                                        "name": "False"
                                    },
                                    {
                                        "name": "Unknown"
                                    }
                                ]
                            },
                            "data": [
                                {
                                    "True": "True",
                                    "False": "False",
                                    "Unknown": "NULL"
                                }
                            ]
                        },
                        "text/html": [
                            "<table>",
                            "<tr><th>True</th><th>False</th><th>True</th><th>False</th><th>True</th><th>True</th><th>False</th><th>False</th><th>Unknown</th></tr>",
                            "<tr><td>True</td><td>False</td><td>True</td><td>False</td><td>True</td><td>True</td><td>False</td><td>False</td><td>NULL</td></tr>",
                            "</table>"
                        ]
                    }
                }
            ],
            "execution_count": 56
        },
        {
            "cell_type": "code",
            "source": [
                "select TRUE, FALSE;"
            ],
            "metadata": {
                "azdata_cell_guid": "95e593ac-3b3b-423b-b5fa-939fb7517f9a",
                "language": "sql"
            },
            "outputs": [
                {
                    "output_type": "display_data",
                    "data": {
                        "text/html": "(1 row(s) affected)"
                    },
                    "metadata": {}
                },
                {
                    "output_type": "display_data",
                    "data": {
                        "text/html": "Total execution time: 00:00:00.001"
                    },
                    "metadata": {}
                },
                {
                    "output_type": "execute_result",
                    "metadata": {},
                    "execution_count": 58,
                    "data": {
                        "application/vnd.dataresource+json": {
                            "schema": {
                                "fields": [
                                    {
                                        "name": "bool"
                                    },
                                    {
                                        "name": "bool"
                                    }
                                ]
                            },
                            "data": [
                                {
                                    "bool": "False"
                                }
                            ]
                        },
                        "text/html": [
                            "<table>",
                            "<tr><th>bool</th><th>bool</th></tr>",
                            "<tr><td>True</td><td>False</td></tr>",
                            "</table>"
                        ]
                    }
                }
            ],
            "execution_count": 58
        },
        {
            "cell_type": "markdown",
            "source": [
                "## Array Types\n",
                "\n",
                "\n",
                "### <type>[]\n",
                "\n",
                "> NOTE: postgresql array index start from 1\n",
                ""
            ],
            "metadata": {
                "language": "sql",
                "azdata_cell_guid": "421482d8-55b2-4d75-b73b-387bf1b8722f"
            },
            "attachments": {}
        },
        {
            "cell_type": "code",
            "source": [
                "select array[1,2,3]::integer[] as \"Array of integers\",\n",
                "cast('{4,5,6}' as float[]) as \"Another array of real numbers\",\n",
                "'{7,8.9}'::varchar[] as \"An array of text items\";"
            ],
            "metadata": {
                "language": "sql",
                "azdata_cell_guid": "291127bb-aef8-4ea7-8102-61bb8240b8c2"
            },
            "outputs": [
                {
                    "output_type": "display_data",
                    "data": {
                        "text/html": "(1 row(s) affected)"
                    },
                    "metadata": {}
                },
                {
                    "output_type": "display_data",
                    "data": {
                        "text/html": "Total execution time: 00:00:00.001"
                    },
                    "metadata": {}
                },
                {
                    "output_type": "execute_result",
                    "metadata": {},
                    "execution_count": 61,
                    "data": {
                        "application/vnd.dataresource+json": {
                            "schema": {
                                "fields": [
                                    {
                                        "name": "Array of integers"
                                    },
                                    {
                                        "name": "Another array of real numbers"
                                    },
                                    {
                                        "name": "An array of text items"
                                    }
                                ]
                            },
                            "data": [
                                {
                                    "Array of integers": "{1,2,3}",
                                    "Another array of real numbers": "{4,5,6}",
                                    "An array of text items": "{7,8.9}"
                                }
                            ]
                        },
                        "text/html": [
                            "<table>",
                            "<tr><th>Array of integers</th><th>Another array of real numbers</th><th>An array of text items</th></tr>",
                            "<tr><td>{1,2,3}</td><td>{4,5,6}</td><td>{7,8.9}</td></tr>",
                            "</table>"
                        ]
                    }
                }
            ],
            "execution_count": 61
        },
        {
            "cell_type": "code",
            "source": [
                "select (array['a', 'b','c']::char[])[1] as \"First entry in a character array\";"
            ],
            "metadata": {
                "language": "sql",
                "azdata_cell_guid": "8e2a8e88-153c-4471-9835-bd9a5b8dbc32"
            },
            "outputs": [
                {
                    "output_type": "display_data",
                    "data": {
                        "text/html": "(1 row(s) affected)"
                    },
                    "metadata": {}
                },
                {
                    "output_type": "display_data",
                    "data": {
                        "text/html": "Total execution time: 00:00:00.001"
                    },
                    "metadata": {}
                },
                {
                    "output_type": "execute_result",
                    "metadata": {},
                    "execution_count": 62,
                    "data": {
                        "application/vnd.dataresource+json": {
                            "schema": {
                                "fields": [
                                    {
                                        "name": "array"
                                    }
                                ]
                            },
                            "data": [
                                {
                                    "array": "a"
                                }
                            ]
                        },
                        "text/html": [
                            "<table>",
                            "<tr><th>array</th></tr>",
                            "<tr><td>a</td></tr>",
                            "</table>"
                        ]
                    }
                }
            ],
            "execution_count": 62
        },
        {
            "cell_type": "markdown",
            "source": [
                "## UUID Type\n",
                "\n",
                "uuid : 16 bytes(128 bits), written as 32 hexadecimal digits\n",
                ""
            ],
            "metadata": {
                "language": "sql",
                "azdata_cell_guid": "04fc40c0-7328-49cd-87de-eeb41c0adecb"
            },
            "attachments": {}
        },
        {
            "cell_type": "code",
            "source": [
                "select 'a0eebc99-9c0b-4ef8-bb6d-6bb9bd380a11'::UUID as \"lower case uuid\",\n",
                "'A0EEBC99-9C0B-4EF8-BB6D-6BB9BD380A11'::UUID as \"lower case uuid\",\n",
                "'a0eebc999c0b4ef8bb6d6bb9bd380a11'::UUID as \"ungrouped uuid\";"
            ],
            "metadata": {
                "language": "sql",
                "azdata_cell_guid": "01f813ae-6edc-4063-86db-9f70fee45615"
            },
            "outputs": [
                {
                    "output_type": "display_data",
                    "data": {
                        "text/html": "(1 row(s) affected)"
                    },
                    "metadata": {}
                },
                {
                    "output_type": "display_data",
                    "data": {
                        "text/html": "Total execution time: 00:00:00.001"
                    },
                    "metadata": {}
                },
                {
                    "output_type": "execute_result",
                    "metadata": {},
                    "execution_count": 66,
                    "data": {
                        "application/vnd.dataresource+json": {
                            "schema": {
                                "fields": [
                                    {
                                        "name": "lower case uuid"
                                    },
                                    {
                                        "name": "lower case uuid"
                                    },
                                    {
                                        "name": "ungrouped uuid"
                                    }
                                ]
                            },
                            "data": [
                                {
                                    "lower case uuid": "a0eebc99-9c0b-4ef8-bb6d-6bb9bd380a11",
                                    "ungrouped uuid": "a0eebc99-9c0b-4ef8-bb6d-6bb9bd380a11"
                                }
                            ]
                        },
                        "text/html": [
                            "<table>",
                            "<tr><th>lower case uuid</th><th>lower case uuid</th><th>ungrouped uuid</th></tr>",
                            "<tr><td>a0eebc99-9c0b-4ef8-bb6d-6bb9bd380a11</td><td>a0eebc99-9c0b-4ef8-bb6d-6bb9bd380a11</td><td>a0eebc99-9c0b-4ef8-bb6d-6bb9bd380a11</td></tr>",
                            "</table>"
                        ]
                    }
                }
            ],
            "execution_count": 66
        },
        {
            "cell_type": "markdown",
            "source": [
                "## XML Type\n",
                "\n",
                "XML :   unlimited length\n",
                "\n",
                ""
            ],
            "metadata": {
                "language": "sql",
                "azdata_cell_guid": "8a189204-276a-4079-9843-43d8505ed3a8"
            },
            "attachments": {}
        },
        {
            "cell_type": "code",
            "source": [
                "select '<a>42</a>'::XML as \"XML Content\""
            ],
            "metadata": {
                "language": "sql",
                "azdata_cell_guid": "43d6fe95-b442-4142-9a94-df1f18666fbc"
            },
            "outputs": [
                {
                    "output_type": "display_data",
                    "data": {
                        "text/html": "(1 row(s) affected)"
                    },
                    "metadata": {}
                },
                {
                    "output_type": "display_data",
                    "data": {
                        "text/html": "Total execution time: 00:00:00.001"
                    },
                    "metadata": {}
                },
                {
                    "output_type": "execute_result",
                    "metadata": {},
                    "execution_count": 67,
                    "data": {
                        "application/vnd.dataresource+json": {
                            "schema": {
                                "fields": [
                                    {
                                        "name": "XML Content"
                                    }
                                ]
                            },
                            "data": [
                                {
                                    "XML Content": "<a>42</a>"
                                }
                            ]
                        },
                        "text/html": [
                            "<table>",
                            "<tr><th>XML Content</th></tr>",
                            "<tr><td>&lt;a&gt;42&lt;/a&gt;</td></tr>",
                            "</table>"
                        ]
                    }
                }
            ],
            "execution_count": 67
        },
        {
            "cell_type": "code",
            "source": [
                "SELECT XML '<?xml version=\"1.0\"?>\n",
                "<book>\n",
                "    <title>Manual</title>\n",
                "    <chapter>...</chapter>\n",
                "</book>\n",
                "'\n",
                "as \"XML Document\""
            ],
            "metadata": {
                "language": "sql",
                "azdata_cell_guid": "d6b7fd48-dab6-4791-aff7-5fb96dcda078"
            },
            "outputs": [
                {
                    "output_type": "display_data",
                    "data": {
                        "text/html": "(1 row(s) affected)"
                    },
                    "metadata": {}
                },
                {
                    "output_type": "display_data",
                    "data": {
                        "text/html": "Total execution time: 00:00:00.001"
                    },
                    "metadata": {}
                },
                {
                    "output_type": "execute_result",
                    "metadata": {},
                    "execution_count": 68,
                    "data": {
                        "application/vnd.dataresource+json": {
                            "schema": {
                                "fields": [
                                    {
                                        "name": "XML Document"
                                    }
                                ]
                            },
                            "data": [
                                {
                                    "XML Document": "<book>\n    <title>Manual</title>\n    <chapter>...</chapter>\n</book>\n"
                                }
                            ]
                        },
                        "text/html": [
                            "<table>",
                            "<tr><th>XML Document</th></tr>",
                            "<tr><td>&lt;book&gt;\n    &lt;title&gt;Manual&lt;/title&gt;\n    &lt;chapter&gt;...&lt;/chapter&gt;\n&lt;/book&gt;\n</td></tr>",
                            "</table>"
                        ]
                    }
                }
            ],
            "execution_count": 68
        },
        {
            "cell_type": "code",
            "source": [
                "SELECT XMLPARSE (DOCUMENT '<?xml version=\"1.0\"?><book><title>Manual</title><chapter>...</chapter></book>')"
            ],
            "metadata": {
                "azdata_cell_guid": "040ed00a-dcd7-4e34-ae52-776efc4bd6da",
                "language": "sql"
            },
            "outputs": [
                {
                    "output_type": "display_data",
                    "data": {
                        "text/html": "(1 row(s) affected)"
                    },
                    "metadata": {}
                },
                {
                    "output_type": "display_data",
                    "data": {
                        "text/html": "Total execution time: 00:00:00.002"
                    },
                    "metadata": {}
                },
                {
                    "output_type": "execute_result",
                    "metadata": {},
                    "execution_count": 69,
                    "data": {
                        "application/vnd.dataresource+json": {
                            "schema": {
                                "fields": [
                                    {
                                        "name": "xmlparse"
                                    }
                                ]
                            },
                            "data": [
                                {
                                    "xmlparse": "<book><title>Manual</title><chapter>...</chapter></book>"
                                }
                            ]
                        },
                        "text/html": [
                            "<table>",
                            "<tr><th>xmlparse</th></tr>",
                            "<tr><td>&lt;book&gt;&lt;title&gt;Manual&lt;/title&gt;&lt;chapter&gt;...&lt;/chapter&gt;&lt;/book&gt;</td></tr>",
                            "</table>"
                        ]
                    }
                }
            ],
            "execution_count": 69
        },
        {
            "cell_type": "markdown",
            "source": [
                "## JSON Types\n",
                "\n",
                "\n",
                "JSON : unlimited length\n",
                "\n",
                "JSONB : unlimited length, binary format"
            ],
            "metadata": {
                "language": "sql",
                "azdata_cell_guid": "f23c2a85-8d80-4c49-8ae1-cd698580b14e"
            },
            "attachments": {}
        },
        {
            "cell_type": "code",
            "source": [
                "select '{\"name\":\"Arthur\"}'::JSON,\n",
                " '{\"name\":\"Arthur\"}'::JSONB,\n",
                " JSON  '{\"name\":\"Arthur\"}';"
            ],
            "metadata": {
                "language": "sql",
                "azdata_cell_guid": "e9395386-1c12-4808-b8f9-12676246208b"
            },
            "outputs": [
                {
                    "output_type": "display_data",
                    "data": {
                        "text/html": "(1 row(s) affected)"
                    },
                    "metadata": {}
                },
                {
                    "output_type": "display_data",
                    "data": {
                        "text/html": "Total execution time: 00:00:00.001"
                    },
                    "metadata": {}
                },
                {
                    "output_type": "execute_result",
                    "metadata": {},
                    "execution_count": 72,
                    "data": {
                        "application/vnd.dataresource+json": {
                            "schema": {
                                "fields": [
                                    {
                                        "name": "json"
                                    },
                                    {
                                        "name": "jsonb"
                                    },
                                    {
                                        "name": "json"
                                    }
                                ]
                            },
                            "data": [
                                {
                                    "json": "{\"name\":\"Arthur\"}",
                                    "jsonb": "{\"name\": \"Arthur\"}"
                                }
                            ]
                        },
                        "text/html": [
                            "<table>",
                            "<tr><th>json</th><th>jsonb</th><th>json</th></tr>",
                            "<tr><td>{&quot;name&quot;:&quot;Arthur&quot;}</td><td>{&quot;name&quot;: &quot;Arthur&quot;}</td><td>{&quot;name&quot;:&quot;Arthur&quot;}</td></tr>",
                            "</table>"
                        ]
                    }
                }
            ],
            "execution_count": 72
        },
        {
            "cell_type": "markdown",
            "source": [
                "## Range Types\n",
                "\n",
                "\n",
                "### Numbers\n",
                "\n",
                "INT4RANGE : 4 bytes integers\n",
                "\n",
                "INT8RANGE : 8 bytes integers\n",
                "\n",
                "NUMRANGE : range of numeric type"
            ],
            "metadata": {
                "language": "sql",
                "azdata_cell_guid": "8f10eeed-4a5e-4ed2-b7a1-03965bf09115"
            },
            "attachments": {}
        },
        {
            "cell_type": "code",
            "source": [
                "select int4range(10, 20) as \"Range of integers\",\n",
                "numrange(2.17, 3.14) as \"Range of numerics\";\n",
                ""
            ],
            "metadata": {
                "language": "sql",
                "azdata_cell_guid": "40f1060f-ffae-4de5-8d70-7ca828f451eb",
                "tags": []
            },
            "outputs": [
                {
                    "output_type": "display_data",
                    "data": {
                        "text/html": "(1 row(s) affected)"
                    },
                    "metadata": {}
                },
                {
                    "output_type": "display_data",
                    "data": {
                        "text/html": "Total execution time: 00:00:00.002"
                    },
                    "metadata": {}
                },
                {
                    "output_type": "execute_result",
                    "metadata": {},
                    "execution_count": 74,
                    "data": {
                        "application/vnd.dataresource+json": {
                            "schema": {
                                "fields": [
                                    {
                                        "name": "Range of integers"
                                    },
                                    {
                                        "name": "Range of numerics"
                                    }
                                ]
                            },
                            "data": [
                                {
                                    "Range of integers": "[10,20)",
                                    "Range of numerics": "[2.17,3.14)"
                                }
                            ]
                        },
                        "text/html": [
                            "<table>",
                            "<tr><th>Range of integers</th><th>Range of numerics</th></tr>",
                            "<tr><td>[10,20)</td><td>[2.17,3.14)</td></tr>",
                            "</table>"
                        ]
                    }
                }
            ],
            "execution_count": 74
        },
        {
            "cell_type": "markdown",
            "source": [
                "### Dates and Times\n",
                "\n",
                "TSRANGE :  timestamps without time zone\n",
                "\n",
                "TSTZRANGE : timestamps with time zone\n",
                "\n",
                "DATERAGE : dates\n",
                ""
            ],
            "metadata": {
                "language": "sql",
                "azdata_cell_guid": "515c25eb-de1b-4d8c-b855-daf4f9d5edc0"
            },
            "attachments": {}
        },
        {
            "cell_type": "code",
            "source": [
                "SELECT tsrange('20200228 00:00:00', '20200229 11:59:59') as \"Timestamp range covering the leap day in 2020\",\n",
                "daterange('20300101', '20401231') as \"Date range from 2030 to 2040\""
            ],
            "metadata": {
                "language": "sql",
                "azdata_cell_guid": "a367e332-89d3-4f00-89d5-1c87c00cb8bc"
            },
            "outputs": [
                {
                    "output_type": "display_data",
                    "data": {
                        "text/html": "(1 row(s) affected)"
                    },
                    "metadata": {}
                },
                {
                    "output_type": "display_data",
                    "data": {
                        "text/html": "Total execution time: 00:00:00.001"
                    },
                    "metadata": {}
                },
                {
                    "output_type": "execute_result",
                    "metadata": {},
                    "execution_count": 76,
                    "data": {
                        "application/vnd.dataresource+json": {
                            "schema": {
                                "fields": [
                                    {
                                        "name": "Timestamp range covering the leap day in 2020"
                                    },
                                    {
                                        "name": "Date range from 2030 to 2040"
                                    }
                                ]
                            },
                            "data": [
                                {
                                    "Timestamp range covering the leap day in 2020": "[\"2020-02-28 00:00:00\",\"2020-02-29 11:59:59\")",
                                    "Date range from 2030 to 2040": "[2030-01-01,2040-12-31)"
                                }
                            ]
                        },
                        "text/html": [
                            "<table>",
                            "<tr><th>Timestamp range covering the leap day in 2020</th><th>Date range from 2030 to 2040</th></tr>",
                            "<tr><td>[&quot;2020-02-28 00:00:00&quot;,&quot;2020-02-29 11:59:59&quot;)</td><td>[2030-01-01,2040-12-31)</td></tr>",
                            "</table>"
                        ]
                    }
                }
            ],
            "execution_count": 76
        },
        {
            "cell_type": "markdown",
            "source": [
                "# Doing Math\n",
                "\n",
                "## Mathematical operators\n",
                "\n",
                "+ Scalar math functions\n",
                "+ Random functions\n",
                "+ Trigonometric functions\n",
                "+ Aggregate functions\n",
                "+ Converting and formatting numbers\n",
                "\n",
                "\n",
                "\n",
                "\n",
                "\n",
                "\n",
                "\n",
                "\n",
                "\n",
                "\n",
                ""
            ],
            "metadata": {
                "azdata_cell_guid": "b49f9940-6db4-49e1-88b3-4dc309983ea1"
            },
            "attachments": {}
        },
        {
            "cell_type": "markdown",
            "source": [
                "## Math Operators\n",
                "\n",
                "### ANSI Standard\n",
                "\n",
                "\n",
                ""
            ],
            "metadata": {
                "azdata_cell_guid": "48310313-d480-4fb8-9a37-efc5909439d6"
            },
            "attachments": {}
        },
        {
            "cell_type": "code",
            "source": [
                "SELECT \n",
                "    2 + 3 as \"Addition\",\n",
                "    2 - 3 as \"Subtraction\",\n",
                "    2 * 3 as \"Multiplication\",\n",
                "    5 / 3 as \"division (Integer)\", DIV(5,2),\n",
                "    5.0 / 2 as \"Division ( Non-Integer)\";"
            ],
            "metadata": {
                "azdata_cell_guid": "a3a3e679-40e6-441e-a023-91b1bf959f07",
                "language": "sql"
            },
            "outputs": [
                {
                    "output_type": "display_data",
                    "data": {
                        "text/html": "(1 row(s) affected)"
                    },
                    "metadata": {}
                },
                {
                    "output_type": "display_data",
                    "data": {
                        "text/html": "Total execution time: 00:00:00.001"
                    },
                    "metadata": {}
                },
                {
                    "output_type": "execute_result",
                    "metadata": {},
                    "execution_count": 79,
                    "data": {
                        "application/vnd.dataresource+json": {
                            "schema": {
                                "fields": [
                                    {
                                        "name": "Addition"
                                    },
                                    {
                                        "name": "Subtraction"
                                    },
                                    {
                                        "name": "Multiplication"
                                    },
                                    {
                                        "name": "division (Integer)"
                                    },
                                    {
                                        "name": "div"
                                    },
                                    {
                                        "name": "Division ( Non-Integer)"
                                    }
                                ]
                            },
                            "data": [
                                {
                                    "Addition": "5",
                                    "Subtraction": "-1",
                                    "Multiplication": "6",
                                    "division (Integer)": "1",
                                    "div": "2",
                                    "Division ( Non-Integer)": "2.5000000000000000"
                                }
                            ]
                        },
                        "text/html": [
                            "<table>",
                            "<tr><th>Addition</th><th>Subtraction</th><th>Multiplication</th><th>division (Integer)</th><th>div</th><th>Division ( Non-Integer)</th></tr>",
                            "<tr><td>5</td><td>-1</td><td>6</td><td>1</td><td>2</td><td>2.5000000000000000</td></tr>",
                            "</table>"
                        ]
                    }
                }
            ],
            "execution_count": 79
        },
        {
            "cell_type": "markdown",
            "source": [
                "### Convenience Operators\n",
                ""
            ],
            "metadata": {
                "azdata_cell_guid": "a5b47844-e7a7-422a-8c9c-95cae235703a"
            },
            "attachments": {}
        },
        {
            "cell_type": "code",
            "source": [
                "SELECT \n",
                "    5 % 2 as \"Modulo(remainder)\", MOD(5,2),\n",
                "    5 ^ 2 as \"Exponentiation\",POWER(5,2),\n",
                "    |/ 25 as \"Square root\",SQRT(25),\n",
                "    @ -42 as \"Absolute value\", ABS(-42);"
            ],
            "metadata": {
                "azdata_cell_guid": "22c28057-96a8-43b0-9f48-c9773a7bc1fe",
                "language": "sql"
            },
            "outputs": [
                {
                    "output_type": "display_data",
                    "data": {
                        "text/html": "(1 row(s) affected)"
                    },
                    "metadata": {}
                },
                {
                    "output_type": "display_data",
                    "data": {
                        "text/html": "Total execution time: 00:00:00.001"
                    },
                    "metadata": {}
                },
                {
                    "output_type": "execute_result",
                    "metadata": {},
                    "execution_count": 81,
                    "data": {
                        "application/vnd.dataresource+json": {
                            "schema": {
                                "fields": [
                                    {
                                        "name": "Modulo(remainder)"
                                    },
                                    {
                                        "name": "mod"
                                    },
                                    {
                                        "name": "Exponentiation"
                                    },
                                    {
                                        "name": "power"
                                    },
                                    {
                                        "name": "Square root"
                                    },
                                    {
                                        "name": "sqrt"
                                    },
                                    {
                                        "name": "Absolute value"
                                    },
                                    {
                                        "name": "abs"
                                    }
                                ]
                            },
                            "data": [
                                {
                                    "Modulo(remainder)": "1",
                                    "mod": "1",
                                    "Exponentiation": "25",
                                    "power": "25",
                                    "Square root": "5",
                                    "sqrt": "5",
                                    "Absolute value": "42",
                                    "abs": "42"
                                }
                            ]
                        },
                        "text/html": [
                            "<table>",
                            "<tr><th>Modulo(remainder)</th><th>mod</th><th>Exponentiation</th><th>power</th><th>Square root</th><th>sqrt</th><th>Absolute value</th><th>abs</th></tr>",
                            "<tr><td>1</td><td>1</td><td>25</td><td>25</td><td>5</td><td>5</td><td>42</td><td>42</td></tr>",
                            "</table>"
                        ]
                    }
                }
            ],
            "execution_count": 81
        },
        {
            "cell_type": "markdown",
            "source": [
                "### PostgreSQL Extensions\n",
                ""
            ],
            "metadata": {
                "language": "sql",
                "azdata_cell_guid": "526f7892-e8e7-4403-a3b8-afb6e950a75d"
            },
            "attachments": {}
        },
        {
            "cell_type": "code",
            "source": [
                "SELECT\n",
                "||/ 27 AS \"Cube root\", CBRT(27),\n",
                "Factorial(5) as \"Factorial\";\n",
                "\n",
                "-- 5 ! AS \"Factorial\",\n",
                "-- !! 5 AS \"Factorial (prefix)\""
            ],
            "metadata": {
                "language": "sql",
                "azdata_cell_guid": "ce4e1ebb-a687-4d66-9496-59165868a68f"
            },
            "outputs": [
                {
                    "output_type": "display_data",
                    "data": {
                        "text/html": "(1 row(s) affected)"
                    },
                    "metadata": {}
                },
                {
                    "output_type": "display_data",
                    "data": {
                        "text/html": "Total execution time: 00:00:00.001"
                    },
                    "metadata": {}
                },
                {
                    "output_type": "execute_result",
                    "metadata": {},
                    "execution_count": 83,
                    "data": {
                        "application/vnd.dataresource+json": {
                            "schema": {
                                "fields": [
                                    {
                                        "name": "Cube root"
                                    },
                                    {
                                        "name": "cbrt"
                                    },
                                    {
                                        "name": "Factorial"
                                    }
                                ]
                            },
                            "data": [
                                {
                                    "Cube root": "3",
                                    "cbrt": "3",
                                    "Factorial": "120"
                                }
                            ]
                        },
                        "text/html": [
                            "<table>",
                            "<tr><th>Cube root</th><th>cbrt</th><th>Factorial</th></tr>",
                            "<tr><td>3</td><td>3</td><td>120</td></tr>",
                            "</table>"
                        ]
                    }
                }
            ],
            "execution_count": 83
        },
        {
            "cell_type": "markdown",
            "source": [
                "### Bitwise Operators"
            ],
            "metadata": {
                "azdata_cell_guid": "917d8868-e5db-441a-aad9-89a4b22dcb8f"
            },
            "attachments": {}
        },
        {
            "cell_type": "code",
            "source": [
                "SELECT\n",
                "    42 & 24 AS \"AND\",\n",
                "    42 | 24 AS \"OR\",\n",
                "    42 # 24 AS \"Xor\",\n",
                "    ~1 AS \"Negation\",\n",
                "    42 << 1 AS \"Left shift\",\n",
                "    42 >> 1 AS \"Right shift\";"
            ],
            "metadata": {
                "azdata_cell_guid": "82da9912-923d-4e7c-bf5c-48d3454f3b85",
                "language": "sql"
            },
            "outputs": [
                {
                    "output_type": "display_data",
                    "data": {
                        "text/html": "(1 row(s) affected)"
                    },
                    "metadata": {}
                },
                {
                    "output_type": "display_data",
                    "data": {
                        "text/html": "Total execution time: 00:00:00.001"
                    },
                    "metadata": {}
                },
                {
                    "output_type": "execute_result",
                    "metadata": {},
                    "execution_count": 84,
                    "data": {
                        "application/vnd.dataresource+json": {
                            "schema": {
                                "fields": [
                                    {
                                        "name": "AND"
                                    },
                                    {
                                        "name": "OR"
                                    },
                                    {
                                        "name": "Xor"
                                    },
                                    {
                                        "name": "Negation"
                                    },
                                    {
                                        "name": "Left shift"
                                    },
                                    {
                                        "name": "Right shift"
                                    }
                                ]
                            },
                            "data": [
                                {
                                    "AND": "8",
                                    "OR": "58",
                                    "Xor": "50",
                                    "Negation": "-2",
                                    "Left shift": "84",
                                    "Right shift": "21"
                                }
                            ]
                        },
                        "text/html": [
                            "<table>",
                            "<tr><th>AND</th><th>OR</th><th>Xor</th><th>Negation</th><th>Left shift</th><th>Right shift</th></tr>",
                            "<tr><td>8</td><td>58</td><td>50</td><td>-2</td><td>84</td><td>21</td></tr>",
                            "</table>"
                        ]
                    }
                }
            ],
            "execution_count": 84
        },
        {
            "cell_type": "markdown",
            "source": [
                "## Scalar Functions\n",
                "\n",
                "### ANSI Standard functions supported by PostgreSQL\n",
                "\n",
                ""
            ],
            "metadata": {
                "azdata_cell_guid": "cf7cdca2-e897-4f9f-aef1-6677738e1219"
            },
            "attachments": {}
        },
        {
            "cell_type": "code",
            "source": [
                "SELECT\n",
                "    ABS(-42) AS \"Absolute value\",\n",
                "    MOD(5,2) AS \"Modulus (remainder)\",\n",
                "    LOG(2,8) AS \"general Logarithm\",\n",
                "    LN(42) AS \"Natural Logarithm\";"
            ],
            "metadata": {
                "azdata_cell_guid": "89cef564-6546-44a8-b117-061df4b9485a",
                "language": "sql"
            },
            "outputs": [
                {
                    "output_type": "display_data",
                    "data": {
                        "text/html": "(1 row(s) affected)"
                    },
                    "metadata": {}
                },
                {
                    "output_type": "display_data",
                    "data": {
                        "text/html": "Total execution time: 00:00:00.003"
                    },
                    "metadata": {}
                },
                {
                    "output_type": "execute_result",
                    "metadata": {},
                    "execution_count": 85,
                    "data": {
                        "application/vnd.dataresource+json": {
                            "schema": {
                                "fields": [
                                    {
                                        "name": "Absolute value"
                                    },
                                    {
                                        "name": "Modulus (remainder)"
                                    },
                                    {
                                        "name": "general Logarithm"
                                    },
                                    {
                                        "name": "Natural Logarithm"
                                    }
                                ]
                            },
                            "data": [
                                {
                                    "Absolute value": "42",
                                    "Modulus (remainder)": "1",
                                    "general Logarithm": "3.0000000000000000",
                                    "Natural Logarithm": "3.7376696182833684"
                                }
                            ]
                        },
                        "text/html": [
                            "<table>",
                            "<tr><th>Absolute value</th><th>Modulus (remainder)</th><th>general Logarithm</th><th>Natural Logarithm</th></tr>",
                            "<tr><td>42</td><td>1</td><td>3.0000000000000000</td><td>3.7376696182833684</td></tr>",
                            "</table>"
                        ]
                    }
                }
            ],
            "execution_count": 85
        },
        {
            "cell_type": "code",
            "source": [
                "SELECT\n",
                "    EXP(1) AS \"Exponential of e\",\n",
                "    POWER(5,2) AS \"POWER\",\n",
                "    SQRT(2) as \"Square Root\",\n",
                "    FLOOR(3.14159) as \"Floor\",\n",
                "    CEIL(3.1415) as \"Ceiling\", CEILING(3.14159);"
            ],
            "metadata": {
                "azdata_cell_guid": "6faeb9d3-526a-44df-86c0-003699cd7b54",
                "language": "sql"
            },
            "outputs": [
                {
                    "output_type": "display_data",
                    "data": {
                        "text/html": "(1 row(s) affected)"
                    },
                    "metadata": {}
                },
                {
                    "output_type": "display_data",
                    "data": {
                        "text/html": "Total execution time: 00:00:00.001"
                    },
                    "metadata": {}
                },
                {
                    "output_type": "execute_result",
                    "metadata": {},
                    "execution_count": 87,
                    "data": {
                        "application/vnd.dataresource+json": {
                            "schema": {
                                "fields": [
                                    {
                                        "name": "Exponential of e"
                                    },
                                    {
                                        "name": "POWER"
                                    },
                                    {
                                        "name": "Square Root"
                                    },
                                    {
                                        "name": "Floor"
                                    },
                                    {
                                        "name": "Ceiling"
                                    },
                                    {
                                        "name": "ceiling"
                                    }
                                ]
                            },
                            "data": [
                                {
                                    "Exponential of e": "2.718281828459045",
                                    "POWER": "25",
                                    "Square Root": "1.4142135623730951",
                                    "Floor": "3",
                                    "Ceiling": "4",
                                    "ceiling": "4"
                                }
                            ]
                        },
                        "text/html": [
                            "<table>",
                            "<tr><th>Exponential of e</th><th>POWER</th><th>Square Root</th><th>Floor</th><th>Ceiling</th><th>ceiling</th></tr>",
                            "<tr><td>2.718281828459045</td><td>25</td><td>1.4142135623730951</td><td>3</td><td>4</td><td>4</td></tr>",
                            "</table>"
                        ]
                    }
                }
            ],
            "execution_count": 87
        },
        {
            "cell_type": "markdown",
            "source": [
                "### PostgreSQL Extensions\n",
                ""
            ],
            "metadata": {
                "language": "sql",
                "azdata_cell_guid": "9058aa48-920c-413c-8a49-c72904d2e051"
            },
            "attachments": {}
        },
        {
            "cell_type": "code",
            "source": [
                "SELECT\n",
                "    cbrt(42) AS \"Cube root\",\n",
                "    degrees(42) as \"radians to degrees\",\n",
                "    radians(42) as \"Degrees to Radians\",\n",
                "    log(42) AS \"Base 10 logarithm\",\n",
                "    PI() AS \"pi constant\";"
            ],
            "metadata": {
                "language": "sql",
                "azdata_cell_guid": "a1777210-0f85-4195-8c9a-671a58c8e054"
            },
            "outputs": [
                {
                    "output_type": "display_data",
                    "data": {
                        "text/html": "(1 row(s) affected)"
                    },
                    "metadata": {}
                },
                {
                    "output_type": "display_data",
                    "data": {
                        "text/html": "Total execution time: 00:00:00.001"
                    },
                    "metadata": {}
                },
                {
                    "output_type": "execute_result",
                    "metadata": {},
                    "execution_count": 88,
                    "data": {
                        "application/vnd.dataresource+json": {
                            "schema": {
                                "fields": [
                                    {
                                        "name": "Cube root"
                                    },
                                    {
                                        "name": "radians to degrees"
                                    },
                                    {
                                        "name": "Degrees to Radians"
                                    },
                                    {
                                        "name": "Base 10 logarithm"
                                    },
                                    {
                                        "name": "pi constant"
                                    }
                                ]
                            },
                            "data": [
                                {
                                    "Cube root": "3.4760266448864496",
                                    "radians to degrees": "2406.4227395494577",
                                    "Degrees to Radians": "0.7330382858376184",
                                    "Base 10 logarithm": "1.6232492903979006",
                                    "pi constant": "3.141592653589793"
                                }
                            ]
                        },
                        "text/html": [
                            "<table>",
                            "<tr><th>Cube root</th><th>radians to degrees</th><th>Degrees to Radians</th><th>Base 10 logarithm</th><th>pi constant</th></tr>",
                            "<tr><td>3.4760266448864496</td><td>2406.4227395494577</td><td>0.7330382858376184</td><td>1.6232492903979006</td><td>3.141592653589793</td></tr>",
                            "</table>"
                        ]
                    }
                }
            ],
            "execution_count": 88
        },
        {
            "cell_type": "code",
            "source": [
                "SELECT\n",
                "    round(42.4) as \"Round to nearest integer\",\n",
                "    round(42.1234, 2) as \"Round to a number of decimal places\",\n",
                "    scale(42.5324) as \"Number of digits after decimal point\";"
            ],
            "metadata": {
                "azdata_cell_guid": "0ba99643-df41-45c3-a659-95690a89a111",
                "language": "sql"
            },
            "outputs": [
                {
                    "output_type": "display_data",
                    "data": {
                        "text/html": "(1 row(s) affected)"
                    },
                    "metadata": {}
                },
                {
                    "output_type": "display_data",
                    "data": {
                        "text/html": "Total execution time: 00:00:00.001"
                    },
                    "metadata": {}
                },
                {
                    "output_type": "execute_result",
                    "metadata": {},
                    "execution_count": 90,
                    "data": {
                        "application/vnd.dataresource+json": {
                            "schema": {
                                "fields": [
                                    {
                                        "name": "Round to nearest integer"
                                    },
                                    {
                                        "name": "Round to a number of decimal places"
                                    },
                                    {
                                        "name": "Number of digits after decimal point"
                                    }
                                ]
                            },
                            "data": [
                                {
                                    "Round to nearest integer": "42",
                                    "Round to a number of decimal places": "42.12",
                                    "Number of digits after decimal point": "4"
                                }
                            ]
                        },
                        "text/html": [
                            "<table>",
                            "<tr><th>Round to nearest integer</th><th>Round to a number of decimal places</th><th>Number of digits after decimal point</th></tr>",
                            "<tr><td>42</td><td>42.12</td><td>4</td></tr>",
                            "</table>"
                        ]
                    }
                }
            ],
            "execution_count": 90
        },
        {
            "cell_type": "code",
            "source": [
                "SELECT\n",
                "    sign(-1) as \"sign\",\n",
                "    trunc(42.5) as \"Truncate toward zero\",\n",
                "    trunc(42.123, 2) as \"Truncate to a number of decimal places\";"
            ],
            "metadata": {
                "azdata_cell_guid": "f96604c9-dd0b-4909-ac4d-5b8f83165700",
                "language": "sql"
            },
            "outputs": [
                {
                    "output_type": "display_data",
                    "data": {
                        "text/html": "(1 row(s) affected)"
                    },
                    "metadata": {}
                },
                {
                    "output_type": "display_data",
                    "data": {
                        "text/html": "Total execution time: 00:00:00.001"
                    },
                    "metadata": {}
                },
                {
                    "output_type": "execute_result",
                    "metadata": {},
                    "execution_count": 91,
                    "data": {
                        "application/vnd.dataresource+json": {
                            "schema": {
                                "fields": [
                                    {
                                        "name": "sign"
                                    },
                                    {
                                        "name": "Truncate toward zero"
                                    },
                                    {
                                        "name": "Truncate to a number of decimal places"
                                    }
                                ]
                            },
                            "data": [
                                {
                                    "sign": "-1",
                                    "Truncate toward zero": "42",
                                    "Truncate to a number of decimal places": "42.12"
                                }
                            ]
                        },
                        "text/html": [
                            "<table>",
                            "<tr><th>sign</th><th>Truncate toward zero</th><th>Truncate to a number of decimal places</th></tr>",
                            "<tr><td>-1</td><td>42</td><td>42.12</td></tr>",
                            "</table>"
                        ]
                    }
                }
            ],
            "execution_count": 91
        },
        {
            "cell_type": "markdown",
            "source": [
                "## Random number functions"
            ],
            "metadata": {
                "language": "sql",
                "azdata_cell_guid": "3cddfa26-95f8-4388-9b3b-b7e93ff513b1"
            },
            "attachments": {}
        },
        {
            "cell_type": "code",
            "source": [
                "-- select setseed(.42);\n",
                "select random()"
            ],
            "metadata": {
                "language": "sql",
                "azdata_cell_guid": "d2bc65ba-3955-4fa5-90cf-eaee43820385"
            },
            "outputs": [
                {
                    "output_type": "display_data",
                    "data": {
                        "text/html": "(1 row(s) affected)"
                    },
                    "metadata": {}
                },
                {
                    "output_type": "display_data",
                    "data": {
                        "text/html": "Total execution time: 00:00:00"
                    },
                    "metadata": {}
                },
                {
                    "output_type": "execute_result",
                    "metadata": {},
                    "execution_count": 99,
                    "data": {
                        "application/vnd.dataresource+json": {
                            "schema": {
                                "fields": [
                                    {
                                        "name": "random"
                                    }
                                ]
                            },
                            "data": [
                                {
                                    "random": "0.9458112944865285"
                                }
                            ]
                        },
                        "text/html": [
                            "<table>",
                            "<tr><th>random</th></tr>",
                            "<tr><td>0.9458112944865285</td></tr>",
                            "</table>"
                        ]
                    }
                }
            ],
            "execution_count": 99
        },
        {
            "cell_type": "markdown",
            "source": [
                "## WIDTH_BUCKET (ANSI Standard, extended by PostgreSQL)"
            ],
            "metadata": {
                "azdata_cell_guid": "4b2b66f2-7343-4ab9-9db3-040760732a5a"
            },
            "attachments": {}
        },
        {
            "cell_type": "code",
            "source": [
                "SELECT\n",
                "    width_bucket(3.14159, 0, 5, 10) as \"10 buckets from 0 to 5 (ANSI)\",\n",
                "    width_bucket(42,array[30, 45 ,50]) as \"Array of buckets (PostgreSQL)\";"
            ],
            "metadata": {
                "azdata_cell_guid": "47b458ef-b36f-4189-9eb0-bf467e82ba4c",
                "language": "sql"
            },
            "outputs": [
                {
                    "output_type": "display_data",
                    "data": {
                        "text/html": "(1 row(s) affected)"
                    },
                    "metadata": {}
                },
                {
                    "output_type": "display_data",
                    "data": {
                        "text/html": "Total execution time: 00:00:00.001"
                    },
                    "metadata": {}
                },
                {
                    "output_type": "execute_result",
                    "metadata": {},
                    "execution_count": 102,
                    "data": {
                        "application/vnd.dataresource+json": {
                            "schema": {
                                "fields": [
                                    {
                                        "name": "10 buckets from 0 to 5 (ANSI)"
                                    },
                                    {
                                        "name": "Array of buckets (PostgreSQL)"
                                    }
                                ]
                            },
                            "data": [
                                {
                                    "10 buckets from 0 to 5 (ANSI)": "7",
                                    "Array of buckets (PostgreSQL)": "1"
                                }
                            ]
                        },
                        "text/html": [
                            "<table>",
                            "<tr><th>10 buckets from 0 to 5 (ANSI)</th><th>Array of buckets (PostgreSQL)</th></tr>",
                            "<tr><td>7</td><td>1</td></tr>",
                            "</table>"
                        ]
                    }
                }
            ],
            "execution_count": 102
        },
        {
            "cell_type": "markdown",
            "source": [
                "## Trgonometric Functions\n",
                "\n",
                "### ANSI Standard functions supported by PostgreSQL\n",
                "\n",
                "\n",
                "+ Hyperbolic functions SINH, COSH, TANS not supported before version 12\n",
                ""
            ],
            "metadata": {
                "language": "sql",
                "azdata_cell_guid": "17d87ce1-78de-4e2a-b746-7f24578bd038"
            },
            "attachments": {}
        },
        {
            "cell_type": "code",
            "source": [
                "SELECT \n",
                "sin(.42),\n",
                "cos(.42),\n",
                "tan(.42);"
            ],
            "metadata": {
                "language": "sql",
                "azdata_cell_guid": "49a15304-172a-4604-ab47-8a60c36c4199"
            },
            "outputs": [
                {
                    "output_type": "display_data",
                    "data": {
                        "text/html": "(1 row(s) affected)"
                    },
                    "metadata": {}
                },
                {
                    "output_type": "display_data",
                    "data": {
                        "text/html": "Total execution time: 00:00:00.001"
                    },
                    "metadata": {}
                },
                {
                    "output_type": "execute_result",
                    "metadata": {},
                    "execution_count": 103,
                    "data": {
                        "application/vnd.dataresource+json": {
                            "schema": {
                                "fields": [
                                    {
                                        "name": "sin"
                                    },
                                    {
                                        "name": "cos"
                                    },
                                    {
                                        "name": "tan"
                                    }
                                ]
                            },
                            "data": [
                                {
                                    "sin": "0.40776045305957015",
                                    "cos": "0.9130889403123083",
                                    "tan": "0.4465725462845951"
                                }
                            ]
                        },
                        "text/html": [
                            "<table>",
                            "<tr><th>sin</th><th>cos</th><th>tan</th></tr>",
                            "<tr><td>0.40776045305957015</td><td>0.9130889403123083</td><td>0.4465725462845951</td></tr>",
                            "</table>"
                        ]
                    }
                }
            ],
            "execution_count": 103
        },
        {
            "cell_type": "code",
            "source": [
                "SELECT\n",
                "    ASIN(.42),\n",
                "    ACOS(.42),\n",
                "    ATAN(.42);"
            ],
            "metadata": {
                "language": "sql",
                "azdata_cell_guid": "20ed9e32-8dd5-4644-bc3d-57d62f4afe75"
            },
            "outputs": [
                {
                    "output_type": "display_data",
                    "data": {
                        "text/html": "(1 row(s) affected)"
                    },
                    "metadata": {}
                },
                {
                    "output_type": "display_data",
                    "data": {
                        "text/html": "Total execution time: 00:00:00.002"
                    },
                    "metadata": {}
                },
                {
                    "output_type": "execute_result",
                    "metadata": {},
                    "execution_count": 104,
                    "data": {
                        "application/vnd.dataresource+json": {
                            "schema": {
                                "fields": [
                                    {
                                        "name": "asin"
                                    },
                                    {
                                        "name": "acos"
                                    },
                                    {
                                        "name": "atan"
                                    }
                                ]
                            },
                            "data": [
                                {
                                    "asin": "0.43344532006988595",
                                    "acos": "1.1373510067250108",
                                    "atan": "0.3976279915221293"
                                }
                            ]
                        },
                        "text/html": [
                            "<table>",
                            "<tr><th>asin</th><th>acos</th><th>atan</th></tr>",
                            "<tr><td>0.43344532006988595</td><td>1.1373510067250108</td><td>0.3976279915221293</td></tr>",
                            "</table>"
                        ]
                    }
                }
            ],
            "execution_count": 104
        },
        {
            "cell_type": "markdown",
            "source": [
                "### PostgreSQL Extensions\n",
                "\n",
                "+ COT, ATAN2\n",
                "+ Functions taking degrees instaed of radians (version 9.6 and up)"
            ],
            "metadata": {
                "azdata_cell_guid": "845dcd58-60c3-48f1-ab8d-c13bcb04e276"
            },
            "attachments": {}
        },
        {
            "cell_type": "code",
            "source": [
                "SELECT\n",
                "    cot(.42),\n",
                "    atan2(1,42);"
            ],
            "metadata": {
                "azdata_cell_guid": "a0bf6cc2-dcef-4e09-895b-60ffb6b7e835",
                "language": "sql"
            },
            "outputs": [
                {
                    "output_type": "display_data",
                    "data": {
                        "text/html": "(1 row(s) affected)"
                    },
                    "metadata": {}
                },
                {
                    "output_type": "display_data",
                    "data": {
                        "text/html": "Total execution time: 00:00:00.001"
                    },
                    "metadata": {}
                },
                {
                    "output_type": "execute_result",
                    "metadata": {},
                    "execution_count": 105,
                    "data": {
                        "application/vnd.dataresource+json": {
                            "schema": {
                                "fields": [
                                    {
                                        "name": "cot"
                                    },
                                    {
                                        "name": "atan2"
                                    }
                                ]
                            },
                            "data": [
                                {
                                    "cot": "2.2392778246666167",
                                    "atan2": "0.023805026185069942"
                                }
                            ]
                        },
                        "text/html": [
                            "<table>",
                            "<tr><th>cot</th><th>atan2</th></tr>",
                            "<tr><td>2.2392778246666167</td><td>0.023805026185069942</td></tr>",
                            "</table>"
                        ]
                    }
                }
            ],
            "execution_count": 105
        },
        {
            "cell_type": "code",
            "source": [
                "SELECT\n",
                "    sind(.42),\n",
                "    cosd(.42),\n",
                "    cotd(.42),\n",
                "    tand(.42);"
            ],
            "metadata": {
                "language": "sql",
                "azdata_cell_guid": "e2d1a5c9-f23a-4db0-986b-0a1228b1f1c2"
            },
            "outputs": [
                {
                    "output_type": "display_data",
                    "data": {
                        "text/html": "(1 row(s) affected)"
                    },
                    "metadata": {}
                },
                {
                    "output_type": "display_data",
                    "data": {
                        "text/html": "Total execution time: 00:00:00.001"
                    },
                    "metadata": {}
                },
                {
                    "output_type": "execute_result",
                    "metadata": {},
                    "execution_count": 106,
                    "data": {
                        "application/vnd.dataresource+json": {
                            "schema": {
                                "fields": [
                                    {
                                        "name": "sind"
                                    },
                                    {
                                        "name": "cosd"
                                    },
                                    {
                                        "name": "cotd"
                                    },
                                    {
                                        "name": "tand"
                                    }
                                ]
                            },
                            "data": [
                                {
                                    "sind": "0.007330317209460582",
                                    "cosd": "0.9999731328638829",
                                    "cotd": "136.41607918048996",
                                    "tand": "0.00733051415938231"
                                }
                            ]
                        },
                        "text/html": [
                            "<table>",
                            "<tr><th>sind</th><th>cosd</th><th>cotd</th><th>tand</th></tr>",
                            "<tr><td>0.007330317209460582</td><td>0.9999731328638829</td><td>136.41607918048996</td><td>0.00733051415938231</td></tr>",
                            "</table>"
                        ]
                    }
                }
            ],
            "execution_count": 106
        },
        {
            "cell_type": "code",
            "source": [
                "SELECT\n",
                "    asind(.42),\n",
                "    acosd(.42),\n",
                "    atand(.42),\n",
                "    atan2d(1,42);"
            ],
            "metadata": {
                "language": "sql",
                "azdata_cell_guid": "86b76511-d16c-4d8e-86fa-a955c5e53e68"
            },
            "outputs": [
                {
                    "output_type": "display_data",
                    "data": {
                        "text/html": "(1 row(s) affected)"
                    },
                    "metadata": {}
                },
                {
                    "output_type": "display_data",
                    "data": {
                        "text/html": "Total execution time: 00:00:00.001"
                    },
                    "metadata": {}
                },
                {
                    "output_type": "execute_result",
                    "metadata": {},
                    "execution_count": 107,
                    "data": {
                        "application/vnd.dataresource+json": {
                            "schema": {
                                "fields": [
                                    {
                                        "name": "asind"
                                    },
                                    {
                                        "name": "acosd"
                                    },
                                    {
                                        "name": "atand"
                                    },
                                    {
                                        "name": "atan2d"
                                    }
                                ]
                            },
                            "data": [
                                {
                                    "asind": "24.834587489701583",
                                    "acosd": "65.16541251029842",
                                    "atand": "22.782405730481685",
                                    "atan2d": "1.3639275316029187"
                                }
                            ]
                        },
                        "text/html": [
                            "<table>",
                            "<tr><th>asind</th><th>acosd</th><th>atand</th><th>atan2d</th></tr>",
                            "<tr><td>24.834587489701583</td><td>65.16541251029842</td><td>22.782405730481685</td><td>1.3639275316029187</td></tr>",
                            "</table>"
                        ]
                    }
                }
            ],
            "execution_count": 107
        },
        {
            "cell_type": "markdown",
            "source": [
                "## Aggregate Functions\n",
                "\n",
                "### ANSI Standard functions supported by PostgreSQL\n",
                "\n",
                ""
            ],
            "metadata": {
                "language": "sql",
                "azdata_cell_guid": "faabaf07-e4cb-4b7a-ab52-80599cb31cb0"
            },
            "attachments": {}
        },
        {
            "cell_type": "code",
            "source": [
                "SELECT\n",
                "count(*) as \"Number of customers\",\n",
                "count(DISTINCT \"state\") as \"Number of states\",\n",
                "min(age) as \"Minimum age\",\n",
                "avg(age) as \"Average age\",\n",
                "MAX(age) as \"Maximum age\",\n",
                "sum(income) as \"total income\",\n",
                "avg(age) filter (where 'state' in ('NY', 'CA'))\n",
                "from customers;"
            ],
            "metadata": {
                "language": "sql",
                "azdata_cell_guid": "93ffb903-f2f1-4de6-8a38-88bf0aa344b8",
                "tags": []
            },
            "outputs": [
                {
                    "output_type": "error",
                    "evalue": "relation \"customers\" does not exist",
                    "ename": "",
                    "traceback": []
                },
                {
                    "output_type": "display_data",
                    "data": {
                        "text/html": "Total execution time: 00:00:00"
                    },
                    "metadata": {}
                }
            ],
            "execution_count": 110
        },
        {
            "cell_type": "code",
            "source": [
                "SELECT\n",
                "    'state',\n",
                "    avg(income) as \"Average Income\",\n",
                "from customers\n",
                "GROUP by 'state'\n",
                "having max(age) > 50\n",
                "ORDER by 'state';"
            ],
            "metadata": {
                "language": "sql",
                "azdata_cell_guid": "a7b34860-50fe-4a1a-a82c-6ce9d6b91159"
            },
            "outputs": [],
            "execution_count": null
        },
        {
            "cell_type": "markdown",
            "source": [
                "### PostgreSQL extensitions\n",
                "\n",
                ""
            ],
            "metadata": {
                "language": "sql",
                "azdata_cell_guid": "45b9a8af-1e47-46c0-8d03-62bd172379c1"
            },
            "attachments": {}
        },
        {
            "cell_type": "code",
            "source": [
                "SELECT\n",
                "    bit_and(age) as \"The bitwise AND of all non-null age\",\n",
                "    big_or(age) as \"The bitwise OR of all non-null age\"\n",
                "from customers"
            ],
            "metadata": {
                "language": "sql",
                "azdata_cell_guid": "81dc3797-7b10-4e04-a974-d1ac358cd3f5"
            },
            "outputs": [],
            "execution_count": null
        },
        {
            "cell_type": "markdown",
            "source": [
                "## Statistical Functions\n",
                "\n",
                "### ANSI Standard Functions\n",
                "\n",
                ""
            ],
            "metadata": {
                "azdata_cell_guid": "e3161e48-98e9-4686-bcdc-f6188fefe993"
            },
            "attachments": {}
        },
        {
            "cell_type": "code",
            "source": [
                "select \n",
                "    stddev_pop(age),\n",
                "    stddev_samp(age) filter(where 'state' = 'NY'),\n",
                "    var_samp(income) filter (where age < 25),\n",
                "    var_pop(income),\n",
                "    variance(income) \n",
                "    from customers;"
            ],
            "metadata": {
                "azdata_cell_guid": "e2ff93f7-3057-4648-8c7b-b1723aadba1b",
                "language": "sql"
            },
            "outputs": [],
            "execution_count": null
        },
        {
            "cell_type": "code",
            "source": [
                "select \n",
                "    s.STATE,\n",
                "    corr(c.age, o.netamount),\n",
                "    covar_pop(c.age, o.netamount),\n",
                "    regr_intercept(c.age, o.netamount)\n",
                "from orders o\n",
                "join customers c\n",
                "on o.customerID = o.customerId\n",
                "where c.state in ('NY',\"CA\", \"FL\")"
            ],
            "metadata": {
                "language": "sql",
                "azdata_cell_guid": "cb702dc7-cc8c-48fb-8e49-d404e5a6fdcd"
            },
            "outputs": [],
            "execution_count": null
        },
        {
            "cell_type": "markdown",
            "source": [
                "### Ordered-set aggregate functions"
            ],
            "metadata": {
                "azdata_cell_guid": "0e61e5f4-d44f-41cc-9f63-a681c7e12f8d"
            },
            "attachments": {}
        },
        {
            "cell_type": "code",
            "source": [
                "SELECT\n",
                "    mode()\n",
                "        WITHIN group (order by age),\n",
                "    percentile_count(0.5),\n",
                "        WITHIN group (order by age),\n",
                "    percentile_disc(array[0, 0.25, 0.5, 0.75, 1])\n",
                "from customers"
            ],
            "metadata": {
                "azdata_cell_guid": "c61b32e0-dc78-49b2-9674-5c01842b129f",
                "language": "sql"
            },
            "outputs": [],
            "execution_count": null
        },
        {
            "cell_type": "markdown",
            "source": [
                "## Formatting Functions\n",
                "\n",
                "### input formatting using casting"
            ],
            "metadata": {
                "azdata_cell_guid": "732c0fe7-3919-4155-8886-f6088fd2640e"
            },
            "attachments": {}
        },
        {
            "cell_type": "code",
            "source": [
                "SELECT\n",
                "    '42'::int,\n",
                "    '42'::real,\n",
                "    '42'::numeric(5,2),\n",
                "    '42'::money;"
            ],
            "metadata": {
                "azdata_cell_guid": "18c15261-3d7d-4678-afe5-768ac9cf979e",
                "language": "sql"
            },
            "outputs": [
                {
                    "output_type": "display_data",
                    "data": {
                        "text/html": "(1 row(s) affected)"
                    },
                    "metadata": {}
                },
                {
                    "output_type": "display_data",
                    "data": {
                        "text/html": "Total execution time: 00:00:00.001"
                    },
                    "metadata": {}
                },
                {
                    "output_type": "execute_result",
                    "metadata": {},
                    "execution_count": 111,
                    "data": {
                        "application/vnd.dataresource+json": {
                            "schema": {
                                "fields": [
                                    {
                                        "name": "int4"
                                    },
                                    {
                                        "name": "float4"
                                    },
                                    {
                                        "name": "numeric"
                                    },
                                    {
                                        "name": "money"
                                    }
                                ]
                            },
                            "data": [
                                {
                                    "int4": "42",
                                    "float4": "42",
                                    "numeric": "42.00",
                                    "money": "$42.00"
                                }
                            ]
                        },
                        "text/html": [
                            "<table>",
                            "<tr><th>int4</th><th>float4</th><th>numeric</th><th>money</th></tr>",
                            "<tr><td>42</td><td>42</td><td>42.00</td><td>$42.00</td></tr>",
                            "</table>"
                        ]
                    }
                }
            ],
            "execution_count": 111
        },
        {
            "cell_type": "markdown",
            "source": [
                "### Input formatting using the TO_NUMBER function\n",
                ""
            ],
            "metadata": {
                "language": "sql",
                "azdata_cell_guid": "70c82c8c-0dcd-4a90-8ec7-2c22c0007bcd"
            },
            "attachments": {}
        },
        {
            "cell_type": "code",
            "source": [
                "select '1,000'::INT"
            ],
            "metadata": {
                "language": "sql",
                "azdata_cell_guid": "8890339e-29c9-4ec5-a244-64fdba67ab0a"
            },
            "outputs": [
                {
                    "output_type": "error",
                    "evalue": "invalid input syntax for type integer: \"1,000\"",
                    "ename": "",
                    "traceback": []
                },
                {
                    "output_type": "display_data",
                    "data": {
                        "text/html": "Total execution time: 00:00:00"
                    },
                    "metadata": {}
                }
            ],
            "execution_count": 116
        },
        {
            "cell_type": "code",
            "source": [
                "SELECT to_number('1,000', '9,999')::INT"
            ],
            "metadata": {
                "language": "sql",
                "azdata_cell_guid": "523c1257-c621-42bf-ae14-fa98162cd495"
            },
            "outputs": [
                {
                    "output_type": "display_data",
                    "data": {
                        "text/html": "(1 row(s) affected)"
                    },
                    "metadata": {}
                },
                {
                    "output_type": "display_data",
                    "data": {
                        "text/html": "Total execution time: 00:00:00"
                    },
                    "metadata": {}
                },
                {
                    "output_type": "execute_result",
                    "metadata": {},
                    "execution_count": 118,
                    "data": {
                        "application/vnd.dataresource+json": {
                            "schema": {
                                "fields": [
                                    {
                                        "name": "to_number"
                                    }
                                ]
                            },
                            "data": [
                                {
                                    "to_number": "1000"
                                }
                            ]
                        },
                        "text/html": [
                            "<table>",
                            "<tr><th>to_number</th></tr>",
                            "<tr><td>1000</td></tr>",
                            "</table>"
                        ]
                    }
                }
            ],
            "execution_count": 118
        },
        {
            "cell_type": "markdown",
            "source": [
                "[Table 9.29. Template Patterns for Numeric Formatting](https://www.postgresql.org/docs/current/functions-formatting.html)"
            ],
            "metadata": {
                "language": "sql",
                "azdata_cell_guid": "8eb3cb7c-456f-492d-8b8c-9d10c3cea22a"
            },
            "attachments": {}
        },
        {
            "cell_type": "code",
            "source": [
                "select \n",
                "to_number('-$42.00', 'SL99999D9999')::MONEY as \"Text to money\",\n",
                "to_number('42000', '99V999')::MONEY as \"Text to int with right shift\";\n",
                ""
            ],
            "metadata": {
                "language": "sql",
                "azdata_cell_guid": "5b2a8fef-980e-4917-939d-97398e4e9212"
            },
            "outputs": [
                {
                    "output_type": "display_data",
                    "data": {
                        "text/html": "(1 row(s) affected)"
                    },
                    "metadata": {}
                },
                {
                    "output_type": "display_data",
                    "data": {
                        "text/html": "Total execution time: 00:00:00.001"
                    },
                    "metadata": {}
                },
                {
                    "output_type": "execute_result",
                    "metadata": {},
                    "execution_count": 122,
                    "data": {
                        "application/vnd.dataresource+json": {
                            "schema": {
                                "fields": [
                                    {
                                        "name": "Text to money"
                                    },
                                    {
                                        "name": "Text to int with right shift"
                                    }
                                ]
                            },
                            "data": [
                                {
                                    "Text to money": "-$42.00",
                                    "Text to int with right shift": "$42.00"
                                }
                            ]
                        },
                        "text/html": [
                            "<table>",
                            "<tr><th>Text to money</th><th>Text to int with right shift</th></tr>",
                            "<tr><td>-$42.00</td><td>$42.00</td></tr>",
                            "</table>"
                        ]
                    }
                }
            ],
            "execution_count": 122
        },
        {
            "cell_type": "code",
            "source": [
                "select \n",
                "to_char(42, '000') AS \"Keep leading zeros\",\n",
                "to_char(42, '99.999') AS \"Keep trailing zeros\",\n",
                "to_char(42, 'FM99.999') AS \"Strip trailing zeros\""
            ],
            "metadata": {
                "language": "sql",
                "azdata_cell_guid": "f300d622-913e-42a9-a639-e2f5cf8c951b"
            },
            "outputs": [
                {
                    "output_type": "display_data",
                    "data": {
                        "text/html": "(1 row(s) affected)"
                    },
                    "metadata": {}
                },
                {
                    "output_type": "display_data",
                    "data": {
                        "text/html": "Total execution time: 00:00:00.001"
                    },
                    "metadata": {}
                },
                {
                    "output_type": "execute_result",
                    "metadata": {},
                    "execution_count": 120,
                    "data": {
                        "application/vnd.dataresource+json": {
                            "schema": {
                                "fields": [
                                    {
                                        "name": "Keep leading zeros"
                                    },
                                    {
                                        "name": "Keep trailing zeros"
                                    },
                                    {
                                        "name": "Strip trailing zeros"
                                    }
                                ]
                            },
                            "data": [
                                {
                                    "Keep leading zeros": " 042",
                                    "Keep trailing zeros": " 42.000",
                                    "Strip trailing zeros": "42."
                                }
                            ]
                        },
                        "text/html": [
                            "<table>",
                            "<tr><th>Keep leading zeros</th><th>Keep trailing zeros</th><th>Strip trailing zeros</th></tr>",
                            "<tr><td> 042</td><td> 42.000</td><td>42.</td></tr>",
                            "</table>"
                        ]
                    }
                }
            ],
            "execution_count": 120
        },
        {
            "cell_type": "code",
            "source": [
                "select \n",
                "to_char(42, '999th') AS \"Ordinal suffix\",\n",
                "to_char(42, 'FMRN') AS \"Roman numerals\",\n",
                "to_char(42, 'LFM99999D0099SG') AS \"Currency with trailing sign\";"
            ],
            "metadata": {
                "language": "sql",
                "azdata_cell_guid": "f5fd1ce7-ab76-449b-a54b-bb036d3c7062"
            },
            "outputs": [
                {
                    "output_type": "display_data",
                    "data": {
                        "text/html": "(1 row(s) affected)"
                    },
                    "metadata": {}
                },
                {
                    "output_type": "display_data",
                    "data": {
                        "text/html": "Total execution time: 00:00:00.001"
                    },
                    "metadata": {}
                },
                {
                    "output_type": "execute_result",
                    "metadata": {},
                    "execution_count": 123,
                    "data": {
                        "application/vnd.dataresource+json": {
                            "schema": {
                                "fields": [
                                    {
                                        "name": "Ordinal suffix"
                                    },
                                    {
                                        "name": "Roman numerals"
                                    },
                                    {
                                        "name": "Currency with trailing sign"
                                    }
                                ]
                            },
                            "data": [
                                {
                                    "Ordinal suffix": "  42nd",
                                    "Roman numerals": "XLII",
                                    "Currency with trailing sign": " 42.00+"
                                }
                            ]
                        },
                        "text/html": [
                            "<table>",
                            "<tr><th>Ordinal suffix</th><th>Roman numerals</th><th>Currency with trailing sign</th></tr>",
                            "<tr><td>  42nd</td><td>XLII</td><td> 42.00+</td></tr>",
                            "</table>"
                        ]
                    }
                }
            ],
            "execution_count": 123
        },
        {
            "cell_type": "markdown",
            "source": [
                "# Handling Character Data\n",
                "\n",
                "+ ANSI Standard functions and operators\n",
                "+ PostgreSQL extensions\n",
                "+ Vertical and horizontal aggregation\n",
                "+ Pattern matching\n",
                "+ Text searching\n",
                "+ Converting and formatting"
            ],
            "metadata": {
                "language": "sql",
                "azdata_cell_guid": "6f13078c-c0d7-4b69-ba85-e54871a5216b"
            },
            "attachments": {}
        },
        {
            "cell_type": "markdown",
            "source": [
                "## ANSI Functions and Operators\n",
                "\n",
                "### || Concatenation\n",
                "\n",
                ""
            ],
            "metadata": {
                "language": "sql",
                "azdata_cell_guid": "a55a6e91-6cde-496a-aa61-9ed15c8203a4"
            },
            "attachments": {}
        },
        {
            "cell_type": "code",
            "source": [
                "select 'foo' || 'bar' as \"concatenation\",\n",
                "    'The ' || 'answer ' || 'is ' || 42,\n",
                "    'pi = ' || 3.14159::float8,\n",
                "    'Today is: ' || CURRENT_DATE; "
            ],
            "metadata": {
                "language": "sql",
                "azdata_cell_guid": "30b4b1a7-490f-4167-9f9a-edd908f8831b"
            },
            "outputs": [
                {
                    "output_type": "display_data",
                    "data": {
                        "text/html": "(1 row(s) affected)"
                    },
                    "metadata": {}
                },
                {
                    "output_type": "display_data",
                    "data": {
                        "text/html": "Total execution time: 00:00:00.003"
                    },
                    "metadata": {}
                },
                {
                    "output_type": "execute_result",
                    "metadata": {},
                    "execution_count": 125,
                    "data": {
                        "application/vnd.dataresource+json": {
                            "schema": {
                                "fields": [
                                    {
                                        "name": "concatenation"
                                    },
                                    {
                                        "name": "Column2"
                                    },
                                    {
                                        "name": "Column3"
                                    },
                                    {
                                        "name": "Column4"
                                    }
                                ]
                            },
                            "data": [
                                {
                                    "concatenation": "foobar",
                                    "Column2": "The answer is 42",
                                    "Column3": "pi = 3.14159",
                                    "Column4": "Today is: 2024-09-01"
                                }
                            ]
                        },
                        "text/html": [
                            "<table>",
                            "<tr><th>concatenation</th><th>Column2</th><th>Column3</th><th>Column4</th></tr>",
                            "<tr><td>foobar</td><td>The answer is 42</td><td>pi = 3.14159</td><td>Today is: 2024-09-01</td></tr>",
                            "</table>"
                        ]
                    }
                }
            ],
            "execution_count": 125
        },
        {
            "cell_type": "markdown",
            "source": [
                "### Functions\n",
                "\n",
                ""
            ],
            "metadata": {
                "language": "sql",
                "azdata_cell_guid": "5d2c2d6c-db45-4fe5-9b48-7ef6b45d6985"
            },
            "attachments": {}
        },
        {
            "cell_type": "code",
            "source": [
                "select \n",
                "    UPPER('abc') as \"Fold to uppercase\",\n",
                "    lower('ABC') as \"Fold to Lowercase\",\n",
                "    char_length('ABC') as \"Length of characters\",\n",
                "    octet_length('h') as \"Length of octets\",\n",
                "    trim('    abc    ') as \"Trim the spaces\",\n",
                "    trim(leading '-' from '---ABC---') as \"Selective trim\";\n",
                "    --Also trailing and both"
            ],
            "metadata": {
                "language": "sql",
                "azdata_cell_guid": "d39ecb44-53de-4e66-92cb-5721d66511e0"
            },
            "outputs": [
                {
                    "output_type": "display_data",
                    "data": {
                        "text/html": "(1 row(s) affected)"
                    },
                    "metadata": {}
                },
                {
                    "output_type": "display_data",
                    "data": {
                        "text/html": "Total execution time: 00:00:00.001"
                    },
                    "metadata": {}
                },
                {
                    "output_type": "execute_result",
                    "metadata": {},
                    "execution_count": 127,
                    "data": {
                        "application/vnd.dataresource+json": {
                            "schema": {
                                "fields": [
                                    {
                                        "name": "Fold to uppercase"
                                    },
                                    {
                                        "name": "Fold to Lowercase"
                                    },
                                    {
                                        "name": "Length of characters"
                                    },
                                    {
                                        "name": "Length of octets"
                                    },
                                    {
                                        "name": "Trim the spaces"
                                    },
                                    {
                                        "name": "Selective trim"
                                    }
                                ]
                            },
                            "data": [
                                {
                                    "Fold to uppercase": "ABC",
                                    "Fold to Lowercase": "abc",
                                    "Length of characters": "3",
                                    "Length of octets": "1",
                                    "Trim the spaces": "abc",
                                    "Selective trim": "ABC---"
                                }
                            ]
                        },
                        "text/html": [
                            "<table>",
                            "<tr><th>Fold to uppercase</th><th>Fold to Lowercase</th><th>Length of characters</th><th>Length of octets</th><th>Trim the spaces</th><th>Selective trim</th></tr>",
                            "<tr><td>ABC</td><td>abc</td><td>3</td><td>1</td><td>abc</td><td>ABC---</td></tr>",
                            "</table>"
                        ]
                    }
                }
            ],
            "execution_count": 127
        },
        {
            "cell_type": "code",
            "source": [
                "SELECT\n",
                "    POSITION('Trillian' in 'Trthur and Trillian') AS \"Character position\",\n",
                "    substring('Arthur and Trillian' from 12 for 4) -- \"For n' can be ommit\"\n",
                "    as \"Extracted substring\",\n",
                "    overlay('Arthur and Trillian' placing 'Zaphod' from 1 for 6)\n",
                "    as \"Replaced substring\";"
            ],
            "metadata": {
                "azdata_cell_guid": "acfda0e1-731e-4825-91a3-a28af7fb9440",
                "language": "sql",
                "tags": []
            },
            "outputs": [
                {
                    "output_type": "display_data",
                    "data": {
                        "text/html": "(1 row(s) affected)"
                    },
                    "metadata": {}
                },
                {
                    "output_type": "display_data",
                    "data": {
                        "text/html": "Total execution time: 00:00:00.001"
                    },
                    "metadata": {}
                },
                {
                    "output_type": "execute_result",
                    "metadata": {},
                    "execution_count": 133,
                    "data": {
                        "application/vnd.dataresource+json": {
                            "schema": {
                                "fields": [
                                    {
                                        "name": "Character position"
                                    },
                                    {
                                        "name": "Extracted substring"
                                    },
                                    {
                                        "name": "Replaced substring"
                                    }
                                ]
                            },
                            "data": [
                                {
                                    "Character position": "12",
                                    "Extracted substring": "Tril",
                                    "Replaced substring": "Zaphod and Trillian"
                                }
                            ]
                        },
                        "text/html": [
                            "<table>",
                            "<tr><th>Character position</th><th>Extracted substring</th><th>Replaced substring</th></tr>",
                            "<tr><td>12</td><td>Tril</td><td>Zaphod and Trillian</td></tr>",
                            "</table>"
                        ]
                    }
                }
            ],
            "execution_count": 133
        },
        {
            "cell_type": "markdown",
            "source": [
                "## PostgreSQL String Functions"
            ],
            "metadata": {
                "azdata_cell_guid": "42f38b2e-a748-431c-92fe-7b85afb1ac74"
            },
            "attachments": {}
        },
        {
            "cell_type": "code",
            "source": [
                "SELECT\n",
                "    ascii('X'),\n",
                "    chr(88),\n",
                "    length('42'),\n",
                "    initcap('Lorem IPSUM'),\n",
                "    left('The Answer', 7),\n",
                "    right('The Answer', 3),\n",
                "    ltrim('        42'),\n",
                "    RTRIM('42-----','-x'),\n",
                "    lpad('42', 5),\n",
                "    rpad('42', 5, '-x'),\n",
                "    repeat('Rr', 5);"
            ],
            "metadata": {
                "azdata_cell_guid": "84f3429a-2d18-4786-a2a6-aacd98c37880",
                "language": "sql",
                "tags": []
            },
            "outputs": [
                {
                    "output_type": "display_data",
                    "data": {
                        "text/html": "(1 row(s) affected)"
                    },
                    "metadata": {}
                },
                {
                    "output_type": "display_data",
                    "data": {
                        "text/html": "Total execution time: 00:00:00.003"
                    },
                    "metadata": {}
                },
                {
                    "output_type": "execute_result",
                    "metadata": {},
                    "execution_count": 134,
                    "data": {
                        "application/vnd.dataresource+json": {
                            "schema": {
                                "fields": [
                                    {
                                        "name": "ascii"
                                    },
                                    {
                                        "name": "chr"
                                    },
                                    {
                                        "name": "length"
                                    },
                                    {
                                        "name": "initcap"
                                    },
                                    {
                                        "name": "left"
                                    },
                                    {
                                        "name": "right"
                                    },
                                    {
                                        "name": "ltrim"
                                    },
                                    {
                                        "name": "rtrim"
                                    },
                                    {
                                        "name": "lpad"
                                    },
                                    {
                                        "name": "rpad"
                                    },
                                    {
                                        "name": "repeat"
                                    }
                                ]
                            },
                            "data": [
                                {
                                    "ascii": "88",
                                    "chr": "X",
                                    "length": "2",
                                    "initcap": "Lorem Ipsum",
                                    "left": "The Ans",
                                    "right": "wer",
                                    "ltrim": "42",
                                    "rtrim": "42",
                                    "lpad": "   42",
                                    "rpad": "42-x-",
                                    "repeat": "RrRrRrRrRr"
                                }
                            ]
                        },
                        "text/html": [
                            "<table>",
                            "<tr><th>ascii</th><th>chr</th><th>length</th><th>initcap</th><th>left</th><th>right</th><th>ltrim</th><th>rtrim</th><th>lpad</th><th>rpad</th><th>repeat</th></tr>",
                            "<tr><td>88</td><td>X</td><td>2</td><td>Lorem Ipsum</td><td>The Ans</td><td>wer</td><td>42</td><td>42</td><td>   42</td><td>42-x-</td><td>RrRrRrRrRr</td></tr>",
                            "</table>"
                        ]
                    }
                }
            ],
            "execution_count": 134
        },
        {
            "cell_type": "code",
            "source": [
                "SELECT\n",
                "    replace('Arthur and Trillian', 'Arthur', 'ford'),\n",
                "    REVERSE('S1artibartfast'),\n",
                "    split_part('/tmp/my/dir', '/', 3),\n",
                "    strpos('Arthur and Trillian', 'Trillian'),\n",
                "    substr('Lorem', 2,3),\n",
                "    TRANSLATE('Lorem Ipsum', 'm', 'x'),\n",
                "    TRANSLATE('Lorem Ipsum', 'rum', 'abc')"
            ],
            "metadata": {
                "azdata_cell_guid": "25c00c75-f975-4071-90fc-257ded7f83dd",
                "language": "sql"
            },
            "outputs": [
                {
                    "output_type": "display_data",
                    "data": {
                        "text/html": "(1 row(s) affected)"
                    },
                    "metadata": {}
                },
                {
                    "output_type": "display_data",
                    "data": {
                        "text/html": "Total execution time: 00:00:00.002"
                    },
                    "metadata": {}
                },
                {
                    "output_type": "execute_result",
                    "metadata": {},
                    "execution_count": 140,
                    "data": {
                        "application/vnd.dataresource+json": {
                            "schema": {
                                "fields": [
                                    {
                                        "name": "replace"
                                    },
                                    {
                                        "name": "reverse"
                                    },
                                    {
                                        "name": "split_part"
                                    },
                                    {
                                        "name": "strpos"
                                    },
                                    {
                                        "name": "substr"
                                    },
                                    {
                                        "name": "translate"
                                    },
                                    {
                                        "name": "translate"
                                    }
                                ]
                            },
                            "data": [
                                {
                                    "replace": "ford and Trillian",
                                    "reverse": "tsaftrabitra1S",
                                    "split_part": "my",
                                    "strpos": "12",
                                    "substr": "ore",
                                    "translate": "Loaec Ipsbc"
                                }
                            ]
                        },
                        "text/html": [
                            "<table>",
                            "<tr><th>replace</th><th>reverse</th><th>split_part</th><th>strpos</th><th>substr</th><th>translate</th><th>translate</th></tr>",
                            "<tr><td>ford and Trillian</td><td>tsaftrabitra1S</td><td>my</td><td>12</td><td>ore</td><td>Lorex Ipsux</td><td>Loaec Ipsbc</td></tr>",
                            "</table>"
                        ]
                    }
                }
            ],
            "execution_count": 140
        },
        {
            "cell_type": "markdown",
            "source": [
                "## STRING_AGG\n",
                "\n",
                "### Vertical concatenation with a separator"
            ],
            "metadata": {
                "language": "sql",
                "azdata_cell_guid": "ae75439f-21c4-4aed-8f4d-3adf81278727"
            },
            "attachments": {}
        },
        {
            "cell_type": "code",
            "source": [
                "SELECT\n",
                "    STRING_AGG(categoryname, ',') as \"Unsorted\";\n",
                "    string_arg(categoryname, ',' order by categoryname desc) as \"Sorted\";\n",
                "    string_arg(categoryname, ',') filter(where categoryname like '%s') as \"Filtered and unsorted\"\n",
                "    from categories;"
            ],
            "metadata": {
                "language": "sql",
                "azdata_cell_guid": "f5db761f-97ad-476b-b75d-225a6e18498b"
            },
            "outputs": [],
            "execution_count": null
        },
        {
            "cell_type": "code",
            "source": [
                "select string_agg(title,',') from film LIMIT 10\n",
                "select string_agg(title,',' order by title desc ) from film LIMIT 10\n",
                "select string_agg(title,',') FILTER ( WHERE title like '%s' ) from film LIMIT 10\n",
                ""
            ],
            "metadata": {
                "language": "sql",
                "azdata_cell_guid": "45b31ea9-86b6-4885-9512-a33e883fce45"
            },
            "outputs": [],
            "execution_count": null
        },
        {
            "cell_type": "code",
            "source": [
                "select 'state',\n",
                "    STRING_AGG(DISTINCT age::TEXT, ',' order by age::TEXT ASC),\n",
                "    FILTER (where MOD(age, 2) = 0 and age < 30) AS \"Evens under thirty\",\n",
                "    STRING_AGG(DISTINCT age::TEXT, ',', order by age::TEXT DESC)\n",
                "    filter (where MOD(age, 2) = 1 and age > 80) over eightly\"\n",
                "from customers\n",
                "where 'state' like '%s'\n",
                "group by 'state'\n",
                "order by 'state'\n",
                "limit 3;"
            ],
            "metadata": {
                "language": "sql",
                "azdata_cell_guid": "af4124d8-ecc5-4a75-bce0-4b824c45b1b3"
            },
            "outputs": [],
            "execution_count": null
        },
        {
            "cell_type": "markdown",
            "source": [
                "### Concat and concat_ws\n",
                "\n",
                "#### Horizontalconcatenation with an optional separator"
            ],
            "metadata": {
                "language": "sql",
                "azdata_cell_guid": "bc38cb44-009d-46ac-8376-fdc04d3c9d97"
            },
            "attachments": {}
        },
        {
            "cell_type": "code",
            "source": [
                "select concat(age, income, 'state') --works like ||\n",
                "from customers\n",
                "where customerid < 5;"
            ],
            "metadata": {
                "language": "sql",
                "azdata_cell_guid": "77ca3796-e131-4b88-9e22-5e316446fa64"
            },
            "outputs": [],
            "execution_count": null
        },
        {
            "cell_type": "code",
            "source": [
                "select concat_ws('.', age, income, 'state')\n",
                "from customers\n",
                "where customerId <= 5;"
            ],
            "metadata": {
                "language": "sql",
                "azdata_cell_guid": "77303dbb-0443-43d0-92ff-e4a6c8097def"
            },
            "outputs": [],
            "execution_count": null
        },
        {
            "cell_type": "markdown",
            "source": [
                "### STRING_AGG VS CONCAT_WS\n",
                "\n",
                "#### STRING_AGG(expression, separator) vs. CONCAT_WS(separator, expr1, expr2...)"
            ],
            "metadata": {
                "language": "sql",
                "azdata_cell_guid": "6a2d04e2-6cbf-43e8-94f6-6aa3e0d3d5f5"
            },
            "attachments": {}
        },
        {
            "cell_type": "markdown",
            "source": [
                "## Pattern Matching\n",
                "\n",
                "### LIKE\n",
                ""
            ],
            "metadata": {
                "language": "sql",
                "azdata_cell_guid": "14a572c8-9fd0-4d8e-b0eb-81bb813530eb"
            },
            "attachments": {}
        },
        {
            "cell_type": "code",
            "source": [
                "select categoryname -- Case sensitive in the db2 database\n",
                "from categories\n",
                "where categoryname like 'S%',\n",
                "or categoryname like '%s',\n",
                "or categoryname like '%s%',\n",
                "or categoryname like '_r$',\n",
                "or categoryname like 'a%';"
            ],
            "metadata": {
                "language": "sql",
                "azdata_cell_guid": "39d526f4-22e7-43a3-a4c6-60e499719f2d"
            },
            "outputs": [],
            "execution_count": null
        },
        {
            "cell_type": "code",
            "source": [
                "select title -- Case sensitive in the db2 database\n",
                "from film\n",
                "where title like 'S%'\n",
                "or title like '%s'\n",
                "or title like '%s%'\n",
                "or title like '_r$'\n",
                "or title like 'a%';\n",
                "\n",
                ""
            ],
            "metadata": {
                "language": "sql",
                "azdata_cell_guid": "74821704-1661-455f-a431-fc1ab49b5fdd"
            },
            "outputs": [
                {
                    "output_type": "error",
                    "evalue": "relation \"film\" does not exist",
                    "ename": "",
                    "traceback": []
                },
                {
                    "output_type": "display_data",
                    "data": {
                        "text/html": "Total execution time: 00:00:00"
                    },
                    "metadata": {}
                }
            ],
            "execution_count": 141
        },
        {
            "cell_type": "code",
            "source": [
                "SELECT\n",
                "    categoryname -- Case sensitive in the DB2 database\n",
                "from category\n",
                "    where categoryname ~~ 's%' --- LIKE\n",
                "    or categoryname ~~* 'a%' ---- ilike\n",
                "    or categoryname !~~ 'M%' ---- Not Like\n",
                "    or categoryname !`~~* '%z' --- not ilike\n",
                "limit 1;"
            ],
            "metadata": {
                "language": "sql",
                "azdata_cell_guid": "027ff670-4547-469e-9c66-31f87b030b37"
            },
            "outputs": [],
            "execution_count": null
        },
        {
            "cell_type": "code",
            "source": [
                "SELECT\n",
                "    title -- Case sensitive in the DB2 database\n",
                "from film\n",
                "    where title ~~ 'S%' --- LIKE\n",
                "    OR title ~~* 'a%' ---- ilike\n",
                "    OR title !~~ 'M%' ---- Not Like\n",
                "    OR title !~~* '%z' --- not ilike\n",
                "limit 5;\n",
                ""
            ],
            "metadata": {
                "language": "sql",
                "azdata_cell_guid": "995319a9-5e5e-44ec-ae9c-de14251d5373"
            },
            "outputs": [],
            "execution_count": null
        },
        {
            "cell_type": "code",
            "source": [
                "select '%_' as \"Must be escapted\"\n",
                "where '%_' like '#%#_' escape '#'\n",
                "limit 1\n",
                ""
            ],
            "metadata": {
                "language": "sql",
                "azdata_cell_guid": "4f7d52cc-f7ef-4116-95e5-857ec8aa40ca"
            },
            "outputs": [
                {
                    "output_type": "display_data",
                    "data": {
                        "text/html": "(1 row(s) affected)"
                    },
                    "metadata": {}
                },
                {
                    "output_type": "display_data",
                    "data": {
                        "text/html": "Total execution time: 00:00:00.001"
                    },
                    "metadata": {}
                },
                {
                    "output_type": "execute_result",
                    "metadata": {},
                    "execution_count": 143,
                    "data": {
                        "application/vnd.dataresource+json": {
                            "schema": {
                                "fields": [
                                    {
                                        "name": "Must be escapted"
                                    }
                                ]
                            },
                            "data": [
                                {
                                    "Must be escapted": "%_"
                                }
                            ]
                        },
                        "text/html": [
                            "<table>",
                            "<tr><th>Must be escapted</th></tr>",
                            "<tr><td>%_</td></tr>",
                            "</table>"
                        ]
                    }
                }
            ],
            "execution_count": 143
        },
        {
            "cell_type": "markdown",
            "source": [
                "### Similar to\n",
                "\n",
                "[pattern-matching metacharacters](https://www.postgresql.org/docs/current/functions-matching.html)"
            ],
            "metadata": {
                "language": "sql",
                "azdata_cell_guid": "23025b69-e7a9-443a-8525-d2529ec02cc2"
            },
            "attachments": {}
        },
        {
            "cell_type": "code",
            "source": [
                "select \n",
                "    '42' similar to '42' AS \"Exact\",\n",
                "    '42' similar to '4%' as \"Wildcard\",\n",
                "    '42' similar to '4_' as \"single character\",\n",
                "    '42' similar to '%(4|2)%' as \"Alternation\",\n",
                "    '42' similar to '[4567][012]' as \"Character class\";"
            ],
            "metadata": {
                "language": "sql",
                "azdata_cell_guid": "b541d742-f49d-4a5f-8b78-7f005c3589b1"
            },
            "outputs": [
                {
                    "output_type": "display_data",
                    "data": {
                        "text/html": "(1 row(s) affected)"
                    },
                    "metadata": {}
                },
                {
                    "output_type": "display_data",
                    "data": {
                        "text/html": "Total execution time: 00:00:00.001"
                    },
                    "metadata": {}
                },
                {
                    "output_type": "execute_result",
                    "metadata": {},
                    "execution_count": 144,
                    "data": {
                        "application/vnd.dataresource+json": {
                            "schema": {
                                "fields": [
                                    {
                                        "name": "Exact"
                                    },
                                    {
                                        "name": "Wildcard"
                                    },
                                    {
                                        "name": "single character"
                                    },
                                    {
                                        "name": "Alternation"
                                    },
                                    {
                                        "name": "Character class"
                                    }
                                ]
                            },
                            "data": [
                                {
                                    "Exact": "True",
                                    "Wildcard": "True",
                                    "single character": "True",
                                    "Alternation": "True",
                                    "Character class": "True"
                                }
                            ]
                        },
                        "text/html": [
                            "<table>",
                            "<tr><th>Exact</th><th>Wildcard</th><th>single character</th><th>Alternation</th><th>Character class</th></tr>",
                            "<tr><td>True</td><td>True</td><td>True</td><td>True</td><td>True</td></tr>",
                            "</table>"
                        ]
                    }
                }
            ],
            "execution_count": 144
        },
        {
            "cell_type": "markdown",
            "source": [
                "### Escape and NOT\n",
                ""
            ],
            "metadata": {
                "azdata_cell_guid": "722b7a57-5593-45b6-9970-e42180238e24"
            },
            "attachments": {}
        },
        {
            "cell_type": "markdown",
            "source": [
                "+ string similar to string ESCAPE escape CHARACTER\n",
                "+ string not similar to string\n",
                "+ string not similar to string ESCAPE escape CHARACTER"
            ],
            "metadata": {
                "azdata_cell_guid": "dba8ca12-2cbf-46d9-9946-37fbfd85a9aa"
            },
            "attachments": {}
        },
        {
            "cell_type": "markdown",
            "source": [
                "## Regular expressions\n",
                ""
            ],
            "metadata": {
                "azdata_cell_guid": "86561760-cb68-4f85-833c-6d1533bc978c"
            },
            "attachments": {}
        },
        {
            "cell_type": "markdown",
            "source": [
                "+ More Powerful\n",
                "+ Stephen Cole Kleene\n",
                "  + Regular languages\n",
                "\n",
                "## Different Syntaxes\n",
                "\n",
                "+ POSIX , PERL\n",
                "+ POSIX basic and extended\n",
                "+ PostgreSQL advanced\n",
                "\n",
                ""
            ],
            "metadata": {
                "azdata_cell_guid": "54ed725e-12fa-4a6c-bf0c-e72f75eb8f7f"
            },
            "attachments": {}
        },
        {
            "cell_type": "markdown",
            "source": [
                "## Operators\n",
                "| operator | Description | Example |\n",
                "| ---- | ------ |  ----- |\n",
                "~  | Matches regular expression ,case sensitive | 'Arthur' ~ '.*Arthur.*'\n",
                "~* | Matches regular expression, case insenstive | 'Arthur' ~* '.*Arthur.*'\n",
                "!~ | Does not Match regular expression, case insenstive | 'Arthur' !~* '.*Arthur.*'\n",
                "!~* | Does not Match regular expression, case insenstive | 'Arthur' !~* '.*Arthur.*'\n",
                ""
            ],
            "metadata": {
                "azdata_cell_guid": "0cf7c8d5-80fb-40af-bfda-958ee29702a5"
            },
            "attachments": {}
        },
        {
            "cell_type": "code",
            "source": [
                "select \n",
                "'Arthur' ~ '.*Arthur.*',\n",
                "'Arthur' ~* '.*Arthur.*',\n",
                "'Arthur' !~ '.*Arthur.*',\n",
                "'Arthur' !~* '.*Arthur.*';"
            ],
            "metadata": {
                "azdata_cell_guid": "8e30c66d-46ca-4618-8eaa-3a8c975d2586",
                "language": "sql"
            },
            "outputs": [
                {
                    "output_type": "display_data",
                    "data": {
                        "text/html": "(1 row(s) affected)"
                    },
                    "metadata": {}
                },
                {
                    "output_type": "display_data",
                    "data": {
                        "text/html": "Total execution time: 00:00:00.002"
                    },
                    "metadata": {}
                },
                {
                    "output_type": "execute_result",
                    "metadata": {},
                    "execution_count": 146,
                    "data": {
                        "application/vnd.dataresource+json": {
                            "schema": {
                                "fields": [
                                    {
                                        "name": "Column1"
                                    },
                                    {
                                        "name": "Column2"
                                    },
                                    {
                                        "name": "Column3"
                                    },
                                    {
                                        "name": "Column4"
                                    }
                                ]
                            },
                            "data": [
                                {
                                    "Column1": "True",
                                    "Column2": "True",
                                    "Column3": "False",
                                    "Column4": "False"
                                }
                            ]
                        },
                        "text/html": [
                            "<table>",
                            "<tr><th>Column1</th><th>Column2</th><th>Column3</th><th>Column4</th></tr>",
                            "<tr><td>True</td><td>True</td><td>False</td><td>False</td></tr>",
                            "</table>"
                        ]
                    }
                }
            ],
            "execution_count": 146
        },
        {
            "cell_type": "markdown",
            "source": [
                "### SUBSTRING\n",
                "\n",
                "> SUBSTRING(string FROM pattern)\n",
                ""
            ],
            "metadata": {
                "language": "sql",
                "azdata_cell_guid": "0da2345e-2dea-4260-bde3-58c3d1d2b290"
            },
            "attachments": {}
        },
        {
            "cell_type": "code",
            "source": [
                "SELECT\n",
                "    SUBSTRING('Arthur & Trillan' from 'r . T')"
            ],
            "metadata": {
                "language": "sql",
                "azdata_cell_guid": "33b00994-1676-4ae2-b6c7-5951d81ad922"
            },
            "outputs": [
                {
                    "output_type": "display_data",
                    "data": {
                        "text/html": "(1 row(s) affected)"
                    },
                    "metadata": {}
                },
                {
                    "output_type": "display_data",
                    "data": {
                        "text/html": "Total execution time: 00:00:00.001"
                    },
                    "metadata": {}
                },
                {
                    "output_type": "execute_result",
                    "metadata": {},
                    "execution_count": 147,
                    "data": {
                        "application/vnd.dataresource+json": {
                            "schema": {
                                "fields": [
                                    {
                                        "name": "substring"
                                    }
                                ]
                            },
                            "data": [
                                {
                                    "substring": "r & T"
                                }
                            ]
                        },
                        "text/html": [
                            "<table>",
                            "<tr><th>substring</th></tr>",
                            "<tr><td>r &amp; T</td></tr>",
                            "</table>"
                        ]
                    }
                }
            ],
            "execution_count": 147
        },
        {
            "cell_type": "markdown",
            "source": [
                "### REGEX functions"
            ],
            "metadata": {
                "language": "sql",
                "azdata_cell_guid": "e2601a47-8d83-486c-bc96-df42216516e7"
            },
            "attachments": {}
        },
        {
            "cell_type": "code",
            "source": [
                "select \n",
                "    REGEXP_MATCH('Arthur & Trillian', 'r . T'),\n",
                "    (REGEXP_MATCH('Arthur & Trillian', 'r . T'))[1],\n",
                "    REGEXP_MATCH('Arthur & Trillian', '(.*ur) & (.*an)');"
            ],
            "metadata": {
                "language": "sql",
                "azdata_cell_guid": "b7a88e52-dec5-45aa-b5d6-cc7e205a3c4e"
            },
            "outputs": [
                {
                    "output_type": "display_data",
                    "data": {
                        "text/html": "(1 row(s) affected)"
                    },
                    "metadata": {}
                },
                {
                    "output_type": "display_data",
                    "data": {
                        "text/html": "Total execution time: 00:00:00.001"
                    },
                    "metadata": {}
                },
                {
                    "output_type": "execute_result",
                    "metadata": {},
                    "execution_count": 149,
                    "data": {
                        "application/vnd.dataresource+json": {
                            "schema": {
                                "fields": [
                                    {
                                        "name": "regexp_match"
                                    },
                                    {
                                        "name": "regexp_match"
                                    },
                                    {
                                        "name": "regexp_match"
                                    }
                                ]
                            },
                            "data": [
                                {
                                    "regexp_match": "[\"Arthur\", \"Trillian\"]"
                                }
                            ]
                        },
                        "text/html": [
                            "<table>",
                            "<tr><th>regexp_match</th><th>regexp_match</th><th>regexp_match</th></tr>",
                            "<tr><td>[&quot;r &amp; T&quot;]</td><td>r &amp; T</td><td>[&quot;Arthur&quot;, &quot;Trillian&quot;]</td></tr>",
                            "</table>"
                        ]
                    }
                }
            ],
            "execution_count": 149
        },
        {
            "cell_type": "code",
            "source": [
                "SELECT\n",
                "    REGEXP_MATCHES('Ford hitchikerhopehere happy', '(h[^h]+)(h[^h]+)', 'g')"
            ],
            "metadata": {
                "language": "sql",
                "azdata_cell_guid": "3b6b703a-69be-4207-a5b7-526ecb7472aa"
            },
            "outputs": [
                {
                    "output_type": "display_data",
                    "data": {
                        "text/html": "(2 row(s) affected)"
                    },
                    "metadata": {}
                },
                {
                    "output_type": "display_data",
                    "data": {
                        "text/html": "Total execution time: 00:00:00.001"
                    },
                    "metadata": {}
                },
                {
                    "output_type": "execute_result",
                    "metadata": {},
                    "execution_count": 152,
                    "data": {
                        "application/vnd.dataresource+json": {
                            "schema": {
                                "fields": [
                                    {
                                        "name": "regexp_matches"
                                    }
                                ]
                            },
                            "data": [
                                {
                                    "regexp_matches": "[\"hitc\", \"hiker\"]"
                                },
                                {
                                    "regexp_matches": "[\"hope\", \"here \"]"
                                }
                            ]
                        },
                        "text/html": [
                            "<table>",
                            "<tr><th>regexp_matches</th></tr>",
                            "<tr><td>[&quot;hitc&quot;, &quot;hiker&quot;]</td></tr>",
                            "<tr><td>[&quot;hope&quot;, &quot;here &quot;]</td></tr>",
                            "</table>"
                        ]
                    }
                }
            ],
            "execution_count": 152
        },
        {
            "cell_type": "code",
            "source": [
                "select REGEXP_REPLACE('Heart of Darkness', 'D.*', 'Gold')"
            ],
            "metadata": {
                "language": "sql",
                "azdata_cell_guid": "275cab79-bceb-44e1-a9ec-627642c82b86"
            },
            "outputs": [
                {
                    "output_type": "display_data",
                    "data": {
                        "text/html": "(1 row(s) affected)"
                    },
                    "metadata": {}
                },
                {
                    "output_type": "display_data",
                    "data": {
                        "text/html": "Total execution time: 00:00:00.001"
                    },
                    "metadata": {}
                },
                {
                    "output_type": "execute_result",
                    "metadata": {},
                    "execution_count": 153,
                    "data": {
                        "application/vnd.dataresource+json": {
                            "schema": {
                                "fields": [
                                    {
                                        "name": "regexp_replace"
                                    }
                                ]
                            },
                            "data": [
                                {
                                    "regexp_replace": "Heart of Gold"
                                }
                            ]
                        },
                        "text/html": [
                            "<table>",
                            "<tr><th>regexp_replace</th></tr>",
                            "<tr><td>Heart of Gold</td></tr>",
                            "</table>"
                        ]
                    }
                }
            ],
            "execution_count": 153
        },
        {
            "cell_type": "code",
            "source": [
                "SELECT\n",
                "    REGEXP_SPLIT_TO_ARRAY('hitchiker towel hope guid here', '(towel|guid)')"
            ],
            "metadata": {
                "language": "sql",
                "azdata_cell_guid": "d451c11d-bc2b-4ba6-ba02-e9bbdc3f8bf5"
            },
            "outputs": [
                {
                    "output_type": "display_data",
                    "data": {
                        "text/html": "(1 row(s) affected)"
                    },
                    "metadata": {}
                },
                {
                    "output_type": "display_data",
                    "data": {
                        "text/html": "Total execution time: 00:00:00.001"
                    },
                    "metadata": {}
                },
                {
                    "output_type": "execute_result",
                    "metadata": {},
                    "execution_count": 154,
                    "data": {
                        "application/vnd.dataresource+json": {
                            "schema": {
                                "fields": [
                                    {
                                        "name": "regexp_split_to_array"
                                    }
                                ]
                            },
                            "data": [
                                {
                                    "regexp_split_to_array": "[\"hitchiker \", \" hope \", \" here\"]"
                                }
                            ]
                        },
                        "text/html": [
                            "<table>",
                            "<tr><th>regexp_split_to_array</th></tr>",
                            "<tr><td>[&quot;hitchiker &quot;, &quot; hope &quot;, &quot; here&quot;]</td></tr>",
                            "</table>"
                        ]
                    }
                }
            ],
            "execution_count": 154
        },
        {
            "cell_type": "code",
            "source": [
                "SELECT\n",
                "    REGEXP_SPLIT_TO_TABLE('hitchiker towel hope guid here', '(towel|guid)')"
            ],
            "metadata": {
                "language": "sql",
                "azdata_cell_guid": "6a01f38d-882e-4c7b-bf04-7269a7834e24",
                "tags": []
            },
            "outputs": [
                {
                    "output_type": "display_data",
                    "data": {
                        "text/html": "(3 row(s) affected)"
                    },
                    "metadata": {}
                },
                {
                    "output_type": "display_data",
                    "data": {
                        "text/html": "Total execution time: 00:00:00.001"
                    },
                    "metadata": {}
                },
                {
                    "output_type": "execute_result",
                    "metadata": {},
                    "execution_count": 155,
                    "data": {
                        "application/vnd.dataresource+json": {
                            "schema": {
                                "fields": [
                                    {
                                        "name": "regexp_split_to_table"
                                    }
                                ]
                            },
                            "data": [
                                {
                                    "regexp_split_to_table": "hitchiker "
                                },
                                {
                                    "regexp_split_to_table": " hope "
                                },
                                {
                                    "regexp_split_to_table": " here"
                                }
                            ]
                        },
                        "text/html": [
                            "<table>",
                            "<tr><th>regexp_split_to_table</th></tr>",
                            "<tr><td>hitchiker </td></tr>",
                            "<tr><td> hope </td></tr>",
                            "<tr><td> here</td></tr>",
                            "</table>"
                        ]
                    }
                }
            ],
            "execution_count": 155
        },
        {
            "cell_type": "markdown",
            "source": [
                "## Text Search\n",
                "\n",
                "+ Natural-language documents\n",
                "+ Queries and similarities\n",
                "+ Like and similar to?\n",
                "  + No natural language support\n",
                "  + No ordering or ranking of results\n",
                "  + Slow without indexing\n",
                "+ Regular expression?\n",
                ""
            ],
            "metadata": {
                "language": "sql",
                "azdata_cell_guid": "9b858175-8a85-45b4-8f00-9a30e9e297b7"
            },
            "attachments": {}
        },
        {
            "cell_type": "markdown",
            "source": [
                "### Text search types\n",
                "\n",
                "TSVECTOR    : A normalized (into lexemes) document string\n",
                "\n",
                "TSQUERY       : Search terms, using normallized lexemes and AND, OR, NOT and FOLLOWED BY operators"
            ],
            "metadata": {
                "language": "sql",
                "azdata_cell_guid": "788d3bac-6a3e-4d7e-89e1-e40735a2728c"
            },
            "attachments": {}
        },
        {
            "cell_type": "code",
            "source": [
                "select 'Arthur and Trillian travelled with Ford and Zaphod'::TSVECTOR @@ 'Arthur & Ford'::TSQUERY;"
            ],
            "metadata": {
                "language": "sql",
                "azdata_cell_guid": "5256716b-6939-436f-99aa-6762bf846f14"
            },
            "outputs": [
                {
                    "output_type": "display_data",
                    "data": {
                        "text/html": "(1 row(s) affected)"
                    },
                    "metadata": {}
                },
                {
                    "output_type": "display_data",
                    "data": {
                        "text/html": "Total execution time: 00:00:00.001"
                    },
                    "metadata": {}
                },
                {
                    "output_type": "execute_result",
                    "metadata": {},
                    "execution_count": 157,
                    "data": {
                        "application/vnd.dataresource+json": {
                            "schema": {
                                "fields": [
                                    {
                                        "name": "Column1"
                                    }
                                ]
                            },
                            "data": [
                                {
                                    "Column1": "True"
                                }
                            ]
                        },
                        "text/html": [
                            "<table>",
                            "<tr><th>Column1</th></tr>",
                            "<tr><td>True</td></tr>",
                            "</table>"
                        ]
                    }
                }
            ],
            "execution_count": 157
        },
        {
            "cell_type": "markdown",
            "source": [
                "### Using TO_TSVECTOR and TO_TSQUERY to normallized strings into lexemes"
            ],
            "metadata": {
                "language": "sql",
                "azdata_cell_guid": "a3fb3a03-575b-45e6-9d77-1db773ab5aec"
            },
            "attachments": {}
        },
        {
            "cell_type": "code",
            "source": [
                "select to_tsvector('Arthurs and Trillians travelled with Fords and Zaphods') @@ to_tsquery('Arthur & Ford')"
            ],
            "metadata": {
                "language": "sql",
                "azdata_cell_guid": "9b3b3caa-20ea-4589-9a74-572c27aa222a"
            },
            "outputs": [
                {
                    "output_type": "display_data",
                    "data": {
                        "text/html": "(1 row(s) affected)"
                    },
                    "metadata": {}
                },
                {
                    "output_type": "display_data",
                    "data": {
                        "text/html": "Total execution time: 00:00:00.054"
                    },
                    "metadata": {}
                },
                {
                    "output_type": "execute_result",
                    "metadata": {},
                    "execution_count": 159,
                    "data": {
                        "application/vnd.dataresource+json": {
                            "schema": {
                                "fields": [
                                    {
                                        "name": "Column1"
                                    }
                                ]
                            },
                            "data": [
                                {
                                    "Column1": "True"
                                }
                            ]
                        },
                        "text/html": [
                            "<table>",
                            "<tr><th>Column1</th></tr>",
                            "<tr><td>True</td></tr>",
                            "</table>"
                        ]
                    }
                }
            ],
            "execution_count": 159
        },
        {
            "cell_type": "markdown",
            "source": [
                "### @@ with textual input\n",
                "\n",
                "\n",
                "+ TSVECTOR @@ TSQUERY\n",
                "+ TSQUERY @@ TSVECTOR\n",
                "+ TEXT @@ TSQUERY\n",
                "+ TEXT @@ TEXT"
            ],
            "metadata": {
                "language": "sql",
                "azdata_cell_guid": "efb46894-7688-4ac4-9c35-4c24b61c7b97"
            },
            "attachments": {}
        },
        {
            "cell_type": "code",
            "source": [
                "SELECT 'Arthurs and Trillian travelled with fords and Zaphods' @@ 'Arthur & Ford';"
            ],
            "metadata": {
                "language": "sql",
                "azdata_cell_guid": "0bff566e-f951-4587-971a-29b1e5f4a390"
            },
            "outputs": [
                {
                    "output_type": "display_data",
                    "data": {
                        "text/html": "(1 row(s) affected)"
                    },
                    "metadata": {}
                },
                {
                    "output_type": "display_data",
                    "data": {
                        "text/html": "Total execution time: 00:00:00.002"
                    },
                    "metadata": {}
                },
                {
                    "output_type": "execute_result",
                    "metadata": {},
                    "execution_count": 160,
                    "data": {
                        "application/vnd.dataresource+json": {
                            "schema": {
                                "fields": [
                                    {
                                        "name": "Column1"
                                    }
                                ]
                            },
                            "data": [
                                {
                                    "Column1": "True"
                                }
                            ]
                        },
                        "text/html": [
                            "<table>",
                            "<tr><th>Column1</th></tr>",
                            "<tr><td>True</td></tr>",
                            "</table>"
                        ]
                    }
                }
            ],
            "execution_count": 160
        },
        {
            "cell_type": "markdown",
            "source": [
                "### Text search operators\n",
                "\n",
                "\n",
                "[Text Search Functions and Operators](https://www.postgresql.org/docs/current/functions-textsearch.html)"
            ],
            "metadata": {
                "language": "sql",
                "azdata_cell_guid": "c7bf0b6e-fa21-4ea7-a437-fadd3133104f"
            },
            "attachments": {}
        },
        {
            "cell_type": "markdown",
            "source": [
                "## Converting and Formatting Functions\n",
                "\n",
                "### Converting between encodings"
            ],
            "metadata": {
                "language": "sql",
                "azdata_cell_guid": "3903995b-1d74-49de-a44b-bf6c62c2427c"
            },
            "attachments": {}
        },
        {
            "cell_type": "code",
            "source": [
                "select convert('lorem ipsum dolor', 'utf8', 'win1252'),\n",
                "convert_from('I am already in utf8', 'utf8'),\n",
                "convert_to('n', 'win1252');"
            ],
            "metadata": {
                "language": "sql",
                "azdata_cell_guid": "63bded9d-92a3-4a52-954a-c464f2696c9d"
            },
            "outputs": [
                {
                    "output_type": "display_data",
                    "data": {
                        "text/html": "(1 row(s) affected)"
                    },
                    "metadata": {}
                },
                {
                    "output_type": "display_data",
                    "data": {
                        "text/html": "Total execution time: 00:00:01.166"
                    },
                    "metadata": {}
                },
                {
                    "output_type": "execute_result",
                    "metadata": {},
                    "execution_count": 162,
                    "data": {
                        "application/vnd.dataresource+json": {
                            "schema": {
                                "fields": [
                                    {
                                        "name": "convert"
                                    },
                                    {
                                        "name": "convert_from"
                                    },
                                    {
                                        "name": "convert_to"
                                    }
                                ]
                            },
                            "data": [
                                {
                                    "convert": "\\x6c6f72656d20697073756d20646f6c6f72",
                                    "convert_from": "I am already in utf8",
                                    "convert_to": "\\x6e"
                                }
                            ]
                        },
                        "text/html": [
                            "<table>",
                            "<tr><th>convert</th><th>convert_from</th><th>convert_to</th></tr>",
                            "<tr><td>\\x6c6f72656d20697073756d20646f6c6f72</td><td>I am already in utf8</td><td>\\x6e</td></tr>",
                            "</table>"
                        ]
                    }
                }
            ],
            "execution_count": 162
        },
        {
            "cell_type": "markdown",
            "source": [
                "### Encoding and Decoding\n",
                "\n",
                "supported types: base64, hex, escape"
            ],
            "metadata": {
                "language": "sql",
                "azdata_cell_guid": "47193695-5840-46fd-b55d-4212dfdfc7ab"
            },
            "attachments": {}
        },
        {
            "cell_type": "code",
            "source": [
                "select \n",
                "    encode('Lorem ipsum'::bytea, 'base64'),\n",
                "    decode('01000010', 'hex');"
            ],
            "metadata": {
                "language": "sql",
                "azdata_cell_guid": "115076a9-c7f2-44e0-a9f6-2bee0f3730e5"
            },
            "outputs": [
                {
                    "output_type": "display_data",
                    "data": {
                        "text/html": "(1 row(s) affected)"
                    },
                    "metadata": {}
                },
                {
                    "output_type": "display_data",
                    "data": {
                        "text/html": "Total execution time: 00:00:00.001"
                    },
                    "metadata": {}
                },
                {
                    "output_type": "execute_result",
                    "metadata": {},
                    "execution_count": 164,
                    "data": {
                        "application/vnd.dataresource+json": {
                            "schema": {
                                "fields": [
                                    {
                                        "name": "encode"
                                    },
                                    {
                                        "name": "decode"
                                    }
                                ]
                            },
                            "data": [
                                {
                                    "encode": "TG9yZW0gaXBzdW0=",
                                    "decode": "\\x01000010"
                                }
                            ]
                        },
                        "text/html": [
                            "<table>",
                            "<tr><th>encode</th><th>decode</th></tr>",
                            "<tr><td>TG9yZW0gaXBzdW0=</td><td>\\x01000010</td></tr>",
                            "</table>"
                        ]
                    }
                }
            ],
            "execution_count": 164
        },
        {
            "cell_type": "markdown",
            "source": [
                "### Formatting\n",
                ""
            ],
            "metadata": {
                "language": "sql",
                "azdata_cell_guid": "f3b80daa-b913-43ae-8381-6d999709dee9"
            },
            "attachments": {}
        },
        {
            "cell_type": "code",
            "source": [
                "SELECT\n",
                "    format('Hello %s', 'World') as \"Hello World\",\n",
                "    format('The answer is %s', 6*7) as \"The answer\";"
            ],
            "metadata": {
                "language": "sql",
                "azdata_cell_guid": "6976ce01-ae13-4c81-842a-87edd0642df6"
            },
            "outputs": [
                {
                    "output_type": "display_data",
                    "data": {
                        "text/html": "(1 row(s) affected)"
                    },
                    "metadata": {}
                },
                {
                    "output_type": "display_data",
                    "data": {
                        "text/html": "Total execution time: 00:00:00.001"
                    },
                    "metadata": {}
                },
                {
                    "output_type": "execute_result",
                    "metadata": {},
                    "execution_count": 165,
                    "data": {
                        "application/vnd.dataresource+json": {
                            "schema": {
                                "fields": [
                                    {
                                        "name": "Hello World"
                                    },
                                    {
                                        "name": "The answer"
                                    }
                                ]
                            },
                            "data": [
                                {
                                    "Hello World": "Hello World",
                                    "The answer": "The answer is 42"
                                }
                            ]
                        },
                        "text/html": [
                            "<table>",
                            "<tr><th>Hello World</th><th>The answer</th></tr>",
                            "<tr><td>Hello World</td><td>The answer is 42</td></tr>",
                            "</table>"
                        ]
                    }
                }
            ],
            "execution_count": 165
        },
        {
            "cell_type": "markdown",
            "source": [
                "### Format Specifiers\n",
                "\n",
                "> %[position][flags][width]type\n",
                "\n",
                "e.g, %12$-10s\n",
                "\n",
                "\n",
                "[String Functions and Operators](https://www.postgresql.org/docs/current/functions-string.html#FUNCTIONS-STRING-FORMAT)"
            ],
            "metadata": {
                "language": "sql",
                "azdata_cell_guid": "b1dab7d2-bd94-473a-8c1a-4f398c421d1c"
            },
            "attachments": {}
        },
        {
            "cell_type": "markdown",
            "source": [
                "### Special SQL identifiers\n",
                "\n",
                "\n",
                "+ I:  treat the format argument as an SQL identifier, Quote if necessary\n",
                "+ L:  quotes the argument value as an SQL literal"
            ],
            "metadata": {
                "azdata_cell_guid": "61022fc3-da01-405f-8561-bd39da63421e"
            },
            "attachments": {}
        },
        {
            "cell_type": "code",
            "source": [
                "SELECT\n",
                "    format('%2$-4s is 2nd, %1$s is 1st', -1, 42),\n",
                "    format('%s again %1$s', 42);"
            ],
            "metadata": {
                "language": "sql",
                "azdata_cell_guid": "77eb242a-7267-4222-a73a-adb9524559e3"
            },
            "outputs": [
                {
                    "output_type": "display_data",
                    "data": {
                        "text/html": "(1 row(s) affected)"
                    },
                    "metadata": {}
                },
                {
                    "output_type": "display_data",
                    "data": {
                        "text/html": "Total execution time: 00:00:00.001"
                    },
                    "metadata": {}
                },
                {
                    "output_type": "execute_result",
                    "metadata": {},
                    "execution_count": 166,
                    "data": {
                        "application/vnd.dataresource+json": {
                            "schema": {
                                "fields": [
                                    {
                                        "name": "format"
                                    },
                                    {
                                        "name": "format"
                                    }
                                ]
                            },
                            "data": [
                                {
                                    "format": "42 again 42"
                                }
                            ]
                        },
                        "text/html": [
                            "<table>",
                            "<tr><th>format</th><th>format</th></tr>",
                            "<tr><td>42   is 2nd, -1 is 1st</td><td>42 again 42</td></tr>",
                            "</table>"
                        ]
                    }
                }
            ],
            "execution_count": 166
        },
        {
            "cell_type": "code",
            "source": [
                "SELECT FORMAT('insert into %I values(%L, %L ,%L)', 'Value Table', 1,2,3);"
            ],
            "metadata": {
                "language": "sql",
                "azdata_cell_guid": "19bcec7b-3c35-40d9-a2e5-42a9263fe0c2"
            },
            "outputs": [
                {
                    "output_type": "display_data",
                    "data": {
                        "text/html": "(1 row(s) affected)"
                    },
                    "metadata": {}
                },
                {
                    "output_type": "display_data",
                    "data": {
                        "text/html": "Total execution time: 00:00:00.001"
                    },
                    "metadata": {}
                },
                {
                    "output_type": "execute_result",
                    "metadata": {},
                    "execution_count": 167,
                    "data": {
                        "application/vnd.dataresource+json": {
                            "schema": {
                                "fields": [
                                    {
                                        "name": "format"
                                    }
                                ]
                            },
                            "data": [
                                {
                                    "format": "insert into \"Value Table\" values('1', '2' ,'3')"
                                }
                            ]
                        },
                        "text/html": [
                            "<table>",
                            "<tr><th>format</th></tr>",
                            "<tr><td>insert into &quot;Value Table&quot; values(&#39;1&#39;, &#39;2&#39; ,&#39;3&#39;)</td></tr>",
                            "</table>"
                        ]
                    }
                }
            ],
            "execution_count": 167
        },
        {
            "cell_type": "markdown",
            "source": [
                "# Date and Time Functions\n",
                "\n",
                "+ Building and parsing dates and times\n",
                "+ Date，time, and interval operators\n",
                "+ ANSI and PostgreSQL functions\n",
                "+ Using EPOCs\n",
                "+ Converting and formatting"
            ],
            "metadata": {
                "language": "sql",
                "azdata_cell_guid": "1517472e-aff1-4821-bc6b-a3a14a7c4adc"
            },
            "attachments": {}
        },
        {
            "cell_type": "markdown",
            "source": [
                "## Constructions\n",
                "\n",
                ""
            ],
            "metadata": {
                "language": "sql",
                "azdata_cell_guid": "3313064e-587b-4d99-8f16-befb77023e35"
            },
            "attachments": {}
        },
        {
            "cell_type": "code",
            "source": [
                "select make_date(2020, 10, 11),\n",
                "make_time(1,2,3.45),\n",
                "make_timestamp(2020,10,11,1,2,3.45), -- year, month, day, hour, minute, second\n",
                "make_interval(42, 10, 11, 12, 1,2,3.42), -- Years, months, *weeks*, days, ...\n",
                "make_timestamptz(2020,10,11,1,2,3.45),\n",
                "make_timestamptz(2020,10,11,1,2,3.45, 'CET')\n",
                ""
            ],
            "metadata": {
                "language": "sql",
                "azdata_cell_guid": "450ce9a1-4de4-4eb0-b499-f020e687dae1"
            },
            "outputs": [
                {
                    "output_type": "display_data",
                    "data": {
                        "text/html": "(1 row(s) affected)"
                    },
                    "metadata": {}
                },
                {
                    "output_type": "display_data",
                    "data": {
                        "text/html": "Total execution time: 00:00:00.002"
                    },
                    "metadata": {}
                },
                {
                    "output_type": "execute_result",
                    "metadata": {},
                    "execution_count": 168,
                    "data": {
                        "application/vnd.dataresource+json": {
                            "schema": {
                                "fields": [
                                    {
                                        "name": "make_date"
                                    },
                                    {
                                        "name": "make_time"
                                    },
                                    {
                                        "name": "make_timestamp"
                                    },
                                    {
                                        "name": "make_interval"
                                    },
                                    {
                                        "name": "make_timestamptz"
                                    },
                                    {
                                        "name": "make_timestamptz"
                                    }
                                ]
                            },
                            "data": [
                                {
                                    "make_date": "2020-10-11",
                                    "make_time": "01:02:03.45",
                                    "make_timestamp": "2020-10-11 01:02:03.45",
                                    "make_interval": "42 years 10 mons 89 days 01:02:03.42",
                                    "make_timestamptz": "2020-10-11 08:02:03.45+08"
                                }
                            ]
                        },
                        "text/html": [
                            "<table>",
                            "<tr><th>make_date</th><th>make_time</th><th>make_timestamp</th><th>make_interval</th><th>make_timestamptz</th><th>make_timestamptz</th></tr>",
                            "<tr><td>2020-10-11</td><td>01:02:03.45</td><td>2020-10-11 01:02:03.45</td><td>42 years 10 mons 89 days 01:02:03.42</td><td>2020-10-11 01:02:03.45+08</td><td>2020-10-11 08:02:03.45+08</td></tr>",
                            "</table>"
                        ]
                    }
                }
            ],
            "execution_count": 168
        },
        {
            "cell_type": "markdown",
            "source": [
                "## Extractors\n",
                "\n",
                "extract(field from source)\n",
                "\n",
                "date_part('field', source)"
            ],
            "metadata": {
                "azdata_cell_guid": "3c3c94d4-55ef-49bb-ac3e-e4eec6e200aa"
            },
            "attachments": {}
        },
        {
            "cell_type": "code",
            "source": [
                "SELECT \n",
                "    extract(day from CURRENT_TIMESTAMP) AS \"ANSI EXTRACT function\",\n",
                "    date_part('DAY', CURRENT_TIMESTAMP) AS \"PostgreSQL date_part function\",\n",
                "    date_part('year', current_date) as \"Just the year, please\",\n",
                "    extract(century from interval '200 years, 10 months, 11 days') AS \"Extract from an INTERVAL\";\n",
                ""
            ],
            "metadata": {
                "azdata_cell_guid": "7a725dea-a8f5-49de-81d8-607d325aeabd",
                "language": "sql"
            },
            "outputs": [
                {
                    "output_type": "display_data",
                    "data": {
                        "text/html": "(1 row(s) affected)"
                    },
                    "metadata": {}
                },
                {
                    "output_type": "display_data",
                    "data": {
                        "text/html": "Total execution time: 00:00:00.001"
                    },
                    "metadata": {}
                },
                {
                    "output_type": "execute_result",
                    "metadata": {},
                    "execution_count": 172,
                    "data": {
                        "application/vnd.dataresource+json": {
                            "schema": {
                                "fields": [
                                    {
                                        "name": "ANSI EXTRACT function"
                                    },
                                    {
                                        "name": "PostgreSQL date_part function"
                                    },
                                    {
                                        "name": "Just the year, please"
                                    },
                                    {
                                        "name": "Extract from an INTERVAL"
                                    }
                                ]
                            },
                            "data": [
                                {
                                    "ANSI EXTRACT function": "1",
                                    "PostgreSQL date_part function": "1",
                                    "Just the year, please": "2024",
                                    "Extract from an INTERVAL": "2"
                                }
                            ]
                        },
                        "text/html": [
                            "<table>",
                            "<tr><th>ANSI EXTRACT function</th><th>PostgreSQL date_part function</th><th>Just the year, please</th><th>Extract from an INTERVAL</th></tr>",
                            "<tr><td>1</td><td>1</td><td>2024</td><td>2</td></tr>",
                            "</table>"
                        ]
                    }
                }
            ],
            "execution_count": 172
        },
        {
            "cell_type": "markdown",
            "source": [
                "## Fields to extract\n",
                "\n",
                "+ MILLENUM, CENTURY, DECADE, YEAR, QUARTER, MONTH, WEEK, DAY, HOUR, MINUTE, SECOND, MILLISECONDS\n",
                "+ DOW(0=Sunday to 6=Saturday), DOY, ISODOW(1=Monday to 7 = Sunday), ISOYEAR(begins Monday of week containing January 4)\n",
                "+ TIMEZONE, TIMEZONE_HOUR, TIMEZONE_MINUTE\n",
                "+ EPOCH"
            ],
            "metadata": {
                "azdata_cell_guid": "f5743e1e-e5b2-402e-888b-eab3afcacb53"
            },
            "attachments": {}
        },
        {
            "cell_type": "markdown",
            "source": [
                "## Sources\n",
                "\n",
                "+ TIMESTAMP, INTERVAL, DATE, TIME"
            ],
            "metadata": {
                "azdata_cell_guid": "b99a557c-6757-493b-a6b1-6427e4874d49"
            },
            "attachments": {}
        },
        {
            "cell_type": "markdown",
            "source": [
                "## Date/Time Operators\n",
                "\n",
                "Addition and subtraction with dates and times"
            ],
            "metadata": {
                "azdata_cell_guid": "8d8ee88b-2d65-4270-9553-34d324049c2d"
            },
            "attachments": {}
        },
        {
            "cell_type": "code",
            "source": [
                "select \n",
                "date '20190301' + 13 AS \"pi day 2019\",\n",
                "'20190328'::DATE + 13 AS \"Beware the Ides of March!\",\n",
                "time '23:59:59' + interval '1 second' AS \"The Midnight Hour\";"
            ],
            "metadata": {
                "azdata_cell_guid": "dbd06636-d0af-4146-8f1d-07de7d308a44",
                "language": "sql"
            },
            "outputs": [
                {
                    "output_type": "display_data",
                    "data": {
                        "text/html": "(1 row(s) affected)"
                    },
                    "metadata": {}
                },
                {
                    "output_type": "display_data",
                    "data": {
                        "text/html": "Total execution time: 00:00:00.001"
                    },
                    "metadata": {}
                },
                {
                    "output_type": "execute_result",
                    "metadata": {},
                    "execution_count": 174,
                    "data": {
                        "application/vnd.dataresource+json": {
                            "schema": {
                                "fields": [
                                    {
                                        "name": "pi day 2019"
                                    },
                                    {
                                        "name": "Beware the Ides of March!"
                                    },
                                    {
                                        "name": "The Midnight Hour"
                                    }
                                ]
                            },
                            "data": [
                                {
                                    "pi day 2019": "2019-03-14",
                                    "Beware the Ides of March!": "2019-04-10",
                                    "The Midnight Hour": "00:00:00"
                                }
                            ]
                        },
                        "text/html": [
                            "<table>",
                            "<tr><th>pi day 2019</th><th>Beware the Ides of March!</th><th>The Midnight Hour</th></tr>",
                            "<tr><td>2019-03-14</td><td>2019-04-10</td><td>00:00:00</td></tr>",
                            "</table>"
                        ]
                    }
                }
            ],
            "execution_count": 174
        },
        {
            "cell_type": "code",
            "source": [
                "select DATE '20190314' + time '1:59:26.53589793238462643383279502884197169399375510' AS \"pi time\",\n",
                "pg_typeof(DATE '20190314' + time '1:59:26.53589793238462643383279502884197169399375510'),\n",
                "DATE '20191224' + interval '1 day' as \"Christmas Day 2019\",\n",
                "- INTERVAl '1 HOUR' = INTERVAL '1 HOUR AGO' as \"An hour ago\";"
            ],
            "metadata": {
                "language": "sql",
                "azdata_cell_guid": "6cd9b283-bfbe-4e1d-8d52-3f4419533bf1"
            },
            "outputs": [
                {
                    "output_type": "display_data",
                    "data": {
                        "text/html": "(1 row(s) affected)"
                    },
                    "metadata": {}
                },
                {
                    "output_type": "display_data",
                    "data": {
                        "text/html": "Total execution time: 00:00:00.001"
                    },
                    "metadata": {}
                },
                {
                    "output_type": "execute_result",
                    "metadata": {},
                    "execution_count": 179,
                    "data": {
                        "application/vnd.dataresource+json": {
                            "schema": {
                                "fields": [
                                    {
                                        "name": "pi time"
                                    },
                                    {
                                        "name": "pg_typeof"
                                    },
                                    {
                                        "name": "Christmas Day 2019"
                                    },
                                    {
                                        "name": "An hour ago"
                                    }
                                ]
                            },
                            "data": [
                                {
                                    "pi time": "2019-03-14 01:59:26.535898",
                                    "pg_typeof": "timestamp without time zone",
                                    "Christmas Day 2019": "2019-12-25 00:00:00",
                                    "An hour ago": "True"
                                }
                            ]
                        },
                        "text/html": [
                            "<table>",
                            "<tr><th>pi time</th><th>pg_typeof</th><th>Christmas Day 2019</th><th>An hour ago</th></tr>",
                            "<tr><td>2019-03-14 01:59:26.535898</td><td>timestamp without time zone</td><td>2019-12-25 00:00:00</td><td>True</td></tr>",
                            "</table>"
                        ]
                    }
                }
            ],
            "execution_count": 179
        },
        {
            "cell_type": "code",
            "source": [
                "SELECT\n",
                "    INTERVAL '30 minutes' - INTERVAL '15 minutes' as \"A quarter hour\",\n",
                "    INTERVAL '30 minutes' + INTERVAL '1 day' - INTERVAL '1800 seconds' as \"One day\",\n",
                "    INTERVAL '1:00' * 2 as \"two hours\",\n",
                "    INTERVAL '2:00' / 2 as \"one hour\";\n",
                "    "
            ],
            "metadata": {
                "azdata_cell_guid": "49cb046d-fde9-49f1-ac38-1a38d61fe840",
                "language": "sql"
            },
            "outputs": [
                {
                    "output_type": "display_data",
                    "data": {
                        "text/html": "(1 row(s) affected)"
                    },
                    "metadata": {}
                },
                {
                    "output_type": "display_data",
                    "data": {
                        "text/html": "Total execution time: 00:00:00.001"
                    },
                    "metadata": {}
                },
                {
                    "output_type": "execute_result",
                    "metadata": {},
                    "execution_count": 180,
                    "data": {
                        "application/vnd.dataresource+json": {
                            "schema": {
                                "fields": [
                                    {
                                        "name": "A quarter hour"
                                    },
                                    {
                                        "name": "One day"
                                    },
                                    {
                                        "name": "two hours"
                                    },
                                    {
                                        "name": "one hour"
                                    }
                                ]
                            },
                            "data": [
                                {
                                    "A quarter hour": "00:15:00",
                                    "One day": "1 day",
                                    "two hours": "02:00:00",
                                    "one hour": "01:00:00"
                                }
                            ]
                        },
                        "text/html": [
                            "<table>",
                            "<tr><th>A quarter hour</th><th>One day</th><th>two hours</th><th>one hour</th></tr>",
                            "<tr><td>00:15:00</td><td>1 day</td><td>02:00:00</td><td>01:00:00</td></tr>",
                            "</table>"
                        ]
                    }
                }
            ],
            "execution_count": 180
        },
        {
            "cell_type": "markdown",
            "source": [
                "## Combine dates, times and interval\n",
                "\n",
                "\n",
                "| Type 1 | Operation | Type 2 | Result |\n",
                "| ------- | --------- | ------ | ------- |\n",
                "DATE | +, - | INTEGER | DATE (days)\n",
                "DATE | +, - | INTERVAL | TIMESTAMP\n",
                "DATE | +/ | TIME | TIMESTAMP\n",
                "DATE | - | DATE | INTEGER (DAYS)\n",
                "TIME | - | TIME |INTERVAL\n",
                "time | +/- | INTERVAL | TIME\n",
                "TIMESTAMP | - | TIMESTAMP | INTERVAL\n",
                "INTERVAL | *,/ | INTEGER | INTERVAL\n",
                "INTERVAL | +, - | DOUBLE PRECISION | INTERVAL"
            ],
            "metadata": {
                "azdata_cell_guid": "1f246213-fd7d-42b1-a1f9-6ead7a6cbddc"
            },
            "attachments": {}
        },
        {
            "cell_type": "code",
            "source": [
                "select DATE '20220101' * 2"
            ],
            "metadata": {
                "azdata_cell_guid": "8a6c9cc5-882f-4a90-9106-4ccc4e30a97c",
                "language": "sql"
            },
            "outputs": [
                {
                    "output_type": "error",
                    "evalue": "operator does not exist: date * integer",
                    "ename": "",
                    "traceback": []
                },
                {
                    "output_type": "display_data",
                    "data": {
                        "text/html": "Total execution time: 00:00:00"
                    },
                    "metadata": {}
                }
            ],
            "execution_count": 182
        },
        {
            "cell_type": "markdown",
            "source": [
                "## ANSI OVERLAPS operator"
            ],
            "metadata": {
                "language": "sql",
                "azdata_cell_guid": "0396e429-9131-4b2f-8d77-a34635541585"
            },
            "attachments": {}
        },
        {
            "cell_type": "code",
            "source": [
                "select (date '2001-02-16', date '2001-12-21') overlaps (date '2001-10-30' , date '2002-10-30'),\n",
                "(date '2001-02-16', interval '100 days') overlaps (date '2001-10-30' , date '2002-10-30');"
            ],
            "metadata": {
                "language": "sql",
                "azdata_cell_guid": "a455fee6-9adc-4475-b5dd-6b93c2259529"
            },
            "outputs": [
                {
                    "output_type": "display_data",
                    "data": {
                        "text/html": "(1 row(s) affected)"
                    },
                    "metadata": {}
                },
                {
                    "output_type": "display_data",
                    "data": {
                        "text/html": "Total execution time: 00:00:00.001"
                    },
                    "metadata": {}
                },
                {
                    "output_type": "execute_result",
                    "metadata": {},
                    "execution_count": 185,
                    "data": {
                        "application/vnd.dataresource+json": {
                            "schema": {
                                "fields": [
                                    {
                                        "name": "overlaps"
                                    },
                                    {
                                        "name": "overlaps"
                                    }
                                ]
                            },
                            "data": [
                                {
                                    "overlaps": "False"
                                }
                            ]
                        },
                        "text/html": [
                            "<table>",
                            "<tr><th>overlaps</th><th>overlaps</th></tr>",
                            "<tr><td>True</td><td>False</td></tr>",
                            "</table>"
                        ]
                    }
                }
            ],
            "execution_count": 185
        },
        {
            "cell_type": "code",
            "source": [
                "select * from orders\n",
                "where \n",
                "(orderdate, interval '0 days') overlaps (date '2009-12-01', date '2001-12-31')\n",
                "--orderdate between date '2009-12-01' and date '2009-12-31'\n",
                "limit 3;"
            ],
            "metadata": {
                "language": "sql",
                "azdata_cell_guid": "01f2a65d-63ab-436d-8d9d-6d8554d6ff25"
            },
            "outputs": [],
            "execution_count": null
        },
        {
            "cell_type": "markdown",
            "source": [
                "## Date/Time Functions\n",
                "\n",
                "### ANSI Date/Time informational Functions"
            ],
            "metadata": {
                "azdata_cell_guid": "1763693a-37bb-4c49-a5ef-b16939d643e1"
            },
            "attachments": {}
        },
        {
            "cell_type": "code",
            "source": [
                "select CURRENT_DATE,\n",
                "current_time,\n",
                "CURRENT_TIMESTAMP,\n",
                "localtime,\n",
                "localtimestamp;"
            ],
            "metadata": {
                "azdata_cell_guid": "5935bc6c-3a6e-4279-a309-e618a58c2fe3",
                "language": "sql"
            },
            "outputs": [
                {
                    "output_type": "display_data",
                    "data": {
                        "text/html": "(1 row(s) affected)"
                    },
                    "metadata": {}
                },
                {
                    "output_type": "display_data",
                    "data": {
                        "text/html": "Total execution time: 00:00:00.001"
                    },
                    "metadata": {}
                },
                {
                    "output_type": "execute_result",
                    "metadata": {},
                    "execution_count": 186,
                    "data": {
                        "application/vnd.dataresource+json": {
                            "schema": {
                                "fields": [
                                    {
                                        "name": "current_date"
                                    },
                                    {
                                        "name": "current_time"
                                    },
                                    {
                                        "name": "current_timestamp"
                                    },
                                    {
                                        "name": "localtime"
                                    },
                                    {
                                        "name": "localtimestamp"
                                    }
                                ]
                            },
                            "data": [
                                {
                                    "current_date": "2024-09-01",
                                    "current_time": "20:05:37.435887+08",
                                    "current_timestamp": "2024-09-01 20:05:37.435887+08",
                                    "localtime": "20:05:37.435887",
                                    "localtimestamp": "2024-09-01 20:05:37.435887"
                                }
                            ]
                        },
                        "text/html": [
                            "<table>",
                            "<tr><th>current_date</th><th>current_time</th><th>current_timestamp</th><th>localtime</th><th>localtimestamp</th></tr>",
                            "<tr><td>2024-09-01</td><td>20:05:37.435887+08</td><td>2024-09-01 20:05:37.435887+08</td><td>20:05:37.435887</td><td>2024-09-01 20:05:37.435887</td></tr>",
                            "</table>"
                        ]
                    }
                }
            ],
            "execution_count": 186
        },
        {
            "cell_type": "markdown",
            "source": [
                "### Using Precision"
            ],
            "metadata": {
                "language": "sql",
                "azdata_cell_guid": "fb13cfc2-c007-49ed-9d40-6bb3db6e2df6"
            },
            "attachments": {}
        },
        {
            "cell_type": "code",
            "source": [
                "SELECT\n",
                "current_time(0),\n",
                "CURRENT_TIMESTAMP(2),\n",
                "localtime(4),\n",
                "localtimestamp(6)"
            ],
            "metadata": {
                "azdata_cell_guid": "79276b31-eb66-46af-b025-0b886cf72cba",
                "language": "sql"
            },
            "outputs": [
                {
                    "output_type": "display_data",
                    "data": {
                        "text/html": "(1 row(s) affected)"
                    },
                    "metadata": {}
                },
                {
                    "output_type": "display_data",
                    "data": {
                        "text/html": "Total execution time: 00:00:00.001"
                    },
                    "metadata": {}
                },
                {
                    "output_type": "execute_result",
                    "metadata": {},
                    "execution_count": 187,
                    "data": {
                        "application/vnd.dataresource+json": {
                            "schema": {
                                "fields": [
                                    {
                                        "name": "current_time"
                                    },
                                    {
                                        "name": "current_timestamp"
                                    },
                                    {
                                        "name": "localtime"
                                    },
                                    {
                                        "name": "localtimestamp"
                                    }
                                ]
                            },
                            "data": [
                                {
                                    "current_time": "20:07:00+08",
                                    "current_timestamp": "2024-09-01 20:07:00.03+08",
                                    "localtime": "20:07:00.033",
                                    "localtimestamp": "2024-09-01 20:07:00.033011"
                                }
                            ]
                        },
                        "text/html": [
                            "<table>",
                            "<tr><th>current_time</th><th>current_timestamp</th><th>localtime</th><th>localtimestamp</th></tr>",
                            "<tr><td>20:07:00+08</td><td>2024-09-01 20:07:00.03+08</td><td>20:07:00.033</td><td>2024-09-01 20:07:00.033011</td></tr>",
                            "</table>"
                        ]
                    }
                }
            ],
            "execution_count": 187
        },
        {
            "cell_type": "markdown",
            "source": [
                "### PostgreSQL Extensions\n",
                ""
            ],
            "metadata": {
                "language": "sql",
                "azdata_cell_guid": "698742d7-3ac2-40fc-817f-1591da2515ac"
            },
            "attachments": {}
        },
        {
            "cell_type": "code",
            "source": [
                "SELECT\n",
                "    now(),\n",
                "    TRANSACTION_timestamp(),\n",
                "    statement_timestamp(),\n",
                "    clock_timestamp();"
            ],
            "metadata": {
                "language": "sql",
                "azdata_cell_guid": "43b739bb-3e0d-4d24-9328-2dc8c8df54e6"
            },
            "outputs": [
                {
                    "output_type": "display_data",
                    "data": {
                        "text/html": "(1 row(s) affected)"
                    },
                    "metadata": {}
                },
                {
                    "output_type": "display_data",
                    "data": {
                        "text/html": "Total execution time: 00:00:00.003"
                    },
                    "metadata": {}
                },
                {
                    "output_type": "execute_result",
                    "metadata": {},
                    "execution_count": 188,
                    "data": {
                        "application/vnd.dataresource+json": {
                            "schema": {
                                "fields": [
                                    {
                                        "name": "now"
                                    },
                                    {
                                        "name": "transaction_timestamp"
                                    },
                                    {
                                        "name": "statement_timestamp"
                                    },
                                    {
                                        "name": "clock_timestamp"
                                    }
                                ]
                            },
                            "data": [
                                {
                                    "now": "2024-09-01 20:08:13.652789+08",
                                    "transaction_timestamp": "2024-09-01 20:08:13.652789+08",
                                    "statement_timestamp": "2024-09-01 20:08:13.652789+08",
                                    "clock_timestamp": "2024-09-01 20:08:13.654872+08"
                                }
                            ]
                        },
                        "text/html": [
                            "<table>",
                            "<tr><th>now</th><th>transaction_timestamp</th><th>statement_timestamp</th><th>clock_timestamp</th></tr>",
                            "<tr><td>2024-09-01 20:08:13.652789+08</td><td>2024-09-01 20:08:13.652789+08</td><td>2024-09-01 20:08:13.652789+08</td><td>2024-09-01 20:08:13.654872+08</td></tr>",
                            "</table>"
                        ]
                    }
                }
            ],
            "execution_count": 188
        },
        {
            "cell_type": "code",
            "source": [
                "SELECT\n",
                "    timeofday() as \"Current date and time as text\",\n",
                "    AGE(timestamp 'March 14, 1879') as \"Age of Albert Einstein\", -- 140 years 7 month 19 days\n",
                "    AGE(timestamptz '1945-08-14 12:34:56', timestamptz '2000-01-01 01:02:03')"
            ],
            "metadata": {
                "azdata_cell_guid": "0c46e71b-880d-45ec-9235-a9291516a868",
                "language": "sql"
            },
            "outputs": [
                {
                    "output_type": "display_data",
                    "data": {
                        "text/html": "(1 row(s) affected)"
                    },
                    "metadata": {}
                },
                {
                    "output_type": "display_data",
                    "data": {
                        "text/html": "Total execution time: 00:00:00.001"
                    },
                    "metadata": {}
                },
                {
                    "output_type": "execute_result",
                    "metadata": {},
                    "execution_count": 189,
                    "data": {
                        "application/vnd.dataresource+json": {
                            "schema": {
                                "fields": [
                                    {
                                        "name": "Current date and time as text"
                                    },
                                    {
                                        "name": "Age of Albert Einstein"
                                    },
                                    {
                                        "name": "age"
                                    }
                                ]
                            },
                            "data": [
                                {
                                    "Current date and time as text": "Sun Sep 01 20:10:27.319916 2024 CST",
                                    "Age of Albert Einstein": "145 years 5 mons 18 days",
                                    "age": "-54 years -4 mons -17 days -12:27:07"
                                }
                            ]
                        },
                        "text/html": [
                            "<table>",
                            "<tr><th>Current date and time as text</th><th>Age of Albert Einstein</th><th>age</th></tr>",
                            "<tr><td>Sun Sep 01 20:10:27.319916 2024 CST</td><td>145 years 5 mons 18 days</td><td>-54 years -4 mons -17 days -12:27:07</td></tr>",
                            "</table>"
                        ]
                    }
                }
            ],
            "execution_count": 189
        },
        {
            "cell_type": "markdown",
            "source": [
                "## Date Math using EPOC\n",
                ""
            ],
            "metadata": {
                "azdata_cell_guid": "c7ebaaf7-ed81-4a21-b5fa-cfbecf09337f"
            },
            "attachments": {}
        },
        {
            "cell_type": "code",
            "source": [
                "select \n",
                "extract(epoch from timestamptz '2019-12-28 15:03:10.50-01:00') - \n",
                "extract(epoch from timestamptz '2019-09-28 09:05:20.50+01:00')\n",
                "AS \"Difference in seconds\";\n",
                ","
            ],
            "metadata": {
                "azdata_cell_guid": "6af6bc6f-e381-4e98-a009-9b4376218baf",
                "language": "sql"
            },
            "outputs": [
                {
                    "output_type": "display_data",
                    "data": {
                        "text/html": "(1 row(s) affected)"
                    },
                    "metadata": {}
                },
                {
                    "output_type": "display_data",
                    "data": {
                        "text/html": "Total execution time: 00:00:00.003"
                    },
                    "metadata": {}
                },
                {
                    "output_type": "execute_result",
                    "metadata": {},
                    "execution_count": 190,
                    "data": {
                        "application/vnd.dataresource+json": {
                            "schema": {
                                "fields": [
                                    {
                                        "name": "Difference in seconds"
                                    }
                                ]
                            },
                            "data": [
                                {
                                    "Difference in seconds": "7891070.000000"
                                }
                            ]
                        },
                        "text/html": [
                            "<table>",
                            "<tr><th>Difference in seconds</th></tr>",
                            "<tr><td>7891070.000000</td></tr>",
                            "</table>"
                        ]
                    }
                },
                {
                    "output_type": "error",
                    "evalue": "syntax error at or near \",\"",
                    "ename": "",
                    "traceback": []
                }
            ],
            "execution_count": 190
        },
        {
            "cell_type": "code",
            "source": [
                "select \n",
                "    (\n",
                "        extract(epoch from timestamptz '2013-07-01 12:00:00') - \n",
                "        extract(epoch from timestamptz '2013-03-01 12:00:00')\n",
                "    ) / 60 / 60 / 24 AS \"Difference in hours using EPOC\",\n",
                "    timestamptz '2013-07-01 12:00:00' - timestamptz '2013-03-01 12:00:00' as \"Difference in hours using subtraction\",\n",
                "    AGE(timestamptz '2013-07-01 12:00:00' , timestamptz '2013-03-01 12:00:00') \n",
                "    AS \"Difference using AGE()\";"
            ],
            "metadata": {
                "azdata_cell_guid": "caf4a8d0-8f58-45ee-9826-dced0bc9f0d5",
                "language": "sql"
            },
            "outputs": [
                {
                    "output_type": "display_data",
                    "data": {
                        "text/html": "(1 row(s) affected)"
                    },
                    "metadata": {}
                },
                {
                    "output_type": "display_data",
                    "data": {
                        "text/html": "Total execution time: 00:00:00.001"
                    },
                    "metadata": {}
                },
                {
                    "output_type": "execute_result",
                    "metadata": {},
                    "execution_count": 191,
                    "data": {
                        "application/vnd.dataresource+json": {
                            "schema": {
                                "fields": [
                                    {
                                        "name": "Difference in hours using EPOC"
                                    },
                                    {
                                        "name": "Difference in hours using subtraction"
                                    },
                                    {
                                        "name": "Difference using AGE()"
                                    }
                                ]
                            },
                            "data": [
                                {
                                    "Difference in hours using EPOC": "122.0000000000000000",
                                    "Difference in hours using subtraction": "122 days",
                                    "Difference using AGE()": "4 mons"
                                }
                            ]
                        },
                        "text/html": [
                            "<table>",
                            "<tr><th>Difference in hours using EPOC</th><th>Difference in hours using subtraction</th><th>Difference using AGE()</th></tr>",
                            "<tr><td>122.0000000000000000</td><td>122 days</td><td>4 mons</td></tr>",
                            "</table>"
                        ]
                    }
                }
            ],
            "execution_count": 191
        },
        {
            "cell_type": "markdown",
            "source": [
                "### TO_TIMESTAMP(epoc)"
            ],
            "metadata": {
                "azdata_cell_guid": "fe007692-9a3f-44be-82a2-5edc7c265f98"
            },
            "attachments": {}
        },
        {
            "cell_type": "code",
            "source": [
                "select \n",
                "CURRENT_TIMESTAMP AS \"Current timestamp\",\n",
                "to_timestamp(extract(epoch from CURRENT_TIMESTAMP)) AS \"Current tiem round trip\";"
            ],
            "metadata": {
                "azdata_cell_guid": "d71127b0-d679-4fc3-9ff4-4eeabe877f1c",
                "language": "sql"
            },
            "outputs": [
                {
                    "output_type": "display_data",
                    "data": {
                        "text/html": "(1 row(s) affected)"
                    },
                    "metadata": {}
                },
                {
                    "output_type": "display_data",
                    "data": {
                        "text/html": "Total execution time: 00:00:00.001"
                    },
                    "metadata": {}
                },
                {
                    "output_type": "execute_result",
                    "metadata": {},
                    "execution_count": 192,
                    "data": {
                        "application/vnd.dataresource+json": {
                            "schema": {
                                "fields": [
                                    {
                                        "name": "Current timestamp"
                                    },
                                    {
                                        "name": "Current tiem round trip"
                                    }
                                ]
                            },
                            "data": [
                                {
                                    "Current timestamp": "2024-09-01 20:22:40.908773+08",
                                    "Current tiem round trip": "2024-09-01 20:22:40.908773+08"
                                }
                            ]
                        },
                        "text/html": [
                            "<table>",
                            "<tr><th>Current timestamp</th><th>Current tiem round trip</th></tr>",
                            "<tr><td>2024-09-01 20:22:40.908773+08</td><td>2024-09-01 20:22:40.908773+08</td></tr>",
                            "</table>"
                        ]
                    }
                }
            ],
            "execution_count": 192
        },
        {
            "cell_type": "code",
            "source": [
                "select to_epoc(CURRENT_TIMESTAMP)  -- Invalid function"
            ],
            "metadata": {
                "language": "sql",
                "azdata_cell_guid": "66d3503c-8342-46cc-bcf6-f2a08e55225d"
            },
            "outputs": [
                {
                    "output_type": "error",
                    "evalue": "function to_epoc(timestamp with time zone) does not exist",
                    "ename": "",
                    "traceback": []
                },
                {
                    "output_type": "display_data",
                    "data": {
                        "text/html": "Total execution time: 00:00:00"
                    },
                    "metadata": {}
                }
            ],
            "execution_count": 193
        },
        {
            "cell_type": "markdown",
            "source": [
                "## Converting and Formatting"
            ],
            "metadata": {
                "language": "sql",
                "azdata_cell_guid": "351573e0-1f5d-469b-b593-c1adb7023c6d"
            },
            "attachments": {}
        },
        {
            "cell_type": "markdown",
            "source": [
                "### Converting Strings to Dates and Times"
            ],
            "metadata": {
                "language": "sql",
                "azdata_cell_guid": "6c1ac667-d98e-4809-9b3d-7a646fb4ac2b"
            },
            "attachments": {}
        },
        {
            "cell_type": "code",
            "source": [
                "SELECT\n",
                "to_date('2019-10-07', 'YYYY-MM-DD') As \"From ISO\",\n",
                "to_date('October 7, 2019', 'Month DD, YYYY') as \"From long date\",\n",
                "to_date('7th Oct 2019', 'DDth Mon YYYY') AS \"From short date\";"
            ],
            "metadata": {
                "language": "sql",
                "azdata_cell_guid": "e02cbf24-f9a7-4a0c-8c50-d978ac665f39"
            },
            "outputs": [
                {
                    "output_type": "display_data",
                    "data": {
                        "text/html": "(1 row(s) affected)"
                    },
                    "metadata": {}
                },
                {
                    "output_type": "display_data",
                    "data": {
                        "text/html": "Total execution time: 00:00:00.001"
                    },
                    "metadata": {}
                },
                {
                    "output_type": "execute_result",
                    "metadata": {},
                    "execution_count": 196,
                    "data": {
                        "application/vnd.dataresource+json": {
                            "schema": {
                                "fields": [
                                    {
                                        "name": "From ISO"
                                    },
                                    {
                                        "name": "From long date"
                                    },
                                    {
                                        "name": "From short date"
                                    }
                                ]
                            },
                            "data": [
                                {
                                    "From ISO": "2019-10-07",
                                    "From long date": "2019-10-07",
                                    "From short date": "2019-10-07"
                                }
                            ]
                        },
                        "text/html": [
                            "<table>",
                            "<tr><th>From ISO</th><th>From long date</th><th>From short date</th></tr>",
                            "<tr><td>2019-10-07</td><td>2019-10-07</td><td>2019-10-07</td></tr>",
                            "</table>"
                        ]
                    }
                }
            ],
            "execution_count": 196
        },
        {
            "cell_type": "code",
            "source": [
                "SELECT\n",
                "to_timestamp('2019-10-7 11:20:10', 'YYYY-MM-DD HH:MI:SS') AS \"From ISO time\",\n",
                "to_timestamp('2019-10-07 11.30.35+04.30', 'YYYY-MM-DD HH.MI.SS+TZH.TZM') AS \"Non-standard\";"
            ],
            "metadata": {
                "language": "sql",
                "azdata_cell_guid": "e716d01b-f98a-4e74-a553-efd5d0890337"
            },
            "outputs": [
                {
                    "output_type": "display_data",
                    "data": {
                        "text/html": "(1 row(s) affected)"
                    },
                    "metadata": {}
                },
                {
                    "output_type": "display_data",
                    "data": {
                        "text/html": "Total execution time: 00:00:00.001"
                    },
                    "metadata": {}
                },
                {
                    "output_type": "execute_result",
                    "metadata": {},
                    "execution_count": 198,
                    "data": {
                        "application/vnd.dataresource+json": {
                            "schema": {
                                "fields": [
                                    {
                                        "name": "From ISO time"
                                    },
                                    {
                                        "name": "Non-standard"
                                    }
                                ]
                            },
                            "data": [
                                {
                                    "From ISO time": "2019-10-07 11:20:10+08",
                                    "Non-standard": "2019-10-07 15:00:35+08"
                                }
                            ]
                        },
                        "text/html": [
                            "<table>",
                            "<tr><th>From ISO time</th><th>Non-standard</th></tr>",
                            "<tr><td>2019-10-07 11:20:10+08</td><td>2019-10-07 15:00:35+08</td></tr>",
                            "</table>"
                        ]
                    }
                }
            ],
            "execution_count": 198
        },
        {
            "cell_type": "markdown",
            "source": [
                "### Formatting Timestamps for Output"
            ],
            "metadata": {
                "language": "sql",
                "azdata_cell_guid": "02b5e591-7664-4f28-976f-f0ffaaf7fcd4"
            },
            "attachments": {}
        },
        {
            "cell_type": "code",
            "source": [
                "select \n",
                "CURRENT_TIMESTAMP,\n",
                "to_char('2019-10-7T11:55:55-4:00'::timestamptz, 'FMMonth DDth YYYY hh:mm:ss tz');"
            ],
            "metadata": {
                "language": "sql",
                "azdata_cell_guid": "2d0bc93c-04f3-46d4-a109-36a21de6bef2"
            },
            "outputs": [
                {
                    "output_type": "display_data",
                    "data": {
                        "text/html": "(1 row(s) affected)"
                    },
                    "metadata": {}
                },
                {
                    "output_type": "display_data",
                    "data": {
                        "text/html": "Total execution time: 00:00:00.001"
                    },
                    "metadata": {}
                },
                {
                    "output_type": "execute_result",
                    "metadata": {},
                    "execution_count": 199,
                    "data": {
                        "application/vnd.dataresource+json": {
                            "schema": {
                                "fields": [
                                    {
                                        "name": "current_timestamp"
                                    },
                                    {
                                        "name": "to_char"
                                    }
                                ]
                            },
                            "data": [
                                {
                                    "current_timestamp": "2024-09-01 20:33:15.692061+08",
                                    "to_char": "October 07th 2019 11:10:55 cst"
                                }
                            ]
                        },
                        "text/html": [
                            "<table>",
                            "<tr><th>current_timestamp</th><th>to_char</th></tr>",
                            "<tr><td>2024-09-01 20:33:15.692061+08</td><td>October 07th 2019 11:10:55 cst</td></tr>",
                            "</table>"
                        ]
                    }
                }
            ],
            "execution_count": 199
        },
        {
            "cell_type": "code",
            "source": [
                "select \n",
                "prod_id,\n",
                "quantity,\n",
                "to_char(orderdate, 'FMDay DD FMMonth YYYY') as \"Order Date\"\n",
                "from orderlines\n",
                "limit 3;"
            ],
            "metadata": {
                "language": "sql",
                "azdata_cell_guid": "ee7aff1e-d305-4d8b-b3a7-5edc8a28a7a9"
            },
            "outputs": [],
            "execution_count": null
        },
        {
            "cell_type": "code",
            "source": [
                "select to_char(last_update, 'FMDay DD FMMonth YYYY') from film limit 1;"
            ],
            "metadata": {
                "language": "sql",
                "azdata_cell_guid": "34211d35-6be8-41a8-80e7-c5ef8a32ff52"
            },
            "outputs": [
                {
                    "output_type": "error",
                    "evalue": "relation \"film\" does not exist",
                    "ename": "",
                    "traceback": []
                },
                {
                    "output_type": "display_data",
                    "data": {
                        "text/html": "Total execution time: 00:00:00"
                    },
                    "metadata": {}
                }
            ],
            "execution_count": 200
        },
        {
            "cell_type": "markdown",
            "source": [
                "# Aggregation over Row Groups Using Window Functions\n",
                "\n",
                "+ How Windows work\n",
                "  + Partition by ,order by\n",
                "+ Ordered vs unordered aggregation\n",
                "+ Limit rows to be used\n",
                "+ Full syntax and window names\n",
                ""
            ],
            "metadata": {
                "language": "sql",
                "azdata_cell_guid": "91f5343f-23d8-4240-a6a4-a5bcbecdd14c"
            },
            "attachments": {}
        },
        {
            "cell_type": "markdown",
            "source": [
                "## Motivating Example\n",
                "\n",
                "### Find rows matching a maximum value\n",
                "\n",
                ""
            ],
            "metadata": {
                "language": "sql",
                "azdata_cell_guid": "3e4ec9e9-4a31-4bef-b60e-47b3df1f161c"
            },
            "attachments": {}
        },
        {
            "cell_type": "code",
            "source": [
                "select region, state, max(age) from customers CALL\n",
                "group by region, STATE\n",
                "limit 5;"
            ],
            "metadata": {
                "language": "sql",
                "azdata_cell_guid": "80a92d25-95a5-4bd9-8149-1478d107452a"
            },
            "outputs": [],
            "execution_count": null
        },
        {
            "cell_type": "markdown",
            "source": [
                "### Find matching rows\n",
                ""
            ],
            "metadata": {
                "language": "sql",
                "azdata_cell_guid": "ef6e6dac-4400-4bf6-ac7b-c802e4e282fa"
            },
            "attachments": {}
        },
        {
            "cell_type": "code",
            "source": [
                "select c.region, c.state, c.firstname, c.lastname, c.Age\n",
                "from customers C\n",
                "join (\n",
                "    select c.region, c.status, max(age) as max_age\n",
                "    from customers C\n",
                "    group by region, STATE\n",
                ") s\n",
                "on c.region = s.region\n",
                "and c.state = s.STATE\n",
                "and c.age = s.max_age\n",
                "order by c.region, c.state\n",
                "limit 5;"
            ],
            "metadata": {
                "language": "sql",
                "azdata_cell_guid": "9775bde2-104b-4c39-943c-e327574edf35"
            },
            "outputs": [],
            "execution_count": null
        },
        {
            "cell_type": "markdown",
            "source": [
                "## Using a Window function"
            ],
            "metadata": {
                "language": "sql",
                "azdata_cell_guid": "b53c2af1-e5c5-41b8-8423-d6a0286debb5"
            },
            "attachments": {}
        },
        {
            "cell_type": "code",
            "source": [
                "select c.region, c.state, c.firstname, c.lastname, c.age,\n",
                "max(age) over (partition by region, state) as max_age\n",
                "from customers C\n",
                "order by c.region, c.state\n",
                "limit 5;"
            ],
            "metadata": {
                "language": "sql",
                "azdata_cell_guid": "0dc9b562-629d-43e8-9f3d-9548c15495a2"
            },
            "outputs": [],
            "execution_count": null
        },
        {
            "cell_type": "markdown",
            "source": [
                "### Only matching rows\n",
                ""
            ],
            "metadata": {
                "language": "sql",
                "azdata_cell_guid": "e92babaf-4d71-493a-b0ab-2abd5c5d2848"
            },
            "attachments": {}
        },
        {
            "cell_type": "code",
            "source": [
                "select s.region, s.state, s.firstname, s.lastname, s.age,\n",
                "from (\n",
                "select c.region, c.state, c.firstname, c.lastname, c.age,\n",
                "max(age) over (partition by region, state) as max_age\n",
                "from customers C\n",
                ") s\n",
                "where s.age = s.max_age\n",
                "order by s.region, s.state\n",
                "limit 5;"
            ],
            "metadata": {
                "language": "sql",
                "azdata_cell_guid": "469a8f88-0c23-4907-b324-430737cab235"
            },
            "outputs": [],
            "execution_count": null
        },
        {
            "cell_type": "markdown",
            "source": [
                "## Basic syntax of window functions\n",
                "\n",
                "over (partition by .. order by)\n",
                "\n",
                "over (0artition by) \n",
                "\n",
                "over (order by)\n",
                "\n",
                "over()"
            ],
            "metadata": {
                "language": "sql",
                "azdata_cell_guid": "7889bb91-a686-4c17-acc4-8b611619874a"
            },
            "attachments": {}
        },
        {
            "cell_type": "code",
            "source": [
                "SELECT\n",
                "orderId AS \"OrderID\",\n",
                "prod_id AS \"Product\",\n",
                "quantity As \"This Quantity\",\n",
                "SUM(quantity) OVER(partition by prod_id) AS \"Total Quantity\",\n",
                "MIN(quantity) OVER(partition by prod_id) AS \"Minimum Quantity\",\n",
                "AVG(quantity) OVER(partition by prod_id) AS \"Average Quantity\",\n",
                "MAX(quantity) OVER(partition by prod_id) AS \"Maximum Quantity\",\n",
                "SUM(quantity) OVER(partition by prod_id) AS \"Total Quantity\"\n",
                "from orderlines\n",
                "limit 5;"
            ],
            "metadata": {
                "language": "sql",
                "azdata_cell_guid": "52afb582-f83b-43b7-ab55-1c810dfab5a1"
            },
            "outputs": [],
            "execution_count": null
        },
        {
            "cell_type": "code",
            "source": [
                "SELECT\n",
                "'state',\n",
                "lastname,\n",
                "firstname,\n",
                "row_number() over (partition by 'state' order by lastname desc)\n",
                "as row_num\n",
                "from customers\n",
                "where length('state') > 0\n",
                "limit 5;"
            ],
            "metadata": {
                "language": "sql",
                "azdata_cell_guid": "233474e9-6baf-4e5d-90ed-fe3e83c2ffa1"
            },
            "outputs": [],
            "execution_count": null
        },
        {
            "cell_type": "code",
            "source": [
                "select n,\n",
                "row_number() over (order by n),\n",
                "rank() over (order by n), -- 排名，如果有相同的排名，会跳过，比如 1,1,2,2的排名是1,1,3,3\n",
                "dense_rank() over (order by n), -- 紧密的排名，如果有相同的排名，不会跳过，比如 1,1,2,2的排名是1,1,2,2\n",
                "percent_rank() over (order by n),--relative rank of the current row, 计算当前行在其分区中的相对位置的百分比排名。这个百分比是通过将当前行的排名减去 1，然后除以分区中行数减 1 的结果\n",
                "cume_dist() over (order by n)   -- cumulative distribution, 累积分布,当前行及其排名等于或低于当前行的所有行的比例\n",
                "from (values (1), (1), (2), (3), (3)) v(n)\n",
                "order by n;"
            ],
            "metadata": {
                "language": "sql",
                "azdata_cell_guid": "2e23949d-76bb-47fd-bc88-71f1bf4ae3ac"
            },
            "outputs": [
                {
                    "output_type": "display_data",
                    "data": {
                        "text/html": "(5 row(s) affected)"
                    },
                    "metadata": {}
                },
                {
                    "output_type": "display_data",
                    "data": {
                        "text/html": "Total execution time: 00:00:00.001"
                    },
                    "metadata": {}
                },
                {
                    "output_type": "execute_result",
                    "metadata": {},
                    "execution_count": 203,
                    "data": {
                        "application/vnd.dataresource+json": {
                            "schema": {
                                "fields": [
                                    {
                                        "name": "n"
                                    },
                                    {
                                        "name": "row_number"
                                    },
                                    {
                                        "name": "rank"
                                    },
                                    {
                                        "name": "dense_rank"
                                    },
                                    {
                                        "name": "percent_rank"
                                    },
                                    {
                                        "name": "cume_dist"
                                    }
                                ]
                            },
                            "data": [
                                {
                                    "n": "1",
                                    "row_number": "1",
                                    "rank": "1",
                                    "dense_rank": "1",
                                    "percent_rank": "0",
                                    "cume_dist": "0.4"
                                },
                                {
                                    "n": "1",
                                    "row_number": "2",
                                    "rank": "1",
                                    "dense_rank": "1",
                                    "percent_rank": "0",
                                    "cume_dist": "0.4"
                                },
                                {
                                    "n": "2",
                                    "row_number": "3",
                                    "rank": "3",
                                    "dense_rank": "2",
                                    "percent_rank": "0.5",
                                    "cume_dist": "0.6"
                                },
                                {
                                    "n": "3",
                                    "row_number": "4",
                                    "rank": "4",
                                    "dense_rank": "3",
                                    "percent_rank": "0.75",
                                    "cume_dist": "1"
                                },
                                {
                                    "n": "3",
                                    "row_number": "5",
                                    "rank": "4",
                                    "dense_rank": "3",
                                    "percent_rank": "0.75",
                                    "cume_dist": "1"
                                }
                            ]
                        },
                        "text/html": [
                            "<table>",
                            "<tr><th>n</th><th>row_number</th><th>rank</th><th>dense_rank</th><th>percent_rank</th><th>cume_dist</th></tr>",
                            "<tr><td>1</td><td>1</td><td>1</td><td>1</td><td>0</td><td>0.4</td></tr>",
                            "<tr><td>1</td><td>2</td><td>1</td><td>1</td><td>0</td><td>0.4</td></tr>",
                            "<tr><td>2</td><td>3</td><td>3</td><td>2</td><td>0.5</td><td>0.6</td></tr>",
                            "<tr><td>3</td><td>4</td><td>4</td><td>3</td><td>0.75</td><td>1</td></tr>",
                            "<tr><td>3</td><td>5</td><td>4</td><td>3</td><td>0.75</td><td>1</td></tr>",
                            "</table>"
                        ]
                    }
                }
            ],
            "execution_count": 203
        },
        {
            "cell_type": "markdown",
            "source": [
                "## percent_rank and cume_dist \n",
                "\n",
                "A low value means that the current row is closer to the started of the ordered window frame, \n",
                "\n",
                "A  higher number means closer to the end"
            ],
            "metadata": {
                "language": "sql",
                "azdata_cell_guid": "4603632f-ef35-49f3-b70b-ebb305143a58"
            },
            "attachments": {}
        },
        {
            "cell_type": "markdown",
            "source": [
                "## Ordered aggregation\n",
                "\n",
                ""
            ],
            "metadata": {
                "language": "sql",
                "azdata_cell_guid": "c8258249-2948-4ec9-a9f2-1c10ac992fb1"
            },
            "attachments": {}
        },
        {
            "cell_type": "code",
            "source": [
                "select \n",
                "orderId,\n",
                "prod_id,\n",
                "quantity,\n",
                "    sum(quantity) over (partition by orderid) as “Sum Unordered\",\n",
                "    sum(quantity) over (partition by orderid order by prod_id) as \"Sum Product Ordering\",\n",
                "    sum(quantity) over (parition by orderid order by quantity) as \"Sum Quantity Ordering\" -- TODO 结果应该是累加\n",
                "FROM orderlines\n",
                "    where orderid = 1\n",
                "    order by prod_id\n",
                "    limit 5\n",
                ""
            ],
            "metadata": {
                "language": "sql",
                "azdata_cell_guid": "1a4d0a95-8485-485f-9395-f6b76fc7fb24"
            },
            "outputs": [],
            "execution_count": null
        },
        {
            "cell_type": "markdown",
            "source": [
                "## Functions relative to current row\n",
                ""
            ],
            "metadata": {
                "language": "sql",
                "azdata_cell_guid": "30b62e5c-939c-424f-aa7e-468c0ecd1ab9"
            },
            "attachments": {}
        },
        {
            "cell_type": "code",
            "source": [
                "SELECT \n",
                "    a,\n",
                "    n,\n",
                "LAG(n) OVER (PARTITION BY a ORDER BY n ASC)          AS \"Previous row\",\n",
                "       LEAD(n) OVER (PARTITION BY a ORDER BY n ASC)         AS \"next row\",\n",
                "       LAG(n, 2) OVER (PARTITION BY a ORDER BY n DESC)      AS \"lag by 2, desc\",\n",
                "       LEAD(n, 2, 42) OVER (PARTITION BY a ORDER BY n DESC) AS \"Default value\",\n",
                "       FIRST_VALUE(n) OVER (PARTITION BY a ORDER BY n ASC),\n",
                "       LAST_VALUE(n) OVER (PARTITION BY a ORDER BY n ASC)   AS \"last value\",\n",
                "       NTH_VALUE(n, 2) OVER (PARTITION BY a ORDER BY n ASC) AS \"2nd from end\",\n",
                "       ROW_NUMBER() OVER (PARTITION BY n ORDER BY n ASC)    AS \"rn\"\n",
                "FROM (VALUES ('a', 1), ('a', 2), ('b', 1), ('b', 2), ('b', 3)) v\n",
                "         (a, n)\n",
                "ORDER BY a, n;\n",
                ""
            ],
            "metadata": {
                "language": "sql",
                "azdata_cell_guid": "727d102a-3be5-46e6-9bcf-29f90243f9e2",
                "tags": []
            },
            "outputs": [
                {
                    "output_type": "display_data",
                    "data": {
                        "text/html": "(5 row(s) affected)"
                    },
                    "metadata": {}
                },
                {
                    "output_type": "display_data",
                    "data": {
                        "text/html": "Total execution time: 00:00:00.001"
                    },
                    "metadata": {}
                },
                {
                    "output_type": "execute_result",
                    "metadata": {},
                    "execution_count": 212,
                    "data": {
                        "application/vnd.dataresource+json": {
                            "schema": {
                                "fields": [
                                    {
                                        "name": "a"
                                    },
                                    {
                                        "name": "n"
                                    },
                                    {
                                        "name": "Previous row"
                                    },
                                    {
                                        "name": "next row"
                                    },
                                    {
                                        "name": "lag by 2, desc"
                                    },
                                    {
                                        "name": "Default value"
                                    },
                                    {
                                        "name": "first_value"
                                    },
                                    {
                                        "name": "last value"
                                    },
                                    {
                                        "name": "2nd from end"
                                    },
                                    {
                                        "name": "rn"
                                    }
                                ]
                            },
                            "data": [
                                {
                                    "a": "a",
                                    "n": "1",
                                    "Previous row": "NULL",
                                    "next row": "2",
                                    "lag by 2, desc": "NULL",
                                    "Default value": "42",
                                    "first_value": "1",
                                    "last value": "1",
                                    "2nd from end": "NULL",
                                    "rn": "1"
                                },
                                {
                                    "a": "a",
                                    "n": "2",
                                    "Previous row": "1",
                                    "next row": "NULL",
                                    "lag by 2, desc": "NULL",
                                    "Default value": "42",
                                    "first_value": "1",
                                    "last value": "2",
                                    "2nd from end": "2",
                                    "rn": "1"
                                },
                                {
                                    "a": "b",
                                    "n": "1",
                                    "Previous row": "NULL",
                                    "next row": "2",
                                    "lag by 2, desc": "3",
                                    "Default value": "42",
                                    "first_value": "1",
                                    "last value": "1",
                                    "2nd from end": "NULL",
                                    "rn": "2"
                                },
                                {
                                    "a": "b",
                                    "n": "2",
                                    "Previous row": "1",
                                    "next row": "3",
                                    "lag by 2, desc": "NULL",
                                    "Default value": "42",
                                    "first_value": "1",
                                    "last value": "2",
                                    "2nd from end": "2",
                                    "rn": "2"
                                },
                                {
                                    "a": "b",
                                    "n": "3",
                                    "Previous row": "2",
                                    "next row": "NULL",
                                    "lag by 2, desc": "NULL",
                                    "Default value": "1",
                                    "first_value": "1",
                                    "last value": "3",
                                    "2nd from end": "2",
                                    "rn": "1"
                                }
                            ]
                        },
                        "text/html": [
                            "<table>",
                            "<tr><th>a</th><th>n</th><th>Previous row</th><th>next row</th><th>lag by 2, desc</th><th>Default value</th><th>first_value</th><th>last value</th><th>2nd from end</th><th>rn</th></tr>",
                            "<tr><td>a</td><td>1</td><td>NULL</td><td>2</td><td>NULL</td><td>42</td><td>1</td><td>1</td><td>NULL</td><td>1</td></tr>",
                            "<tr><td>a</td><td>2</td><td>1</td><td>NULL</td><td>NULL</td><td>42</td><td>1</td><td>2</td><td>2</td><td>1</td></tr>",
                            "<tr><td>b</td><td>1</td><td>NULL</td><td>2</td><td>3</td><td>42</td><td>1</td><td>1</td><td>NULL</td><td>2</td></tr>",
                            "<tr><td>b</td><td>2</td><td>1</td><td>3</td><td>NULL</td><td>42</td><td>1</td><td>2</td><td>2</td><td>2</td></tr>",
                            "<tr><td>b</td><td>3</td><td>2</td><td>NULL</td><td>NULL</td><td>1</td><td>1</td><td>3</td><td>2</td><td>1</td></tr>",
                            "</table>"
                        ]
                    }
                }
            ],
            "execution_count": 212
        },
        {
            "cell_type": "markdown",
            "source": [
                "## Order by date\n",
                ""
            ],
            "metadata": {
                "azdata_cell_guid": "59be6cc8-3acc-4f12-8bdb-7dbb53be371b"
            },
            "attachments": {}
        },
        {
            "cell_type": "code",
            "source": [
                "select orderid, orderdate\n",
                "    lead(orderid) over order by orderdate) AS \"Next Order ID\",\n",
                "    lead(orderdate) over (order by ordredate) AS \"Next Order date\"\n",
                "    from orders;"
            ],
            "metadata": {
                "azdata_cell_guid": "5ec731f9-bd01-49f5-8703-e4aada387a85",
                "language": "sql"
            },
            "outputs": [],
            "execution_count": null
        },
        {
            "cell_type": "markdown",
            "source": [
                "## Limit rows\n",
                ""
            ],
            "metadata": {
                "language": "sql",
                "azdata_cell_guid": "1ebe64da-1641-4215-bdf6-6b0dc5784445"
            },
            "attachments": {}
        },
        {
            "cell_type": "markdown",
            "source": [
                "### Limit rows to be used\n",
                "\n",
                "#### Filtering\n",
                "\n",
                "\n",
                "function_name (*) [filter (where filter_clause)] over (window_definition)"
            ],
            "metadata": {
                "language": "sql",
                "azdata_cell_guid": "57960c47-6dad-4614-84f3-51d578e4c912"
            },
            "attachments": {}
        },
        {
            "cell_type": "code",
            "source": [
                "select 'state', city, age,\n",
                "avg(age) filter (where city like 'B%')\n",
                "from customers\n",
                "where 'state' like 'O%'\n",
                "order by 'state', city\n",
                "limit 5;"
            ],
            "metadata": {
                "language": "sql",
                "azdata_cell_guid": "2a0b9594-d130-4521-842a-83f2278776a5",
                "tags": [
                    "hide_input"
                ]
            },
            "outputs": [],
            "execution_count": null
        },
        {
            "cell_type": "markdown",
            "source": [
                "#### Using the frame clause\n",
                "\n",
                "over(partition by .... order by  .. frame clause)"
            ],
            "metadata": {
                "language": "sql",
                "azdata_cell_guid": "97a08805-e9e4-4b68-b035-a19055e12718"
            },
            "attachments": {}
        },
        {
            "cell_type": "code",
            "source": [
                "select orderid, prod_id, quantity,\n",
                "sum(quantity) over(partition by orderid order by prod_id\n",
                "    rows between unbounded preceding and current row ) as \"Default frame\",\n",
                "sum(quantity) over(partition by orderid order by prod_id\n",
                "    rows 2 preceding ) as \"2 preceding\",\n",
                "sum(quantity) over(partition by orderid order by prod_id\n",
                "    rows between CURRENT and 2  following ) as \"2 following\",\n",
                "sum(quantity) over(partition by orderid order by prod_id\n",
                "    rows between unbounded preceding and unbounded following ) as \"Entire Window\"\n",
                "from orderlines\n",
                "where orderid = 1\n",
                "limit 5;\n",
                ""
            ],
            "metadata": {
                "language": "sql",
                "azdata_cell_guid": "8e57338a-ed69-423c-b176-c03ceb0c9033"
            },
            "outputs": [
                {
                    "output_type": "error",
                    "evalue": "syntax error at or near \")\"",
                    "ename": "",
                    "traceback": []
                },
                {
                    "output_type": "display_data",
                    "data": {
                        "text/html": "Total execution time: 00:00:00"
                    },
                    "metadata": {}
                }
            ],
            "execution_count": 214
        },
        {
            "cell_type": "markdown",
            "source": [
                "#### Using RANGE as a frame type\n",
                "\n",
                "\n",
                "\n",
                ""
            ],
            "metadata": {
                "azdata_cell_guid": "cf1d6693-bef5-4c2b-b4bb-ca141290b00c"
            },
            "attachments": {}
        },
        {
            "cell_type": "code",
            "source": [
                "select customerid, orderid, orderdate, netamount,\n",
                "sum(netamount) over (\n",
                "    order by ordredate\n",
                "    range between '2 days' preceding and '2 days' following\n",
                ")\n",
                "from orders\n",
                "where orderdate between '1 Dec 2009' and '31 Dec 2009'\n",
                "limit 5;"
            ],
            "metadata": {
                "azdata_cell_guid": "f1381ae5-4212-416c-a77b-c197f8be9b0f",
                "language": "sql"
            },
            "outputs": [],
            "execution_count": null
        },
        {
            "cell_type": "markdown",
            "source": [
                "#### Using GROUPS and EXCLUDE\n",
                "\n",
                "\n",
                "(range | rows | groups)  frame_start [frame_exclusion]\n",
                "\n",
                "exclude current row\n",
                "\n",
                "exclude group\n",
                "\n",
                "exclude ties\n",
                "\n",
                "exclude no others"
            ],
            "metadata": {
                "language": "sql",
                "azdata_cell_guid": "6eb41126-256e-4c6b-a097-fa2b245fb53c"
            },
            "attachments": {}
        },
        {
            "cell_type": "markdown",
            "source": [
                "## Syntax review and naming windows"
            ],
            "metadata": {
                "language": "sql",
                "azdata_cell_guid": "ab345242-2014-4453-88e9-02a01f3cb6ae"
            },
            "attachments": {}
        },
        {
            "cell_type": "code",
            "source": [
                "select \n",
                "    window_function(exp1, exp2,...)  -- 0 or more arguments, including *(e.g, for count)\n",
                "    filter (where filter_clause) -- optional\n",
                "    over (\n",
                "        partition by exp1, exp2,...\n",
                "        order by exp1, exp2...\n",
                "        { RANGE | ROWS | GROUPS } -- optional clause, choose one type\n",
                "        {\n",
                "            frame_start\n",
                "            | frame_start frame_exclusion\n",
                "            | between frame_start and frame_end\n",
                "            | between frame_start and frame_end frame_exclusion\n",
                "        }\n",
                "    )\n",
                "frame_start and frame_end:\n",
                "    unbounded preceding\n",
                "    offset preceding -- offset can be numeric or interval(for dates)\n",
                "    current ROW\n",
                "    offset following\n",
                "    unbounded following\n",
                "\n",
                "frame_exclusion:\n",
                "\n",
                "exclude {current_row | group | ties | no others }\n",
                ""
            ],
            "metadata": {
                "language": "sql",
                "azdata_cell_guid": "e27d936c-fc08-49c5-8e81-144f828b48e9"
            },
            "outputs": [],
            "execution_count": null
        },
        {
            "cell_type": "markdown",
            "source": [
                "## Window clause"
            ],
            "metadata": {
                "language": "sql",
                "azdata_cell_guid": "0eacfc73-c060-4c4d-9a79-183ae8011bfc"
            },
            "attachments": {}
        },
        {
            "cell_type": "code",
            "source": [
                "SELECT a,\n",
                "       n,\n",
                "       LAG(n) OVER w1          AS \"Previous row\",\n",
                "       LEAD(n) OVER w1         AS \"Next row\",\n",
                "       LAG(n, 2) OVER w2       AS \"Lag by 2, DESC\",\n",
                "       LEAD(n, 2, 42) OVER w2  AS \"Default value\",\n",
                "       FIRST_VALUE(n) OVER w1,\n",
                "       LAST_VALUE(n) OVER w1,\n",
                "       NTH_VALUE(n, 2) OVER w2 AS \"2end from end\",\n",
                "       ROW_NUMBER() OVER w1    AS \"rn\"\n",
                "FROM (VALUES ('a', 1), ('a', 2), ('b', 1), ('b', 2), ('b', 3)) v(a, n)\n",
                "WINDOW w1 AS (PARTITION BY a ORDER BY n ASC),\n",
                "       w2 AS (PARTITION BY a ORDER BY n DESC)\n",
                "ORDER BY a, n;\n",
                ""
            ],
            "metadata": {
                "language": "sql",
                "azdata_cell_guid": "faaf3450-23f2-4ae6-87bd-38c87dc3bbf7"
            },
            "outputs": [
                {
                    "output_type": "display_data",
                    "data": {
                        "text/html": "(5 row(s) affected)"
                    },
                    "metadata": {}
                },
                {
                    "output_type": "display_data",
                    "data": {
                        "text/html": "Total execution time: 00:00:00.001"
                    },
                    "metadata": {}
                },
                {
                    "output_type": "execute_result",
                    "metadata": {},
                    "execution_count": 215,
                    "data": {
                        "application/vnd.dataresource+json": {
                            "schema": {
                                "fields": [
                                    {
                                        "name": "a"
                                    },
                                    {
                                        "name": "n"
                                    },
                                    {
                                        "name": "Previous row"
                                    },
                                    {
                                        "name": "Next row"
                                    },
                                    {
                                        "name": "Lag by 2, DESC"
                                    },
                                    {
                                        "name": "Default value"
                                    },
                                    {
                                        "name": "first_value"
                                    },
                                    {
                                        "name": "last_value"
                                    },
                                    {
                                        "name": "2end from end"
                                    },
                                    {
                                        "name": "rn"
                                    }
                                ]
                            },
                            "data": [
                                {
                                    "a": "a",
                                    "n": "1",
                                    "Previous row": "NULL",
                                    "Next row": "2",
                                    "Lag by 2, DESC": "NULL",
                                    "Default value": "42",
                                    "first_value": "1",
                                    "last_value": "1",
                                    "2end from end": "1",
                                    "rn": "1"
                                },
                                {
                                    "a": "a",
                                    "n": "2",
                                    "Previous row": "1",
                                    "Next row": "NULL",
                                    "Lag by 2, DESC": "NULL",
                                    "Default value": "42",
                                    "first_value": "1",
                                    "last_value": "2",
                                    "2end from end": "NULL",
                                    "rn": "2"
                                },
                                {
                                    "a": "b",
                                    "n": "1",
                                    "Previous row": "NULL",
                                    "Next row": "2",
                                    "Lag by 2, DESC": "3",
                                    "Default value": "42",
                                    "first_value": "1",
                                    "last_value": "1",
                                    "2end from end": "2",
                                    "rn": "1"
                                },
                                {
                                    "a": "b",
                                    "n": "2",
                                    "Previous row": "1",
                                    "Next row": "3",
                                    "Lag by 2, DESC": "NULL",
                                    "Default value": "42",
                                    "first_value": "1",
                                    "last_value": "2",
                                    "2end from end": "2",
                                    "rn": "2"
                                },
                                {
                                    "a": "b",
                                    "n": "3",
                                    "Previous row": "2",
                                    "Next row": "NULL",
                                    "Lag by 2, DESC": "NULL",
                                    "Default value": "1",
                                    "first_value": "1",
                                    "last_value": "3",
                                    "2end from end": "NULL",
                                    "rn": "3"
                                }
                            ]
                        },
                        "text/html": [
                            "<table>",
                            "<tr><th>a</th><th>n</th><th>Previous row</th><th>Next row</th><th>Lag by 2, DESC</th><th>Default value</th><th>first_value</th><th>last_value</th><th>2end from end</th><th>rn</th></tr>",
                            "<tr><td>a</td><td>1</td><td>NULL</td><td>2</td><td>NULL</td><td>42</td><td>1</td><td>1</td><td>1</td><td>1</td></tr>",
                            "<tr><td>a</td><td>2</td><td>1</td><td>NULL</td><td>NULL</td><td>42</td><td>1</td><td>2</td><td>NULL</td><td>2</td></tr>",
                            "<tr><td>b</td><td>1</td><td>NULL</td><td>2</td><td>3</td><td>42</td><td>1</td><td>1</td><td>2</td><td>1</td></tr>",
                            "<tr><td>b</td><td>2</td><td>1</td><td>3</td><td>NULL</td><td>42</td><td>1</td><td>2</td><td>2</td><td>2</td></tr>",
                            "<tr><td>b</td><td>3</td><td>2</td><td>NULL</td><td>NULL</td><td>1</td><td>1</td><td>3</td><td>NULL</td><td>3</td></tr>",
                            "</table>"
                        ]
                    }
                }
            ],
            "execution_count": 215
        }
    ]
}